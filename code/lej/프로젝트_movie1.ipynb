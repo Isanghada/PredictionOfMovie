{
 "cells": [
  {
   "cell_type": "code",
   "execution_count": 22,
   "id": "57ca6f93",
   "metadata": {},
   "outputs": [],
   "source": [
    "import pandas as pd\n",
    "import lightgbm as lgb\n",
    "import seaborn as sns\n",
    "import matplotlib.pyplot as plt\n",
    "%matplotlib inline\n",
    "from matplotlib import rc\n",
    "rc(\"font\", family=\"Malgun Gothic\")"
   ]
  },
  {
   "cell_type": "code",
   "execution_count": 2,
   "id": "8c475bd2",
   "metadata": {},
   "outputs": [],
   "source": [
    "movie2011_2019 = pd.read_excel('../data/all2011_2019.xlsx', index_col = 0)\n",
    "movie2020 = pd.read_excel('../data/all2020.xlsx', index_col = 0)"
   ]
  },
  {
   "cell_type": "code",
   "execution_count": 3,
   "id": "09d62766",
   "metadata": {},
   "outputs": [
    {
     "data": {
      "text/html": [
       "<div>\n",
       "<style scoped>\n",
       "    .dataframe tbody tr th:only-of-type {\n",
       "        vertical-align: middle;\n",
       "    }\n",
       "\n",
       "    .dataframe tbody tr th {\n",
       "        vertical-align: top;\n",
       "    }\n",
       "\n",
       "    .dataframe thead th {\n",
       "        text-align: right;\n",
       "    }\n",
       "</style>\n",
       "<table border=\"1\" class=\"dataframe\">\n",
       "  <thead>\n",
       "    <tr style=\"text-align: right;\">\n",
       "      <th></th>\n",
       "      <th>영화명</th>\n",
       "      <th>감독</th>\n",
       "      <th>제작사</th>\n",
       "      <th>수입사</th>\n",
       "      <th>배급사</th>\n",
       "      <th>개봉일</th>\n",
       "      <th>영화유형</th>\n",
       "      <th>영화형태</th>\n",
       "      <th>국적</th>\n",
       "      <th>전국스크린수</th>\n",
       "      <th>...</th>\n",
       "      <th>전국관객수</th>\n",
       "      <th>서울매출액</th>\n",
       "      <th>서울관객수</th>\n",
       "      <th>장르</th>\n",
       "      <th>등급</th>\n",
       "      <th>영화구분</th>\n",
       "      <th>주연배우</th>\n",
       "      <th>평점</th>\n",
       "      <th>평가자수</th>\n",
       "      <th>상영시간</th>\n",
       "    </tr>\n",
       "  </thead>\n",
       "  <tbody>\n",
       "    <tr>\n",
       "      <th>0</th>\n",
       "      <td>33</td>\n",
       "      <td>패트리시아 리건</td>\n",
       "      <td>NaN</td>\n",
       "      <td>(주)나이너스엔터테인먼트</td>\n",
       "      <td>(주)나이너스엔터테인먼트</td>\n",
       "      <td>2016-04-07</td>\n",
       "      <td>개봉영화</td>\n",
       "      <td>장편</td>\n",
       "      <td>미국</td>\n",
       "      <td>320</td>\n",
       "      <td>...</td>\n",
       "      <td>29728</td>\n",
       "      <td>68233700</td>\n",
       "      <td>8707</td>\n",
       "      <td>드라마</td>\n",
       "      <td>12세이상관람가</td>\n",
       "      <td>일반영화</td>\n",
       "      <td>['안토니오 반데라스', ' 로드리고 산토로', ' 줄리엣 비노쉬']</td>\n",
       "      <td>8.56</td>\n",
       "      <td>241</td>\n",
       "      <td>126</td>\n",
       "    </tr>\n",
       "    <tr>\n",
       "      <th>1</th>\n",
       "      <td>1987</td>\n",
       "      <td>장준환</td>\n",
       "      <td>(주)우정필름</td>\n",
       "      <td>NaN</td>\n",
       "      <td>(주)씨제이이엔엠</td>\n",
       "      <td>2017-12-27</td>\n",
       "      <td>개봉영화</td>\n",
       "      <td>장편</td>\n",
       "      <td>한국</td>\n",
       "      <td>1299</td>\n",
       "      <td>...</td>\n",
       "      <td>7231638</td>\n",
       "      <td>14638920495</td>\n",
       "      <td>1776877</td>\n",
       "      <td>드라마</td>\n",
       "      <td>15세이상관람가</td>\n",
       "      <td>일반영화</td>\n",
       "      <td>['김윤석', ' 하정우', ' 유해진', ' 김태리', ' 박희순', ' 이희준']</td>\n",
       "      <td>9.23</td>\n",
       "      <td>33618</td>\n",
       "      <td>129</td>\n",
       "    </tr>\n",
       "  </tbody>\n",
       "</table>\n",
       "<p>2 rows × 21 columns</p>\n",
       "</div>"
      ],
      "text/plain": [
       "    영화명        감독      제작사            수입사            배급사        개봉일  영화유형  \\\n",
       "0    33  패트리시아 리건      NaN  (주)나이너스엔터테인먼트  (주)나이너스엔터테인먼트 2016-04-07  개봉영화   \n",
       "1  1987       장준환  (주)우정필름            NaN      (주)씨제이이엔엠 2017-12-27  개봉영화   \n",
       "\n",
       "  영화형태  국적  전국스크린수  ...    전국관객수        서울매출액    서울관객수   장르        등급  영화구분  \\\n",
       "0   장편  미국     320  ...    29728     68233700     8707  드라마  12세이상관람가  일반영화   \n",
       "1   장편  한국    1299  ...  7231638  14638920495  1776877  드라마  15세이상관람가  일반영화   \n",
       "\n",
       "                                              주연배우    평점   평가자수  상영시간  \n",
       "0           ['안토니오 반데라스', ' 로드리고 산토로', ' 줄리엣 비노쉬']  8.56    241   126  \n",
       "1  ['김윤석', ' 하정우', ' 유해진', ' 김태리', ' 박희순', ' 이희준']  9.23  33618   129  \n",
       "\n",
       "[2 rows x 21 columns]"
      ]
     },
     "execution_count": 3,
     "metadata": {},
     "output_type": "execute_result"
    }
   ],
   "source": [
    "movie2011_2019.head(2)"
   ]
  },
  {
   "cell_type": "code",
   "execution_count": 4,
   "id": "40b05b34",
   "metadata": {},
   "outputs": [
    {
     "data": {
      "text/html": [
       "<div>\n",
       "<style scoped>\n",
       "    .dataframe tbody tr th:only-of-type {\n",
       "        vertical-align: middle;\n",
       "    }\n",
       "\n",
       "    .dataframe tbody tr th {\n",
       "        vertical-align: top;\n",
       "    }\n",
       "\n",
       "    .dataframe thead th {\n",
       "        text-align: right;\n",
       "    }\n",
       "</style>\n",
       "<table border=\"1\" class=\"dataframe\">\n",
       "  <thead>\n",
       "    <tr style=\"text-align: right;\">\n",
       "      <th></th>\n",
       "      <th>영화명</th>\n",
       "      <th>감독</th>\n",
       "      <th>제작사</th>\n",
       "      <th>수입사</th>\n",
       "      <th>배급사</th>\n",
       "      <th>개봉일</th>\n",
       "      <th>영화유형</th>\n",
       "      <th>영화형태</th>\n",
       "      <th>국적</th>\n",
       "      <th>전국스크린수</th>\n",
       "      <th>...</th>\n",
       "      <th>전국관객수</th>\n",
       "      <th>서울매출액</th>\n",
       "      <th>서울관객수</th>\n",
       "      <th>장르</th>\n",
       "      <th>등급</th>\n",
       "      <th>영화구분</th>\n",
       "      <th>주연배우</th>\n",
       "      <th>평점</th>\n",
       "      <th>평가자수</th>\n",
       "      <th>상영시간</th>\n",
       "    </tr>\n",
       "  </thead>\n",
       "  <tbody>\n",
       "    <tr>\n",
       "      <th>1</th>\n",
       "      <td>800</td>\n",
       "      <td>관후</td>\n",
       "      <td>NaN</td>\n",
       "      <td>(주)퍼스트런</td>\n",
       "      <td>TCO(주)더콘텐츠온,(주)디스테이션</td>\n",
       "      <td>2020-12-10</td>\n",
       "      <td>개봉영화</td>\n",
       "      <td>장편</td>\n",
       "      <td>중국</td>\n",
       "      <td>223</td>\n",
       "      <td>...</td>\n",
       "      <td>16625</td>\n",
       "      <td>43872500</td>\n",
       "      <td>5010</td>\n",
       "      <td>전쟁</td>\n",
       "      <td>15세이상관람가</td>\n",
       "      <td>일반영화</td>\n",
       "      <td>['어우 하오', ' 두순', ' 장유호', ' 당예흔', ' 강무', ' 야오천'...</td>\n",
       "      <td>3.40</td>\n",
       "      <td>693</td>\n",
       "      <td>149</td>\n",
       "    </tr>\n",
       "    <tr>\n",
       "      <th>2</th>\n",
       "      <td>1917</td>\n",
       "      <td>샘 멘데스</td>\n",
       "      <td>NaN</td>\n",
       "      <td>(주)씨제이이엔엠</td>\n",
       "      <td>(주)스마일이엔티</td>\n",
       "      <td>2020-02-19</td>\n",
       "      <td>개봉영화</td>\n",
       "      <td>장편</td>\n",
       "      <td>미국</td>\n",
       "      <td>932</td>\n",
       "      <td>...</td>\n",
       "      <td>870451</td>\n",
       "      <td>3123054760</td>\n",
       "      <td>325790</td>\n",
       "      <td>드라마</td>\n",
       "      <td>15세이상관람가</td>\n",
       "      <td>일반영화</td>\n",
       "      <td>['조지 맥케이', ' 딘-찰스 채프먼']</td>\n",
       "      <td>8.89</td>\n",
       "      <td>6279</td>\n",
       "      <td>119</td>\n",
       "    </tr>\n",
       "  </tbody>\n",
       "</table>\n",
       "<p>2 rows × 21 columns</p>\n",
       "</div>"
      ],
      "text/plain": [
       "    영화명     감독  제작사        수입사                   배급사        개봉일  영화유형 영화형태  \\\n",
       "1   800     관후  NaN    (주)퍼스트런  TCO(주)더콘텐츠온,(주)디스테이션 2020-12-10  개봉영화   장편   \n",
       "2  1917  샘 멘데스  NaN  (주)씨제이이엔엠             (주)스마일이엔티 2020-02-19  개봉영화   장편   \n",
       "\n",
       "   국적  전국스크린수  ...   전국관객수       서울매출액   서울관객수   장르        등급  영화구분  \\\n",
       "1  중국     223  ...   16625    43872500    5010   전쟁  15세이상관람가  일반영화   \n",
       "2  미국     932  ...  870451  3123054760  325790  드라마  15세이상관람가  일반영화   \n",
       "\n",
       "                                                주연배우    평점  평가자수  상영시간  \n",
       "1  ['어우 하오', ' 두순', ' 장유호', ' 당예흔', ' 강무', ' 야오천'...  3.40   693   149  \n",
       "2                            ['조지 맥케이', ' 딘-찰스 채프먼']  8.89  6279   119  \n",
       "\n",
       "[2 rows x 21 columns]"
      ]
     },
     "execution_count": 4,
     "metadata": {},
     "output_type": "execute_result"
    }
   ],
   "source": [
    "movie2020.head(2)"
   ]
  },
  {
   "cell_type": "code",
   "execution_count": 5,
   "id": "87f78263",
   "metadata": {},
   "outputs": [],
   "source": [
    "# 필요없는 컬럼 정리\n",
    "movie2011_2019 = movie2011_2019.drop(['제작사', '수입사', '서울매출액', '서울관객수'], axis = 1)\n",
    "movie2020 = movie2020.drop(['제작사', '수입사', '서울매출액', '서울관객수'], axis = 1)"
   ]
  },
  {
   "cell_type": "code",
   "execution_count": 6,
   "id": "7051c574",
   "metadata": {
    "scrolled": true
   },
   "outputs": [
    {
     "data": {
      "text/html": [
       "<div>\n",
       "<style scoped>\n",
       "    .dataframe tbody tr th:only-of-type {\n",
       "        vertical-align: middle;\n",
       "    }\n",
       "\n",
       "    .dataframe tbody tr th {\n",
       "        vertical-align: top;\n",
       "    }\n",
       "\n",
       "    .dataframe thead th {\n",
       "        text-align: right;\n",
       "    }\n",
       "</style>\n",
       "<table border=\"1\" class=\"dataframe\">\n",
       "  <thead>\n",
       "    <tr style=\"text-align: right;\">\n",
       "      <th></th>\n",
       "      <th>영화명</th>\n",
       "      <th>감독</th>\n",
       "      <th>배급사</th>\n",
       "      <th>개봉일</th>\n",
       "      <th>영화유형</th>\n",
       "      <th>영화형태</th>\n",
       "      <th>국적</th>\n",
       "      <th>전국스크린수</th>\n",
       "      <th>전국매출액</th>\n",
       "      <th>전국관객수</th>\n",
       "      <th>장르</th>\n",
       "      <th>등급</th>\n",
       "      <th>영화구분</th>\n",
       "      <th>주연배우</th>\n",
       "      <th>평점</th>\n",
       "      <th>평가자수</th>\n",
       "      <th>상영시간</th>\n",
       "    </tr>\n",
       "  </thead>\n",
       "  <tbody>\n",
       "    <tr>\n",
       "      <th>0</th>\n",
       "      <td>33</td>\n",
       "      <td>패트리시아 리건</td>\n",
       "      <td>(주)나이너스엔터테인먼트</td>\n",
       "      <td>2016-04-07</td>\n",
       "      <td>개봉영화</td>\n",
       "      <td>장편</td>\n",
       "      <td>미국</td>\n",
       "      <td>320</td>\n",
       "      <td>228351400</td>\n",
       "      <td>29728</td>\n",
       "      <td>드라마</td>\n",
       "      <td>12세이상관람가</td>\n",
       "      <td>일반영화</td>\n",
       "      <td>['안토니오 반데라스', ' 로드리고 산토로', ' 줄리엣 비노쉬']</td>\n",
       "      <td>8.56</td>\n",
       "      <td>241</td>\n",
       "      <td>126</td>\n",
       "    </tr>\n",
       "    <tr>\n",
       "      <th>1</th>\n",
       "      <td>1987</td>\n",
       "      <td>장준환</td>\n",
       "      <td>(주)씨제이이엔엠</td>\n",
       "      <td>2017-12-27</td>\n",
       "      <td>개봉영화</td>\n",
       "      <td>장편</td>\n",
       "      <td>한국</td>\n",
       "      <td>1299</td>\n",
       "      <td>58165581145</td>\n",
       "      <td>7231638</td>\n",
       "      <td>드라마</td>\n",
       "      <td>15세이상관람가</td>\n",
       "      <td>일반영화</td>\n",
       "      <td>['김윤석', ' 하정우', ' 유해진', ' 김태리', ' 박희순', ' 이희준']</td>\n",
       "      <td>9.23</td>\n",
       "      <td>33618</td>\n",
       "      <td>129</td>\n",
       "    </tr>\n",
       "  </tbody>\n",
       "</table>\n",
       "</div>"
      ],
      "text/plain": [
       "    영화명        감독            배급사        개봉일  영화유형 영화형태  국적  전국스크린수  \\\n",
       "0    33  패트리시아 리건  (주)나이너스엔터테인먼트 2016-04-07  개봉영화   장편  미국     320   \n",
       "1  1987       장준환      (주)씨제이이엔엠 2017-12-27  개봉영화   장편  한국    1299   \n",
       "\n",
       "         전국매출액    전국관객수   장르        등급  영화구분  \\\n",
       "0    228351400    29728  드라마  12세이상관람가  일반영화   \n",
       "1  58165581145  7231638  드라마  15세이상관람가  일반영화   \n",
       "\n",
       "                                              주연배우    평점   평가자수  상영시간  \n",
       "0           ['안토니오 반데라스', ' 로드리고 산토로', ' 줄리엣 비노쉬']  8.56    241   126  \n",
       "1  ['김윤석', ' 하정우', ' 유해진', ' 김태리', ' 박희순', ' 이희준']  9.23  33618   129  "
      ]
     },
     "execution_count": 6,
     "metadata": {},
     "output_type": "execute_result"
    }
   ],
   "source": [
    "movie2011_2019.head(2)"
   ]
  },
  {
   "cell_type": "code",
   "execution_count": 7,
   "id": "16e1f4f1",
   "metadata": {
    "scrolled": true
   },
   "outputs": [
    {
     "data": {
      "text/html": [
       "<div>\n",
       "<style scoped>\n",
       "    .dataframe tbody tr th:only-of-type {\n",
       "        vertical-align: middle;\n",
       "    }\n",
       "\n",
       "    .dataframe tbody tr th {\n",
       "        vertical-align: top;\n",
       "    }\n",
       "\n",
       "    .dataframe thead th {\n",
       "        text-align: right;\n",
       "    }\n",
       "</style>\n",
       "<table border=\"1\" class=\"dataframe\">\n",
       "  <thead>\n",
       "    <tr style=\"text-align: right;\">\n",
       "      <th></th>\n",
       "      <th>영화명</th>\n",
       "      <th>감독</th>\n",
       "      <th>배급사</th>\n",
       "      <th>개봉일</th>\n",
       "      <th>영화유형</th>\n",
       "      <th>영화형태</th>\n",
       "      <th>국적</th>\n",
       "      <th>전국스크린수</th>\n",
       "      <th>전국매출액</th>\n",
       "      <th>전국관객수</th>\n",
       "      <th>장르</th>\n",
       "      <th>등급</th>\n",
       "      <th>영화구분</th>\n",
       "      <th>주연배우</th>\n",
       "      <th>평점</th>\n",
       "      <th>평가자수</th>\n",
       "      <th>상영시간</th>\n",
       "    </tr>\n",
       "  </thead>\n",
       "  <tbody>\n",
       "    <tr>\n",
       "      <th>1</th>\n",
       "      <td>800</td>\n",
       "      <td>관후</td>\n",
       "      <td>TCO(주)더콘텐츠온,(주)디스테이션</td>\n",
       "      <td>2020-12-10</td>\n",
       "      <td>개봉영화</td>\n",
       "      <td>장편</td>\n",
       "      <td>중국</td>\n",
       "      <td>223</td>\n",
       "      <td>141698200</td>\n",
       "      <td>16625</td>\n",
       "      <td>전쟁</td>\n",
       "      <td>15세이상관람가</td>\n",
       "      <td>일반영화</td>\n",
       "      <td>['어우 하오', ' 두순', ' 장유호', ' 당예흔', ' 강무', ' 야오천'...</td>\n",
       "      <td>3.40</td>\n",
       "      <td>693</td>\n",
       "      <td>149</td>\n",
       "    </tr>\n",
       "    <tr>\n",
       "      <th>2</th>\n",
       "      <td>1917</td>\n",
       "      <td>샘 멘데스</td>\n",
       "      <td>(주)스마일이엔티</td>\n",
       "      <td>2020-02-19</td>\n",
       "      <td>개봉영화</td>\n",
       "      <td>장편</td>\n",
       "      <td>미국</td>\n",
       "      <td>932</td>\n",
       "      <td>7872002760</td>\n",
       "      <td>870451</td>\n",
       "      <td>드라마</td>\n",
       "      <td>15세이상관람가</td>\n",
       "      <td>일반영화</td>\n",
       "      <td>['조지 맥케이', ' 딘-찰스 채프먼']</td>\n",
       "      <td>8.89</td>\n",
       "      <td>6279</td>\n",
       "      <td>119</td>\n",
       "    </tr>\n",
       "  </tbody>\n",
       "</table>\n",
       "</div>"
      ],
      "text/plain": [
       "    영화명     감독                   배급사        개봉일  영화유형 영화형태  국적  전국스크린수  \\\n",
       "1   800     관후  TCO(주)더콘텐츠온,(주)디스테이션 2020-12-10  개봉영화   장편  중국     223   \n",
       "2  1917  샘 멘데스             (주)스마일이엔티 2020-02-19  개봉영화   장편  미국     932   \n",
       "\n",
       "        전국매출액   전국관객수   장르        등급  영화구분  \\\n",
       "1   141698200   16625   전쟁  15세이상관람가  일반영화   \n",
       "2  7872002760  870451  드라마  15세이상관람가  일반영화   \n",
       "\n",
       "                                                주연배우    평점  평가자수  상영시간  \n",
       "1  ['어우 하오', ' 두순', ' 장유호', ' 당예흔', ' 강무', ' 야오천'...  3.40   693   149  \n",
       "2                            ['조지 맥케이', ' 딘-찰스 채프먼']  8.89  6279   119  "
      ]
     },
     "execution_count": 7,
     "metadata": {},
     "output_type": "execute_result"
    }
   ],
   "source": [
    "movie2020.head(2)"
   ]
  },
  {
   "cell_type": "code",
   "execution_count": 8,
   "id": "dd835848",
   "metadata": {},
   "outputs": [
    {
     "data": {
      "text/plain": [
       "영화명       0\n",
       "감독        0\n",
       "배급사       1\n",
       "개봉일       0\n",
       "영화유형      0\n",
       "영화형태      0\n",
       "국적        0\n",
       "전국스크린수    0\n",
       "전국매출액     0\n",
       "전국관객수     0\n",
       "장르        0\n",
       "등급        0\n",
       "영화구분      0\n",
       "주연배우      0\n",
       "평점        0\n",
       "평가자수      0\n",
       "상영시간      0\n",
       "dtype: int64"
      ]
     },
     "execution_count": 8,
     "metadata": {},
     "output_type": "execute_result"
    }
   ],
   "source": [
    "# movie2011_2019 배급사 결측치\n",
    "movie2011_2019.isnull().sum()"
   ]
  },
  {
   "cell_type": "code",
   "execution_count": 9,
   "id": "daa9d540",
   "metadata": {},
   "outputs": [],
   "source": [
    "# 결측치 처리\n",
    "movie2011_2019['배급사'].fillna('기타', inplace=True)"
   ]
  },
  {
   "cell_type": "code",
   "execution_count": 10,
   "id": "5d691fc0",
   "metadata": {},
   "outputs": [
    {
     "data": {
      "text/plain": [
       "영화명       0\n",
       "감독        0\n",
       "배급사       0\n",
       "개봉일       0\n",
       "영화유형      0\n",
       "영화형태      0\n",
       "국적        0\n",
       "전국스크린수    0\n",
       "전국매출액     0\n",
       "전국관객수     0\n",
       "장르        0\n",
       "등급        0\n",
       "영화구분      0\n",
       "주연배우      0\n",
       "평점        0\n",
       "평가자수      0\n",
       "상영시간      0\n",
       "dtype: int64"
      ]
     },
     "execution_count": 10,
     "metadata": {},
     "output_type": "execute_result"
    }
   ],
   "source": [
    "# movie2011_2019 배급사 결측치 처리\n",
    "movie2011_2019.isnull().sum()"
   ]
  },
  {
   "cell_type": "code",
   "execution_count": 11,
   "id": "e4dbe623",
   "metadata": {},
   "outputs": [
    {
     "data": {
      "text/plain": [
       "영화명       0\n",
       "감독        0\n",
       "배급사       0\n",
       "개봉일       0\n",
       "영화유형      0\n",
       "영화형태      0\n",
       "국적        0\n",
       "전국스크린수    0\n",
       "전국매출액     0\n",
       "전국관객수     0\n",
       "장르        0\n",
       "등급        0\n",
       "영화구분      0\n",
       "주연배우      0\n",
       "평점        0\n",
       "평가자수      0\n",
       "상영시간      0\n",
       "dtype: int64"
      ]
     },
     "execution_count": 11,
     "metadata": {},
     "output_type": "execute_result"
    }
   ],
   "source": [
    "# movie2020은 결측치 없음\n",
    "movie2020.isnull().sum()"
   ]
  },
  {
   "cell_type": "code",
   "execution_count": 12,
   "id": "78074726",
   "metadata": {},
   "outputs": [
    {
     "name": "stdout",
     "output_type": "stream",
     "text": [
      "<class 'pandas.core.frame.DataFrame'>\n",
      "Int64Index: 2177 entries, 0 to 2176\n",
      "Data columns (total 17 columns):\n",
      " #   Column  Non-Null Count  Dtype         \n",
      "---  ------  --------------  -----         \n",
      " 0   영화명     2177 non-null   object        \n",
      " 1   감독      2177 non-null   object        \n",
      " 2   배급사     2177 non-null   object        \n",
      " 3   개봉일     2177 non-null   datetime64[ns]\n",
      " 4   영화유형    2177 non-null   object        \n",
      " 5   영화형태    2177 non-null   object        \n",
      " 6   국적      2177 non-null   object        \n",
      " 7   전국스크린수  2177 non-null   int64         \n",
      " 8   전국매출액   2177 non-null   int64         \n",
      " 9   전국관객수   2177 non-null   int64         \n",
      " 10  장르      2177 non-null   object        \n",
      " 11  등급      2177 non-null   object        \n",
      " 12  영화구분    2177 non-null   object        \n",
      " 13  주연배우    2177 non-null   object        \n",
      " 14  평점      2177 non-null   float64       \n",
      " 15  평가자수    2177 non-null   int64         \n",
      " 16  상영시간    2177 non-null   int64         \n",
      "dtypes: datetime64[ns](1), float64(1), int64(5), object(10)\n",
      "memory usage: 306.1+ KB\n"
     ]
    }
   ],
   "source": [
    "movie2011_2019.info()"
   ]
  },
  {
   "cell_type": "code",
   "execution_count": 13,
   "id": "4337c82e",
   "metadata": {},
   "outputs": [
    {
     "name": "stdout",
     "output_type": "stream",
     "text": [
      "<class 'pandas.core.frame.DataFrame'>\n",
      "Int64Index: 237 entries, 1 to 2412\n",
      "Data columns (total 17 columns):\n",
      " #   Column  Non-Null Count  Dtype         \n",
      "---  ------  --------------  -----         \n",
      " 0   영화명     237 non-null    object        \n",
      " 1   감독      237 non-null    object        \n",
      " 2   배급사     237 non-null    object        \n",
      " 3   개봉일     237 non-null    datetime64[ns]\n",
      " 4   영화유형    237 non-null    object        \n",
      " 5   영화형태    237 non-null    object        \n",
      " 6   국적      237 non-null    object        \n",
      " 7   전국스크린수  237 non-null    int64         \n",
      " 8   전국매출액   237 non-null    int64         \n",
      " 9   전국관객수   237 non-null    int64         \n",
      " 10  장르      237 non-null    object        \n",
      " 11  등급      237 non-null    object        \n",
      " 12  영화구분    237 non-null    object        \n",
      " 13  주연배우    237 non-null    object        \n",
      " 14  평점      237 non-null    float64       \n",
      " 15  평가자수    237 non-null    int64         \n",
      " 16  상영시간    237 non-null    int64         \n",
      "dtypes: datetime64[ns](1), float64(1), int64(5), object(10)\n",
      "memory usage: 33.3+ KB\n"
     ]
    }
   ],
   "source": [
    "movie2020.info()"
   ]
  },
  {
   "cell_type": "markdown",
   "id": "fac3bc6c",
   "metadata": {},
   "source": [
    "- 2011년 ~ 2019년 : 총 2177개의 인덱스와 16개의 컬럼\n",
    "- 2020년 : 총 237개의 인덱스와 16개의 컬럼\n",
    "---"
   ]
  },
  {
   "cell_type": "code",
   "execution_count": 14,
   "id": "14e0f6e1",
   "metadata": {},
   "outputs": [
    {
     "name": "stdout",
     "output_type": "stream",
     "text": [
      "컬럼 [영화명] UNIQUE : 2168\n",
      "컬럼 [감독] UNIQUE : 1486\n",
      "컬럼 [배급사] UNIQUE : 303\n",
      "컬럼 [영화유형] UNIQUE : 1\n",
      "컬럼 [영화형태] UNIQUE : 2\n",
      "컬럼 [국적] UNIQUE : 39\n",
      "컬럼 [장르] UNIQUE : 20\n",
      "컬럼 [등급] UNIQUE : 5\n",
      "컬럼 [영화구분] UNIQUE : 2\n"
     ]
    }
   ],
   "source": [
    "# 2011 - 2019\n",
    "category_cols = ['영화명','감독','배급사','영화유형','영화형태','국적','장르','등급','영화구분',]\n",
    "\n",
    "# 범주형 데이터의 unique 확인\n",
    "for col in category_cols:\n",
    "    print('컬럼 [{}] UNIQUE : {}'.format(col, len(movie2011_2019[col].unique())))"
   ]
  },
  {
   "cell_type": "code",
   "execution_count": 15,
   "id": "384a8476",
   "metadata": {},
   "outputs": [
    {
     "name": "stdout",
     "output_type": "stream",
     "text": [
      "컬럼 [영화명] UNIQUE : 237\n",
      "컬럼 [감독] UNIQUE : 227\n",
      "컬럼 [배급사] UNIQUE : 89\n",
      "컬럼 [영화유형] UNIQUE : 1\n",
      "컬럼 [영화형태] UNIQUE : 2\n",
      "컬럼 [국적] UNIQUE : 18\n",
      "컬럼 [장르] UNIQUE : 18\n",
      "컬럼 [등급] UNIQUE : 5\n",
      "컬럼 [영화구분] UNIQUE : 2\n"
     ]
    }
   ],
   "source": [
    "# 2020\n",
    "category_cols = ['영화명','감독','배급사','영화유형','영화형태','국적','장르','등급','영화구분',]\n",
    "\n",
    "# 범주형 데이터의 unique 확인\n",
    "for col in category_cols:\n",
    "    print('컬럼 [{}] UNIQUE : {}'.format(col, len(movie2020[col].unique())))"
   ]
  },
  {
   "cell_type": "code",
   "execution_count": 16,
   "id": "ff589738",
   "metadata": {},
   "outputs": [
    {
     "data": {
      "text/plain": [
       "array(['드라마', '공포(호러)', '액션', '애니메이션', '다큐멘터리', '코미디', '스릴러', 'SF',\n",
       "       '어드벤처', '멜로/로맨스', '사극', '범죄', '미스터리', '판타지', '가족', '뮤지컬', '전쟁',\n",
       "       '공연', '기타', '서부극(웨스턴)'], dtype=object)"
      ]
     },
     "execution_count": 16,
     "metadata": {},
     "output_type": "execute_result"
    }
   ],
   "source": [
    "movie2011_2019['장르'].unique()"
   ]
  },
  {
   "cell_type": "code",
   "execution_count": 17,
   "id": "40ad0e73",
   "metadata": {},
   "outputs": [
    {
     "data": {
      "text/html": [
       "<div>\n",
       "<style scoped>\n",
       "    .dataframe tbody tr th:only-of-type {\n",
       "        vertical-align: middle;\n",
       "    }\n",
       "\n",
       "    .dataframe tbody tr th {\n",
       "        vertical-align: top;\n",
       "    }\n",
       "\n",
       "    .dataframe thead th {\n",
       "        text-align: right;\n",
       "    }\n",
       "</style>\n",
       "<table border=\"1\" class=\"dataframe\">\n",
       "  <thead>\n",
       "    <tr style=\"text-align: right;\">\n",
       "      <th></th>\n",
       "      <th>전국스크린수</th>\n",
       "      <th>전국매출액</th>\n",
       "      <th>전국관객수</th>\n",
       "      <th>평점</th>\n",
       "      <th>평가자수</th>\n",
       "      <th>상영시간</th>\n",
       "    </tr>\n",
       "  </thead>\n",
       "  <tbody>\n",
       "    <tr>\n",
       "      <th>count</th>\n",
       "      <td>2177.000000</td>\n",
       "      <td>2.177000e+03</td>\n",
       "      <td>2.177000e+03</td>\n",
       "      <td>2177.000000</td>\n",
       "      <td>2177.000000</td>\n",
       "      <td>2177.000000</td>\n",
       "    </tr>\n",
       "    <tr>\n",
       "      <th>mean</th>\n",
       "      <td>381.691318</td>\n",
       "      <td>5.947274e+09</td>\n",
       "      <td>7.519938e+05</td>\n",
       "      <td>7.525701</td>\n",
       "      <td>3321.884244</td>\n",
       "      <td>99.320625</td>\n",
       "    </tr>\n",
       "    <tr>\n",
       "      <th>std</th>\n",
       "      <td>350.731713</td>\n",
       "      <td>1.376060e+10</td>\n",
       "      <td>1.727963e+06</td>\n",
       "      <td>1.370961</td>\n",
       "      <td>6784.721963</td>\n",
       "      <td>30.538806</td>\n",
       "    </tr>\n",
       "    <tr>\n",
       "      <th>min</th>\n",
       "      <td>50.000000</td>\n",
       "      <td>5.534000e+06</td>\n",
       "      <td>1.097000e+03</td>\n",
       "      <td>0.000000</td>\n",
       "      <td>0.000000</td>\n",
       "      <td>2.000000</td>\n",
       "    </tr>\n",
       "    <tr>\n",
       "      <th>25%</th>\n",
       "      <td>123.000000</td>\n",
       "      <td>1.487499e+08</td>\n",
       "      <td>1.945900e+04</td>\n",
       "      <td>6.900000</td>\n",
       "      <td>235.000000</td>\n",
       "      <td>90.000000</td>\n",
       "    </tr>\n",
       "    <tr>\n",
       "      <th>50%</th>\n",
       "      <td>265.000000</td>\n",
       "      <td>6.803740e+08</td>\n",
       "      <td>8.910300e+04</td>\n",
       "      <td>7.830000</td>\n",
       "      <td>902.000000</td>\n",
       "      <td>104.000000</td>\n",
       "    </tr>\n",
       "    <tr>\n",
       "      <th>75%</th>\n",
       "      <td>528.000000</td>\n",
       "      <td>4.445555e+09</td>\n",
       "      <td>5.736570e+05</td>\n",
       "      <td>8.480000</td>\n",
       "      <td>3334.000000</td>\n",
       "      <td>118.000000</td>\n",
       "    </tr>\n",
       "    <tr>\n",
       "      <th>max</th>\n",
       "      <td>2235.000000</td>\n",
       "      <td>1.396480e+11</td>\n",
       "      <td>1.761368e+07</td>\n",
       "      <td>10.000000</td>\n",
       "      <td>94132.000000</td>\n",
       "      <td>242.000000</td>\n",
       "    </tr>\n",
       "  </tbody>\n",
       "</table>\n",
       "</div>"
      ],
      "text/plain": [
       "            전국스크린수         전국매출액         전국관객수           평점          평가자수  \\\n",
       "count  2177.000000  2.177000e+03  2.177000e+03  2177.000000   2177.000000   \n",
       "mean    381.691318  5.947274e+09  7.519938e+05     7.525701   3321.884244   \n",
       "std     350.731713  1.376060e+10  1.727963e+06     1.370961   6784.721963   \n",
       "min      50.000000  5.534000e+06  1.097000e+03     0.000000      0.000000   \n",
       "25%     123.000000  1.487499e+08  1.945900e+04     6.900000    235.000000   \n",
       "50%     265.000000  6.803740e+08  8.910300e+04     7.830000    902.000000   \n",
       "75%     528.000000  4.445555e+09  5.736570e+05     8.480000   3334.000000   \n",
       "max    2235.000000  1.396480e+11  1.761368e+07    10.000000  94132.000000   \n",
       "\n",
       "              상영시간  \n",
       "count  2177.000000  \n",
       "mean     99.320625  \n",
       "std      30.538806  \n",
       "min       2.000000  \n",
       "25%      90.000000  \n",
       "50%     104.000000  \n",
       "75%     118.000000  \n",
       "max     242.000000  "
      ]
     },
     "execution_count": 17,
     "metadata": {},
     "output_type": "execute_result"
    }
   ],
   "source": [
    "# 기술통계량(2011 - 2019)\n",
    "movie2011_2019.describe()"
   ]
  },
  {
   "cell_type": "code",
   "execution_count": 18,
   "id": "326aceb2",
   "metadata": {},
   "outputs": [
    {
     "data": {
      "text/html": [
       "<div>\n",
       "<style scoped>\n",
       "    .dataframe tbody tr th:only-of-type {\n",
       "        vertical-align: middle;\n",
       "    }\n",
       "\n",
       "    .dataframe tbody tr th {\n",
       "        vertical-align: top;\n",
       "    }\n",
       "\n",
       "    .dataframe thead th {\n",
       "        text-align: right;\n",
       "    }\n",
       "</style>\n",
       "<table border=\"1\" class=\"dataframe\">\n",
       "  <thead>\n",
       "    <tr style=\"text-align: right;\">\n",
       "      <th></th>\n",
       "      <th>전국스크린수</th>\n",
       "      <th>전국매출액</th>\n",
       "      <th>전국관객수</th>\n",
       "      <th>평점</th>\n",
       "      <th>평가자수</th>\n",
       "      <th>상영시간</th>\n",
       "    </tr>\n",
       "  </thead>\n",
       "  <tbody>\n",
       "    <tr>\n",
       "      <th>count</th>\n",
       "      <td>237.000000</td>\n",
       "      <td>2.370000e+02</td>\n",
       "      <td>2.370000e+02</td>\n",
       "      <td>237.000000</td>\n",
       "      <td>237.000000</td>\n",
       "      <td>237.000000</td>\n",
       "    </tr>\n",
       "    <tr>\n",
       "      <th>mean</th>\n",
       "      <td>384.493671</td>\n",
       "      <td>1.733812e+09</td>\n",
       "      <td>2.004774e+05</td>\n",
       "      <td>7.268692</td>\n",
       "      <td>1419.708861</td>\n",
       "      <td>100.767932</td>\n",
       "    </tr>\n",
       "    <tr>\n",
       "      <th>std</th>\n",
       "      <td>443.533822</td>\n",
       "      <td>5.263094e+09</td>\n",
       "      <td>6.044579e+05</td>\n",
       "      <td>1.637126</td>\n",
       "      <td>3574.848979</td>\n",
       "      <td>26.036337</td>\n",
       "    </tr>\n",
       "    <tr>\n",
       "      <th>min</th>\n",
       "      <td>50.000000</td>\n",
       "      <td>9.966880e+06</td>\n",
       "      <td>1.140000e+03</td>\n",
       "      <td>2.710000</td>\n",
       "      <td>4.000000</td>\n",
       "      <td>2.000000</td>\n",
       "    </tr>\n",
       "    <tr>\n",
       "      <th>25%</th>\n",
       "      <td>105.000000</td>\n",
       "      <td>3.893304e+07</td>\n",
       "      <td>4.814000e+03</td>\n",
       "      <td>6.200000</td>\n",
       "      <td>96.000000</td>\n",
       "      <td>92.000000</td>\n",
       "    </tr>\n",
       "    <tr>\n",
       "      <th>50%</th>\n",
       "      <td>198.000000</td>\n",
       "      <td>1.206848e+08</td>\n",
       "      <td>1.522900e+04</td>\n",
       "      <td>7.640000</td>\n",
       "      <td>210.000000</td>\n",
       "      <td>102.000000</td>\n",
       "    </tr>\n",
       "    <tr>\n",
       "      <th>75%</th>\n",
       "      <td>465.000000</td>\n",
       "      <td>6.132737e+08</td>\n",
       "      <td>7.288600e+04</td>\n",
       "      <td>8.570000</td>\n",
       "      <td>755.000000</td>\n",
       "      <td>113.000000</td>\n",
       "    </tr>\n",
       "    <tr>\n",
       "      <th>max</th>\n",
       "      <td>2575.000000</td>\n",
       "      <td>4.122360e+10</td>\n",
       "      <td>4.750104e+06</td>\n",
       "      <td>9.610000</td>\n",
       "      <td>31323.000000</td>\n",
       "      <td>196.000000</td>\n",
       "    </tr>\n",
       "  </tbody>\n",
       "</table>\n",
       "</div>"
      ],
      "text/plain": [
       "            전국스크린수         전국매출액         전국관객수          평점          평가자수  \\\n",
       "count   237.000000  2.370000e+02  2.370000e+02  237.000000    237.000000   \n",
       "mean    384.493671  1.733812e+09  2.004774e+05    7.268692   1419.708861   \n",
       "std     443.533822  5.263094e+09  6.044579e+05    1.637126   3574.848979   \n",
       "min      50.000000  9.966880e+06  1.140000e+03    2.710000      4.000000   \n",
       "25%     105.000000  3.893304e+07  4.814000e+03    6.200000     96.000000   \n",
       "50%     198.000000  1.206848e+08  1.522900e+04    7.640000    210.000000   \n",
       "75%     465.000000  6.132737e+08  7.288600e+04    8.570000    755.000000   \n",
       "max    2575.000000  4.122360e+10  4.750104e+06    9.610000  31323.000000   \n",
       "\n",
       "             상영시간  \n",
       "count  237.000000  \n",
       "mean   100.767932  \n",
       "std     26.036337  \n",
       "min      2.000000  \n",
       "25%     92.000000  \n",
       "50%    102.000000  \n",
       "75%    113.000000  \n",
       "max    196.000000  "
      ]
     },
     "execution_count": 18,
     "metadata": {},
     "output_type": "execute_result"
    }
   ],
   "source": [
    "# 기술통계량(2020)\n",
    "movie2020.describe()"
   ]
  },
  {
   "cell_type": "markdown",
   "id": "dd5c964c",
   "metadata": {},
   "source": [
    "---"
   ]
  },
  {
   "cell_type": "markdown",
   "id": "df2ab8cf",
   "metadata": {},
   "source": [
    "#### 장르 top10"
   ]
  },
  {
   "cell_type": "code",
   "execution_count": 26,
   "id": "67786127",
   "metadata": {},
   "outputs": [
    {
     "data": {
      "image/png": "[encoded data removed]",
      "text/plain": [
       "<Figure size 1080x432 with 1 Axes>"
      ]
     },
     "metadata": {
      "needs_background": "light"
     },
     "output_type": "display_data"
    }
   ],
   "source": [
    "# 장르 top10(2011 - 2019)\n",
    "plt.subplots(figsize=(15,6))\n",
    "sns.countplot(x = '장르', data=movie2011_2019, palette='inferno', order=movie2011_2019['장르'].value_counts().index[0:10])\n",
    "plt.xticks(rotation=90)\n",
    "plt.show()"
   ]
  },
  {
   "cell_type": "code",
   "execution_count": 27,
   "id": "625e6cf7",
   "metadata": {},
   "outputs": [
    {
     "data": {
      "image/png": "[encoded data removed]",
      "text/plain": [
       "<Figure size 1080x432 with 1 Axes>"
      ]
     },
     "metadata": {
      "needs_background": "light"
     },
     "output_type": "display_data"
    }
   ],
   "source": [
    "# 장르 top10(2020)\n",
    "plt.subplots(figsize=(15,6))\n",
    "sns.countplot(x = '장르', data=movie2020, palette='inferno', order=movie2020['장르'].value_counts().index[0:10])\n",
    "plt.xticks(rotation=90)\n",
    "plt.show()"
   ]
  },
  {
   "cell_type": "markdown",
   "id": "8500f2d1",
   "metadata": {},
   "source": [
    "- 2011년 ~ 2019년\n",
    "  - 드라마, 애니메이션, 액션 순으로 많은 영화가 만들어졌다\n",
    "- 2020년\n",
    "  - 드라마, 코미디, 액션 순으로 많은 영화가 만들어졌다\n",
    "- 가장 인기있는 영화장르는 '드라마' 인 것을 알 수가 있다.\n",
    "----"
   ]
  },
  {
   "cell_type": "markdown",
   "id": "a27a5a8e",
   "metadata": {},
   "source": [
    "#### 국적 top10"
   ]
  },
  {
   "cell_type": "code",
   "execution_count": 29,
   "id": "c98b5fea",
   "metadata": {},
   "outputs": [
    {
     "data": {
      "image/png": "[encoded data removed]",
      "text/plain": [
       "<Figure size 1080x432 with 1 Axes>"
      ]
     },
     "metadata": {
      "needs_background": "light"
     },
     "output_type": "display_data"
    }
   ],
   "source": [
    "# 국적top10(2011 - 2019)\n",
    "plt.subplots(figsize=(15,6))\n",
    "sns.countplot(x = '국적', data=movie2011_2019, palette='inferno', order=movie2011_2019['국적'].value_counts().index[0:10])\n",
    "plt.xticks(rotation=90)\n",
    "plt.show()"
   ]
  },
  {
   "cell_type": "code",
   "execution_count": 30,
   "id": "1ca2da2c",
   "metadata": {},
   "outputs": [
    {
     "data": {
      "image/png": "[encoded data removed]",
      "text/plain": [
       "<Figure size 1080x432 with 1 Axes>"
      ]
     },
     "metadata": {
      "needs_background": "light"
     },
     "output_type": "display_data"
    }
   ],
   "source": [
    "# 국적top10(2020)\n",
    "plt.subplots(figsize=(15,6))\n",
    "sns.countplot(x = '국적', data=movie2020, palette='inferno', order=movie2020['국적'].value_counts().index[0:10])\n",
    "plt.xticks(rotation=90)\n",
    "plt.show()"
   ]
  },
  {
   "cell_type": "markdown",
   "id": "117394b2",
   "metadata": {},
   "source": [
    "- 2011년에서 2020년까지 한국, 미국, 일본 영화가 대부분을 차지하고 있다.\n",
    "---"
   ]
  },
  {
   "cell_type": "markdown",
   "id": "fa44c425",
   "metadata": {},
   "source": [
    "#### 배급사 top10"
   ]
  },
  {
   "cell_type": "code",
   "execution_count": 37,
   "id": "9b004f30",
   "metadata": {},
   "outputs": [
    {
     "data": {
      "image/png": "[encoded data removed]",
      "text/plain": [
       "<Figure size 1080x432 with 1 Axes>"
      ]
     },
     "metadata": {
      "needs_background": "light"
     },
     "output_type": "display_data"
    }
   ],
   "source": [
    "# 배급사 top10(2011 - 2019)\n",
    "plt.subplots(figsize=(15,6))\n",
    "sns.countplot(x = '배급사', data=movie2011_2019, palette='RdYlGn_r', order=movie2011_2019['배급사'].value_counts().index[0:10])\n",
    "plt.xticks(rotation=90)\n",
    "plt.show()"
   ]
  },
  {
   "cell_type": "code",
   "execution_count": 36,
   "id": "524aee20",
   "metadata": {},
   "outputs": [
    {
     "data": {
      "image/png": "[encoded data removed]",
      "text/plain": [
       "<Figure size 1080x432 with 1 Axes>"
      ]
     },
     "metadata": {
      "needs_background": "light"
     },
     "output_type": "display_data"
    }
   ],
   "source": [
    "# 배급사 top10(2020)\n",
    "plt.subplots(figsize=(15,6))\n",
    "sns.countplot(x = '배급사', data=movie2020, palette='RdYlGn_r', order=movie2020['배급사'].value_counts().index[0:10])\n",
    "plt.xticks(rotation=90)\n",
    "plt.show()"
   ]
  },
  {
   "cell_type": "markdown",
   "id": "aa97e204",
   "metadata": {},
   "source": [
    "- 2011년 ~ 2019년 데이터와 2020년에서 top10안에 드는 배급사 중에 겹치는 배급사\n",
    "  - (주)씨제이엔엠, (주)립엔터테인먼트\n",
    "---"
   ]
  },
  {
   "cell_type": "markdown",
   "id": "de064015",
   "metadata": {},
   "source": [
    "#### 장르별 평균 관객수"
   ]
  },
  {
   "cell_type": "code",
   "execution_count": 41,
   "id": "bae7a84a",
   "metadata": {},
   "outputs": [
    {
     "data": {
      "image/png": "[encoded data removed]",
      "text/plain": [
       "<Figure size 1080x432 with 1 Axes>"
      ]
     },
     "metadata": {
      "needs_background": "light"
     },
     "output_type": "display_data"
    }
   ],
   "source": [
    "# 장르에 따른 평균 관객수(2011 - 2019)\n",
    "plt.subplots(figsize=(15,6))\n",
    "sns.barplot(data=movie2011_2019, x=\"장르\", y = \"전국관객수\", palette='inferno', order=movie2011_2019['장르'].value_counts().index[0:10])\n",
    "plt.xticks(rotation=90)\n",
    "plt.show()"
   ]
  },
  {
   "cell_type": "code",
   "execution_count": 42,
   "id": "cbbf156a",
   "metadata": {},
   "outputs": [
    {
     "data": {
      "image/png": "[encoded data removed]",
      "text/plain": [
       "<Figure size 1080x432 with 1 Axes>"
      ]
     },
     "metadata": {
      "needs_background": "light"
     },
     "output_type": "display_data"
    }
   ],
   "source": [
    "# 장르에 따른 평균 관객수(2020)\n",
    "plt.subplots(figsize=(15,6))\n",
    "sns.barplot(data=movie2020, x=\"장르\", y = \"전국관객수\", palette='inferno', order=movie2020['장르'].value_counts().index[0:10])\n",
    "plt.xticks(rotation=90)\n",
    "plt.show()"
   ]
  },
  {
   "cell_type": "markdown",
   "id": "f59fba53",
   "metadata": {},
   "source": [
    "- 2011년 ~ 2019년 : 액션, 범죄, 코미디 순으로 관객수의 평균이 높음\n",
    "- 2020년 : 범죄 장르 영화의 평균 관객수의 평균이 월등히 높음\n",
    "---"
   ]
  },
  {
   "cell_type": "markdown",
   "id": "90a843ae",
   "metadata": {},
   "source": [
    "#### 관람등급별 평균 관객수"
   ]
  },
  {
   "cell_type": "code",
   "execution_count": 43,
   "id": "a2e78c6f",
   "metadata": {},
   "outputs": [
    {
     "data": {
      "image/png": "[encoded data removed]",
      "text/plain": [
       "<Figure size 1080x432 with 1 Axes>"
      ]
     },
     "metadata": {
      "needs_background": "light"
     },
     "output_type": "display_data"
    }
   ],
   "source": [
    "# 관람등급에 따른 평균 관객수(2011 - 2019)\n",
    "plt.subplots(figsize=(15,6))\n",
    "sns.barplot(data=movie2011_2019, x=\"등급\", y = \"전국관객수\", palette='inferno')\n",
    "plt.xticks(rotation=90)\n",
    "plt.show()"
   ]
  },
  {
   "cell_type": "code",
   "execution_count": 44,
   "id": "5f8c4b41",
   "metadata": {},
   "outputs": [
    {
     "data": {
      "image/png": "[encoded data removed]",
      "text/plain": [
       "<Figure size 1080x432 with 1 Axes>"
      ]
     },
     "metadata": {
      "needs_background": "light"
     },
     "output_type": "display_data"
    }
   ],
   "source": [
    "# 관람등급에 따른 평균 관객수(2020)\n",
    "plt.subplots(figsize=(15,6))\n",
    "sns.barplot(data=movie2020, x=\"등급\", y = \"전국관객수\", palette='inferno')\n",
    "plt.xticks(rotation=90)\n",
    "plt.show()"
   ]
  },
  {
   "cell_type": "markdown",
   "id": "f5471048",
   "metadata": {},
   "source": [
    "- 2011년부터 2020년까지 15세이상 관람가의 관람객수의 평균이 가장 높음\n",
    "---"
   ]
  },
  {
   "cell_type": "markdown",
   "id": "cb93c395",
   "metadata": {},
   "source": [
    "#### 장르 top10별 평점의 평균"
   ]
  },
  {
   "cell_type": "code",
   "execution_count": 70,
   "id": "1cc1d926",
   "metadata": {},
   "outputs": [
    {
     "data": {
      "image/png": "[encoded data removed]",
      "text/plain": [
       "<Figure size 1080x432 with 1 Axes>"
      ]
     },
     "metadata": {
      "needs_background": "light"
     },
     "output_type": "display_data"
    }
   ],
   "source": [
    "# 장르에 따른 평점의 평균(2011 - 2019)\n",
    "plt.subplots(figsize=(15,6))\n",
    "sns.barplot(data=movie2011_2019, x=\"장르\", y = \"평점\", palette='inferno', order=movie2011_2019['장르'].value_counts().index[0:10])\n",
    "plt.xticks(rotation=90)\n",
    "plt.show()"
   ]
  },
  {
   "cell_type": "code",
   "execution_count": 69,
   "id": "a630cfdd",
   "metadata": {},
   "outputs": [
    {
     "data": {
      "image/png": "[encoded data removed]",
      "text/plain": [
       "<Figure size 1080x432 with 1 Axes>"
      ]
     },
     "metadata": {
      "needs_background": "light"
     },
     "output_type": "display_data"
    }
   ],
   "source": [
    "# 장르에 따른 평점의 평균(2020)\n",
    "plt.subplots(figsize=(15,6))\n",
    "sns.barplot(data=movie2020, x=\"장르\", y = \"평점\", palette='inferno', order=movie2020['장르'].value_counts().index[0:10])\n",
    "plt.xticks(rotation=90)\n",
    "plt.show()"
   ]
  },
  {
   "cell_type": "markdown",
   "id": "596b639c",
   "metadata": {},
   "source": [
    "- 2011년 ~ 2019년 : 다큐멘터리, 드라마, 애니메이션 순으로 평점이 높음\n",
    "- 2020년 : 다큐멘터리, 애니메이션, 드라마 순으로 평점이 높음\n",
    "---"
   ]
  },
  {
   "cell_type": "markdown",
   "id": "5813c755",
   "metadata": {},
   "source": [
    "#### 국적 top10별 평점의 평균"
   ]
  },
  {
   "cell_type": "code",
   "execution_count": 78,
   "id": "f83042e5",
   "metadata": {},
   "outputs": [
    {
     "data": {
      "image/png": "[encoded data removed]",
      "text/plain": [
       "<Figure size 1080x432 with 1 Axes>"
      ]
     },
     "metadata": {
      "needs_background": "light"
     },
     "output_type": "display_data"
    }
   ],
   "source": [
    "# 국적에 따른 평점의 평균(2011 - 2019)\n",
    "plt.subplots(figsize=(15,6))\n",
    "sns.barplot(data=movie2011_2019, x=\"국적\", y = \"평점\", palette='inferno', order=movie2011_2019['국적'].value_counts().index[0:10])\n",
    "plt.xticks(rotation=90)\n",
    "plt.show()"
   ]
  },
  {
   "cell_type": "code",
   "execution_count": 79,
   "id": "bed891e4",
   "metadata": {},
   "outputs": [
    {
     "data": {
      "image/png": "[encoded data removed]",
      "text/plain": [
       "<Figure size 1080x432 with 1 Axes>"
      ]
     },
     "metadata": {
      "needs_background": "light"
     },
     "output_type": "display_data"
    }
   ],
   "source": [
    "# 국적에 따른 평점의 평균(2020)\n",
    "plt.subplots(figsize=(15,6))\n",
    "sns.barplot(data=movie2020, x=\"국적\", y = \"평점\", palette='inferno', order=movie2011_2019['국적'].value_counts().index[0:10])\n",
    "plt.xticks(rotation=90)\n",
    "plt.show()"
   ]
  },
  {
   "cell_type": "markdown",
   "id": "f32b3f29",
   "metadata": {},
   "source": [
    "- 2011년 ~ 2019년 : top10국가중에서 국가별 평점 평균 일본, 독일, 프랑스 순\n",
    "- 2020년 : top10국가중에서 국가별 평점 평균 이탈리아, 독일, 프랑스 순\n",
    "---"
   ]
  },
  {
   "cell_type": "code",
   "execution_count": 85,
   "id": "ac9d7469",
   "metadata": {},
   "outputs": [
    {
     "data": {
      "text/html": [
       "<div>\n",
       "<style scoped>\n",
       "    .dataframe tbody tr th:only-of-type {\n",
       "        vertical-align: middle;\n",
       "    }\n",
       "\n",
       "    .dataframe tbody tr th {\n",
       "        vertical-align: top;\n",
       "    }\n",
       "\n",
       "    .dataframe thead th {\n",
       "        text-align: right;\n",
       "    }\n",
       "</style>\n",
       "<table border=\"1\" class=\"dataframe\">\n",
       "  <thead>\n",
       "    <tr style=\"text-align: right;\">\n",
       "      <th></th>\n",
       "      <th>전국스크린수</th>\n",
       "      <th>전국매출액</th>\n",
       "      <th>전국관객수</th>\n",
       "      <th>평점</th>\n",
       "      <th>평가자수</th>\n",
       "      <th>상영시간</th>\n",
       "    </tr>\n",
       "  </thead>\n",
       "  <tbody>\n",
       "    <tr>\n",
       "      <th>전국스크린수</th>\n",
       "      <td>1.000000</td>\n",
       "      <td>0.748228</td>\n",
       "      <td>0.734337</td>\n",
       "      <td>0.017454</td>\n",
       "      <td>0.683258</td>\n",
       "      <td>0.228939</td>\n",
       "    </tr>\n",
       "    <tr>\n",
       "      <th>전국매출액</th>\n",
       "      <td>0.748228</td>\n",
       "      <td>1.000000</td>\n",
       "      <td>0.997487</td>\n",
       "      <td>0.121358</td>\n",
       "      <td>0.813970</td>\n",
       "      <td>0.185414</td>\n",
       "    </tr>\n",
       "    <tr>\n",
       "      <th>전국관객수</th>\n",
       "      <td>0.734337</td>\n",
       "      <td>0.997487</td>\n",
       "      <td>1.000000</td>\n",
       "      <td>0.122753</td>\n",
       "      <td>0.813065</td>\n",
       "      <td>0.181865</td>\n",
       "    </tr>\n",
       "    <tr>\n",
       "      <th>평점</th>\n",
       "      <td>0.017454</td>\n",
       "      <td>0.121358</td>\n",
       "      <td>0.122753</td>\n",
       "      <td>1.000000</td>\n",
       "      <td>0.126371</td>\n",
       "      <td>0.065268</td>\n",
       "    </tr>\n",
       "    <tr>\n",
       "      <th>평가자수</th>\n",
       "      <td>0.683258</td>\n",
       "      <td>0.813970</td>\n",
       "      <td>0.813065</td>\n",
       "      <td>0.126371</td>\n",
       "      <td>1.000000</td>\n",
       "      <td>0.188711</td>\n",
       "    </tr>\n",
       "    <tr>\n",
       "      <th>상영시간</th>\n",
       "      <td>0.228939</td>\n",
       "      <td>0.185414</td>\n",
       "      <td>0.181865</td>\n",
       "      <td>0.065268</td>\n",
       "      <td>0.188711</td>\n",
       "      <td>1.000000</td>\n",
       "    </tr>\n",
       "  </tbody>\n",
       "</table>\n",
       "</div>"
      ],
      "text/plain": [
       "          전국스크린수     전국매출액     전국관객수        평점      평가자수      상영시간\n",
       "전국스크린수  1.000000  0.748228  0.734337  0.017454  0.683258  0.228939\n",
       "전국매출액   0.748228  1.000000  0.997487  0.121358  0.813970  0.185414\n",
       "전국관객수   0.734337  0.997487  1.000000  0.122753  0.813065  0.181865\n",
       "평점      0.017454  0.121358  0.122753  1.000000  0.126371  0.065268\n",
       "평가자수    0.683258  0.813970  0.813065  0.126371  1.000000  0.188711\n",
       "상영시간    0.228939  0.185414  0.181865  0.065268  0.188711  1.000000"
      ]
     },
     "execution_count": 85,
     "metadata": {},
     "output_type": "execute_result"
    }
   ],
   "source": [
    "# 상관관계(2011 - 2019)\n",
    "movie2011_2019.corr()"
   ]
  },
  {
   "cell_type": "code",
   "execution_count": 87,
   "id": "9f71b51c",
   "metadata": {},
   "outputs": [
    {
     "data": {
      "text/html": [
       "<div>\n",
       "<style scoped>\n",
       "    .dataframe tbody tr th:only-of-type {\n",
       "        vertical-align: middle;\n",
       "    }\n",
       "\n",
       "    .dataframe tbody tr th {\n",
       "        vertical-align: top;\n",
       "    }\n",
       "\n",
       "    .dataframe thead th {\n",
       "        text-align: right;\n",
       "    }\n",
       "</style>\n",
       "<table border=\"1\" class=\"dataframe\">\n",
       "  <thead>\n",
       "    <tr style=\"text-align: right;\">\n",
       "      <th></th>\n",
       "      <th>전국스크린수</th>\n",
       "      <th>전국매출액</th>\n",
       "      <th>전국관객수</th>\n",
       "      <th>평점</th>\n",
       "      <th>평가자수</th>\n",
       "      <th>상영시간</th>\n",
       "    </tr>\n",
       "  </thead>\n",
       "  <tbody>\n",
       "    <tr>\n",
       "      <th>전국스크린수</th>\n",
       "      <td>1.000000</td>\n",
       "      <td>0.795679</td>\n",
       "      <td>0.796250</td>\n",
       "      <td>-0.150513</td>\n",
       "      <td>0.810303</td>\n",
       "      <td>0.138062</td>\n",
       "    </tr>\n",
       "    <tr>\n",
       "      <th>전국매출액</th>\n",
       "      <td>0.795679</td>\n",
       "      <td>1.000000</td>\n",
       "      <td>0.999644</td>\n",
       "      <td>-0.054462</td>\n",
       "      <td>0.908919</td>\n",
       "      <td>0.133304</td>\n",
       "    </tr>\n",
       "    <tr>\n",
       "      <th>전국관객수</th>\n",
       "      <td>0.796250</td>\n",
       "      <td>0.999644</td>\n",
       "      <td>1.000000</td>\n",
       "      <td>-0.056924</td>\n",
       "      <td>0.911631</td>\n",
       "      <td>0.133032</td>\n",
       "    </tr>\n",
       "    <tr>\n",
       "      <th>평점</th>\n",
       "      <td>-0.150513</td>\n",
       "      <td>-0.054462</td>\n",
       "      <td>-0.056924</td>\n",
       "      <td>1.000000</td>\n",
       "      <td>-0.093625</td>\n",
       "      <td>0.050440</td>\n",
       "    </tr>\n",
       "    <tr>\n",
       "      <th>평가자수</th>\n",
       "      <td>0.810303</td>\n",
       "      <td>0.908919</td>\n",
       "      <td>0.911631</td>\n",
       "      <td>-0.093625</td>\n",
       "      <td>1.000000</td>\n",
       "      <td>0.166146</td>\n",
       "    </tr>\n",
       "    <tr>\n",
       "      <th>상영시간</th>\n",
       "      <td>0.138062</td>\n",
       "      <td>0.133304</td>\n",
       "      <td>0.133032</td>\n",
       "      <td>0.050440</td>\n",
       "      <td>0.166146</td>\n",
       "      <td>1.000000</td>\n",
       "    </tr>\n",
       "  </tbody>\n",
       "</table>\n",
       "</div>"
      ],
      "text/plain": [
       "          전국스크린수     전국매출액     전국관객수        평점      평가자수      상영시간\n",
       "전국스크린수  1.000000  0.795679  0.796250 -0.150513  0.810303  0.138062\n",
       "전국매출액   0.795679  1.000000  0.999644 -0.054462  0.908919  0.133304\n",
       "전국관객수   0.796250  0.999644  1.000000 -0.056924  0.911631  0.133032\n",
       "평점     -0.150513 -0.054462 -0.056924  1.000000 -0.093625  0.050440\n",
       "평가자수    0.810303  0.908919  0.911631 -0.093625  1.000000  0.166146\n",
       "상영시간    0.138062  0.133304  0.133032  0.050440  0.166146  1.000000"
      ]
     },
     "execution_count": 87,
     "metadata": {},
     "output_type": "execute_result"
    }
   ],
   "source": [
    "# 상관관계(2020)\n",
    "movie2020.corr()"
   ]
  },
  {
   "cell_type": "code",
   "execution_count": null,
   "id": "6ab35ea2",
   "metadata": {},
   "outputs": [],
   "source": []
  }
 ],
 "metadata": {
  "kernelspec": {
   "display_name": "Python 3 (ipykernel)",
   "language": "python",
   "name": "python3"
  },
  "language_info": {
   "codemirror_mode": {
    "name": "ipython",
    "version": 3
   },
   "file_extension": ".py",
   "mimetype": "text/x-python",
   "name": "python",
   "nbconvert_exporter": "python",
   "pygments_lexer": "ipython3",
   "version": "3.8.12"
  }
 },
 "nbformat": 4,
 "nbformat_minor": 5
}
