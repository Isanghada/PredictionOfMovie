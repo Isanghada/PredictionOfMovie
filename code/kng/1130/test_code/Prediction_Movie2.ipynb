{
 "cells": [
  {
   "cell_type": "markdown",
   "metadata": {},
   "source": [
    "# ◼영화 관람객 수 예측\n",
    "- 평가자수 제외"
   ]
  },
  {
   "cell_type": "markdown",
   "metadata": {},
   "source": [
    "## ◾개요"
   ]
  },
  {
   "cell_type": "markdown",
   "metadata": {},
   "source": [
    "- 2011~2019년 영화 데이터를 이용해 영화 관람객 수 예측 모델 구현\n",
    "- 해당 모델을 2020년 영화에 적용하여 코로나19의 영향이 없었을 경우 관람객 수 예측\n",
    "- 해당 결과를 바탕으로 2020년의 영화들에 끼친 코로나19의 영향을 확인해보려한다."
   ]
  },
  {
   "cell_type": "markdown",
   "metadata": {},
   "source": [
    "## ◾데이터 소개"
   ]
  },
  {
   "cell_type": "code",
   "execution_count": 79,
   "metadata": {},
   "outputs": [],
   "source": [
    "import pandas as pd\n",
    "import numpy as np"
   ]
  },
  {
   "cell_type": "markdown",
   "metadata": {},
   "source": [
    "#### 영화 데이터"
   ]
  },
  {
   "cell_type": "markdown",
   "metadata": {},
   "source": [
    "- KOBIS 공식 통계 : https://www.kobis.or.kr/kobis/business/stat/offc/searchOfficHitTotList.do?searchMode=year\n",
    "- 한국영화연감(1971~2010) 통계를 기준으로 정리한 것이며, 2011년부터는 통합전산망을 기준으로 일정한 주기(매월, 매년)로 마감처리하여 산출되는 통계정보\n",
    "  - 통합전산망을 사용한 `2011년~2020년 데이터`를 사용한다.\n",
    "- 컬럼 정보\n",
    "  - 순번 : 인덱스, 수치형\n",
    "  - 영화명 : 영화명, 범주형\n",
    "  - 감독 : 감독명, 범주형(다수일 경우 ', '로 구분)\n",
    "  - 제작사 : 제작사명, 범주형(다수일 경우 ', '로 구분)\n",
    "  - 수입사 : 수입사명, 범주형(다수일 경우 ', '로 구분)\n",
    "  - 배급사 : 배급사명, 범주형(다수일 경우 ', '로 구분)\n",
    "  - 개봉일 : 개봉일, 날짜형('YYYY-MM-DD')\n",
    "  - 영화유형 : 영화 유형, 범주형\n",
    "  - 영화형태 : 영화 형태, 범주형('장편', '단편', '옴니버스')\n",
    "  - 국적 : 영화 제작 국가, 범주형\n",
    "  - 전국스크린수 : 개봉 첫 주 최대 스크린 수, 수치형\n",
    "  - 전국매출액 : 전국 매출액, 수치형\n",
    "  - 전국관객수 : 전국 관객수, 수치형\n",
    "  - 서울매출액 : 서울 매출액, 수치형\n",
    "  - 서울관객수 : 서울 관객수, 수치형\n",
    "  - 장르 : 대표 장르, 범주형\n",
    "    - 21개의 유형(<a href = 'https://www.kobis.or.kr/kobis/business/stat/online/onlineGenreStat.do?CSRFToken=yOhFhXI1uvJrdJ_SERa8YxZhVjS9tKCERgIId5CsBXA&loadEnd=0&searchType=search&sSearchYearFrom=2021&sSearchMonthFrom=02&sSearchYearTo=2021&sSearchMonthTo=08' target='_blink'>KOBIS 장르별 통계 기준</a>)\n",
    "    - SF, 가족, 공연, 공포(호러), 기타, 다큐멘터리, 드라마, 멜로/로맨스, 뮤지컬, 미스터리, 범죄, 사극, 서부극(웨스턴), 성인물(에로) ,스릴러, 애니메이션, 액션, 어드벤처, 전쟁, 코미디, 판타지\n",
    "  - 등급 : 영화 시청 등급, 범주형\n",
    "  - 영화구분 : 영화 구분, 범주형('일반 영화', '독립/예술영화')\n"
   ]
  },
  {
   "cell_type": "code",
   "execution_count": 80,
   "metadata": {},
   "outputs": [
    {
     "data": {
      "text/html": [
       "<div>\n",
       "<style scoped>\n",
       "    .dataframe tbody tr th:only-of-type {\n",
       "        vertical-align: middle;\n",
       "    }\n",
       "\n",
       "    .dataframe tbody tr th {\n",
       "        vertical-align: top;\n",
       "    }\n",
       "\n",
       "    .dataframe thead th {\n",
       "        text-align: right;\n",
       "    }\n",
       "</style>\n",
       "<table border=\"1\" class=\"dataframe\">\n",
       "  <thead>\n",
       "    <tr style=\"text-align: right;\">\n",
       "      <th></th>\n",
       "      <th>영화명</th>\n",
       "      <th>감독</th>\n",
       "      <th>제작사</th>\n",
       "      <th>수입사</th>\n",
       "      <th>배급사</th>\n",
       "      <th>개봉일</th>\n",
       "      <th>영화유형</th>\n",
       "      <th>영화형태</th>\n",
       "      <th>국적</th>\n",
       "      <th>전국스크린수</th>\n",
       "      <th>전국매출액</th>\n",
       "      <th>전국관객수</th>\n",
       "      <th>서울매출액</th>\n",
       "      <th>서울관객수</th>\n",
       "      <th>장르</th>\n",
       "      <th>등급</th>\n",
       "      <th>영화구분</th>\n",
       "    </tr>\n",
       "    <tr>\n",
       "      <th>순번</th>\n",
       "      <th></th>\n",
       "      <th></th>\n",
       "      <th></th>\n",
       "      <th></th>\n",
       "      <th></th>\n",
       "      <th></th>\n",
       "      <th></th>\n",
       "      <th></th>\n",
       "      <th></th>\n",
       "      <th></th>\n",
       "      <th></th>\n",
       "      <th></th>\n",
       "      <th></th>\n",
       "      <th></th>\n",
       "      <th></th>\n",
       "      <th></th>\n",
       "      <th></th>\n",
       "    </tr>\n",
       "  </thead>\n",
       "  <tbody>\n",
       "    <tr>\n",
       "      <th>1</th>\n",
       "      <td>명량</td>\n",
       "      <td>김한민</td>\n",
       "      <td>(주)빅스톤픽쳐스</td>\n",
       "      <td>NaN</td>\n",
       "      <td>(주)씨제이이엔엠</td>\n",
       "      <td>2014-07-30</td>\n",
       "      <td>개봉영화</td>\n",
       "      <td>장편</td>\n",
       "      <td>한국</td>\n",
       "      <td>1587</td>\n",
       "      <td>135748398910</td>\n",
       "      <td>17613682</td>\n",
       "      <td>3.312123e+10</td>\n",
       "      <td>4163666</td>\n",
       "      <td>사극</td>\n",
       "      <td>15세이상관람가</td>\n",
       "      <td>일반영화</td>\n",
       "    </tr>\n",
       "    <tr>\n",
       "      <th>2</th>\n",
       "      <td>극한직업</td>\n",
       "      <td>이병헌</td>\n",
       "      <td>(주)어바웃필름,영화사 해그림 주식회사,(주)씨제이이엔엠</td>\n",
       "      <td>NaN</td>\n",
       "      <td>(주)씨제이이엔엠</td>\n",
       "      <td>2019-01-23</td>\n",
       "      <td>개봉영화</td>\n",
       "      <td>장편</td>\n",
       "      <td>한국</td>\n",
       "      <td>1978</td>\n",
       "      <td>139647979516</td>\n",
       "      <td>16264944</td>\n",
       "      <td>3.185866e+10</td>\n",
       "      <td>3638287</td>\n",
       "      <td>코미디</td>\n",
       "      <td>15세이상관람가</td>\n",
       "      <td>일반영화</td>\n",
       "    </tr>\n",
       "    <tr>\n",
       "      <th>3</th>\n",
       "      <td>신과함께-죄와 벌</td>\n",
       "      <td>김용화</td>\n",
       "      <td>리얼라이즈픽쳐스(주),(주)덱스터스튜디오</td>\n",
       "      <td>NaN</td>\n",
       "      <td>롯데쇼핑㈜롯데엔터테인먼트</td>\n",
       "      <td>2017-12-20</td>\n",
       "      <td>개봉영화</td>\n",
       "      <td>장편</td>\n",
       "      <td>한국</td>\n",
       "      <td>1912</td>\n",
       "      <td>115698654137</td>\n",
       "      <td>14410754</td>\n",
       "      <td>2.753083e+10</td>\n",
       "      <td>3346172</td>\n",
       "      <td>판타지</td>\n",
       "      <td>12세이상관람가</td>\n",
       "      <td>일반영화</td>\n",
       "    </tr>\n",
       "  </tbody>\n",
       "</table>\n",
       "</div>"
      ],
      "text/plain": [
       "          영화명   감독                              제작사  수입사            배급사  \\\n",
       "순번                                                                        \n",
       "1          명량  김한민                        (주)빅스톤픽쳐스  NaN      (주)씨제이이엔엠   \n",
       "2        극한직업  이병헌  (주)어바웃필름,영화사 해그림 주식회사,(주)씨제이이엔엠  NaN      (주)씨제이이엔엠   \n",
       "3   신과함께-죄와 벌  김용화           리얼라이즈픽쳐스(주),(주)덱스터스튜디오  NaN  롯데쇼핑㈜롯데엔터테인먼트   \n",
       "\n",
       "          개봉일  영화유형 영화형태  국적  전국스크린수         전국매출액     전국관객수         서울매출액  \\\n",
       "순번                                                                           \n",
       "1  2014-07-30  개봉영화   장편  한국    1587  135748398910  17613682  3.312123e+10   \n",
       "2  2019-01-23  개봉영화   장편  한국    1978  139647979516  16264944  3.185866e+10   \n",
       "3  2017-12-20  개봉영화   장편  한국    1912  115698654137  14410754  2.753083e+10   \n",
       "\n",
       "      서울관객수   장르        등급  영화구분  \n",
       "순번                                \n",
       "1   4163666   사극  15세이상관람가  일반영화  \n",
       "2   3638287  코미디  15세이상관람가  일반영화  \n",
       "3   3346172  판타지  12세이상관람가  일반영화  "
      ]
     },
     "execution_count": 80,
     "metadata": {},
     "output_type": "execute_result"
    }
   ],
   "source": [
    "movie = pd.read_excel('../data/전체영화데이터.xls', index_col=0)\n",
    "movie.head(3)"
   ]
  },
  {
   "cell_type": "markdown",
   "metadata": {},
   "source": [
    "#### 네이버 영화 데이터"
   ]
  },
  {
   "cell_type": "markdown",
   "metadata": {},
   "source": [
    "- 네이버 영화 검색 결과\n",
    "- 컬럼 정보\n",
    "  - 순번 : 인덱스, 수치형\n",
    "  - 영화명 : 영화명, 범주형\n",
    "  - 주연배우 : 주연배우, 범주형(복수의 경우 콤마(,)로 구분)\n",
    "  - 평점 : 영화 평균 평점, 수치형\n",
    "  - 평가자수 : 영화 평점 평가자 수, 수치형\n",
    "  - 상영시간 : 영화 상영 시간, 수치형"
   ]
  },
  {
   "cell_type": "code",
   "execution_count": 81,
   "metadata": {},
   "outputs": [
    {
     "data": {
      "text/html": [
       "<div>\n",
       "<style scoped>\n",
       "    .dataframe tbody tr th:only-of-type {\n",
       "        vertical-align: middle;\n",
       "    }\n",
       "\n",
       "    .dataframe tbody tr th {\n",
       "        vertical-align: top;\n",
       "    }\n",
       "\n",
       "    .dataframe thead th {\n",
       "        text-align: right;\n",
       "    }\n",
       "</style>\n",
       "<table border=\"1\" class=\"dataframe\">\n",
       "  <thead>\n",
       "    <tr style=\"text-align: right;\">\n",
       "      <th></th>\n",
       "      <th>영화명</th>\n",
       "      <th>감독</th>\n",
       "      <th>주연배우</th>\n",
       "      <th>평점</th>\n",
       "      <th>평가자수</th>\n",
       "      <th>상영시간</th>\n",
       "    </tr>\n",
       "  </thead>\n",
       "  <tbody>\n",
       "    <tr>\n",
       "      <th>0</th>\n",
       "      <td>33</td>\n",
       "      <td>패트리시아 리건</td>\n",
       "      <td>['안토니오 반데라스', ' 로드리고 산토로', ' 줄리엣 비노쉬']</td>\n",
       "      <td>8.56</td>\n",
       "      <td>241</td>\n",
       "      <td>126</td>\n",
       "    </tr>\n",
       "    <tr>\n",
       "      <th>1</th>\n",
       "      <td>800</td>\n",
       "      <td>관후</td>\n",
       "      <td>['어우 하오', ' 두순', ' 장유호', ' 당예흔', ' 강무', ' 야오천'...</td>\n",
       "      <td>3.40</td>\n",
       "      <td>693</td>\n",
       "      <td>149</td>\n",
       "    </tr>\n",
       "    <tr>\n",
       "      <th>2</th>\n",
       "      <td>1917</td>\n",
       "      <td>샘 멘데스</td>\n",
       "      <td>['조지 맥케이', ' 딘-찰스 채프먼']</td>\n",
       "      <td>8.89</td>\n",
       "      <td>6279</td>\n",
       "      <td>119</td>\n",
       "    </tr>\n",
       "  </tbody>\n",
       "</table>\n",
       "</div>"
      ],
      "text/plain": [
       "    영화명        감독                                               주연배우    평점  \\\n",
       "0    33  패트리시아 리건             ['안토니오 반데라스', ' 로드리고 산토로', ' 줄리엣 비노쉬']  8.56   \n",
       "1   800        관후  ['어우 하오', ' 두순', ' 장유호', ' 당예흔', ' 강무', ' 야오천'...  3.40   \n",
       "2  1917     샘 멘데스                            ['조지 맥케이', ' 딘-찰스 채프먼']  8.89   \n",
       "\n",
       "   평가자수  상영시간  \n",
       "0   241   126  \n",
       "1   693   149  \n",
       "2  6279   119  "
      ]
     },
     "execution_count": 81,
     "metadata": {},
     "output_type": "execute_result"
    }
   ],
   "source": [
    "naver_movie = pd.read_excel('../data/네이버_영화_데이터.xlsx', index_col=0)\n",
    "naver_movie.head(3)"
   ]
  },
  {
   "cell_type": "markdown",
   "metadata": {},
   "source": [
    "#### 역대 박스 오피스 정보"
   ]
  },
  {
   "cell_type": "markdown",
   "metadata": {},
   "source": [
    "- KOBIS 공식 통계 : https://www.kobis.or.kr/kobis/business/stat/offc/searchOfficHitTotList.do?searchMode=year\n",
    "- 한국영화연감(1971~2010) 통계를 기준으로 정리한 것이며, 2011년부터는 통합전산망을 기준으로 일정한 주기(매월, 매년)로 마감처리하여 산출되는 통계정보\n",
    "- 전체 데이터 중 전국 관객수 기준 Top 300 데이터 사용\n",
    "- 컬럼 정보\n",
    "  - 순번 : 인덱스, 수치형\n",
    "  - 영화명 : 영화명, 범주형\n",
    "  - 감독 : 감독명, 범주형(다수일 경우 ', '로 구분)\n",
    "  - 국적 : 영화 제작 국가, 범주형\n",
    "  - 전국관객수 : 전국 관객수, 수치형\n",
    "  - 개봉년도 : 개봉년도, 날짜형(년도만 표현)\n",
    "  - 개봉일 : 개봉일, 날짜형('YYYY-MM-DD')\n",
    "  - 배우 : 출연 배우 목록, 범주형(['배우1', '배우2', ...]의 형태로 표현)\n"
   ]
  },
  {
   "cell_type": "code",
   "execution_count": 82,
   "metadata": {},
   "outputs": [
    {
     "data": {
      "text/html": [
       "<div>\n",
       "<style scoped>\n",
       "    .dataframe tbody tr th:only-of-type {\n",
       "        vertical-align: middle;\n",
       "    }\n",
       "\n",
       "    .dataframe tbody tr th {\n",
       "        vertical-align: top;\n",
       "    }\n",
       "\n",
       "    .dataframe thead th {\n",
       "        text-align: right;\n",
       "    }\n",
       "</style>\n",
       "<table border=\"1\" class=\"dataframe\">\n",
       "  <thead>\n",
       "    <tr style=\"text-align: right;\">\n",
       "      <th></th>\n",
       "      <th>영화명</th>\n",
       "      <th>감독</th>\n",
       "      <th>국적</th>\n",
       "      <th>전국관객수</th>\n",
       "      <th>개봉일</th>\n",
       "      <th>개봉년도</th>\n",
       "      <th>배우</th>\n",
       "    </tr>\n",
       "    <tr>\n",
       "      <th>순번</th>\n",
       "      <th></th>\n",
       "      <th></th>\n",
       "      <th></th>\n",
       "      <th></th>\n",
       "      <th></th>\n",
       "      <th></th>\n",
       "      <th></th>\n",
       "    </tr>\n",
       "  </thead>\n",
       "  <tbody>\n",
       "    <tr>\n",
       "      <th>1</th>\n",
       "      <td>명량</td>\n",
       "      <td>김한민</td>\n",
       "      <td>한국</td>\n",
       "      <td>17613682</td>\n",
       "      <td>2014-07-30</td>\n",
       "      <td>2014</td>\n",
       "      <td>['최민식', '류승룡', '조진웅']</td>\n",
       "    </tr>\n",
       "    <tr>\n",
       "      <th>2</th>\n",
       "      <td>극한직업</td>\n",
       "      <td>이병헌</td>\n",
       "      <td>한국</td>\n",
       "      <td>16264944</td>\n",
       "      <td>2019-01-23</td>\n",
       "      <td>2019</td>\n",
       "      <td>['류승룡', '이하늬', '진선규', '이동휘', '공명']</td>\n",
       "    </tr>\n",
       "    <tr>\n",
       "      <th>3</th>\n",
       "      <td>신과함께-죄와 벌</td>\n",
       "      <td>김용화</td>\n",
       "      <td>한국</td>\n",
       "      <td>14410754</td>\n",
       "      <td>2017-12-20</td>\n",
       "      <td>2017</td>\n",
       "      <td>['하정우', '차태현', '주지훈', '김향기', '김동욱', '마동석']</td>\n",
       "    </tr>\n",
       "  </tbody>\n",
       "</table>\n",
       "</div>"
      ],
      "text/plain": [
       "          영화명   감독  국적     전국관객수        개봉일  개봉년도  \\\n",
       "순번                                                  \n",
       "1          명량  김한민  한국  17613682 2014-07-30  2014   \n",
       "2        극한직업  이병헌  한국  16264944 2019-01-23  2019   \n",
       "3   신과함께-죄와 벌  김용화  한국  14410754 2017-12-20  2017   \n",
       "\n",
       "                                            배우  \n",
       "순번                                              \n",
       "1                        ['최민식', '류승룡', '조진웅']  \n",
       "2           ['류승룡', '이하늬', '진선규', '이동휘', '공명']  \n",
       "3   ['하정우', '차태현', '주지훈', '김향기', '김동욱', '마동석']  "
      ]
     },
     "execution_count": 82,
     "metadata": {},
     "output_type": "execute_result"
    }
   ],
   "source": [
    "ranking = pd.read_excel('../data/역대박스오피스_final.xls', index_col=0)\n",
    "ranking.head(3)"
   ]
  },
  {
   "cell_type": "markdown",
   "metadata": {},
   "source": [
    "## ◾데이터 분석"
   ]
  },
  {
   "cell_type": "code",
   "execution_count": 83,
   "metadata": {},
   "outputs": [],
   "source": [
    "import plotly.express as px\n",
    "import seaborn as sns\n",
    "import matplotlib.pyplot as plt\n",
    "import set_matplotlib_korean\n",
    "import warnings\n",
    "warnings.filterwarnings(action='ignore')"
   ]
  },
  {
   "cell_type": "markdown",
   "metadata": {},
   "source": [
    "### 1. 영화 데이터"
   ]
  },
  {
   "cell_type": "markdown",
   "metadata": {},
   "source": [
    "#### 영화 데이터 결측치"
   ]
  },
  {
   "cell_type": "markdown",
   "metadata": {},
   "source": [
    "- 2011 ~ 2020년 총 13308개의 데이터\n",
    "- 결측치가 있는 컬럼을 확인하여 결측치를 확인해본다."
   ]
  },
  {
   "cell_type": "code",
   "execution_count": 84,
   "metadata": {},
   "outputs": [
    {
     "name": "stdout",
     "output_type": "stream",
     "text": [
      "<class 'pandas.core.frame.DataFrame'>\n",
      "Int64Index: 13308 entries, 1 to 13308\n",
      "Data columns (total 17 columns):\n",
      " #   Column  Non-Null Count  Dtype         \n",
      "---  ------  --------------  -----         \n",
      " 0   영화명     13308 non-null  object        \n",
      " 1   감독      12619 non-null  object        \n",
      " 2   제작사     3941 non-null   object        \n",
      " 3   수입사     9095 non-null   object        \n",
      " 4   배급사     13292 non-null  object        \n",
      " 5   개봉일     13308 non-null  datetime64[ns]\n",
      " 6   영화유형    13308 non-null  object        \n",
      " 7   영화형태    13307 non-null  object        \n",
      " 8   국적      13308 non-null  object        \n",
      " 9   전국스크린수  13308 non-null  int64         \n",
      " 10  전국매출액   13308 non-null  int64         \n",
      " 11  전국관객수   13308 non-null  int64         \n",
      " 12  서울매출액   13302 non-null  float64       \n",
      " 13  서울관객수   13308 non-null  int64         \n",
      " 14  장르      13238 non-null  object        \n",
      " 15  등급      13308 non-null  object        \n",
      " 16  영화구분    13308 non-null  object        \n",
      "dtypes: datetime64[ns](1), float64(1), int64(4), object(11)\n",
      "memory usage: 1.8+ MB\n"
     ]
    }
   ],
   "source": [
    "movie.info()"
   ]
  },
  {
   "cell_type": "markdown",
   "metadata": {},
   "source": [
    "- 제작사, 수입사, 배급사 결측치\n",
    "  - 제작사, 수입사의 경우 결측치가 많으므로 배급사를 대표값으로 사용한다.\n",
    "  - 제작사, 수입사 컬럼은 삭제한다.\n",
    "  - 배급사의 경우 큰 영향이 없어 삭제한다.\n",
    "- 감독, 장르, 영화 형태의 결측치는 '기타'로 대체한다.\n",
    "- 서울매출액, 서울관객수 컬럼은 삭제한다."
   ]
  },
  {
   "cell_type": "code",
   "execution_count": 85,
   "metadata": {},
   "outputs": [
    {
     "data": {
      "text/plain": [
       "영화명          0\n",
       "감독         689\n",
       "제작사       9367\n",
       "수입사       4213\n",
       "배급사         16\n",
       "개봉일          0\n",
       "영화유형         0\n",
       "영화형태         1\n",
       "국적           0\n",
       "전국스크린수       0\n",
       "전국매출액        0\n",
       "전국관객수        0\n",
       "서울매출액        6\n",
       "서울관객수        0\n",
       "장르          70\n",
       "등급           0\n",
       "영화구분         0\n",
       "dtype: int64"
      ]
     },
     "execution_count": 85,
     "metadata": {},
     "output_type": "execute_result"
    }
   ],
   "source": [
    "movie.isnull().sum()"
   ]
  },
  {
   "cell_type": "code",
   "execution_count": 86,
   "metadata": {},
   "outputs": [],
   "source": [
    "# 결측치 처리\n",
    "movie = movie.drop(['제작사', '수입사', '배급사'], axis=1)\n",
    "movie = movie.drop(['서울매출액', '서울관객수'], axis=1)\n",
    "movie['감독'].fillna('기타', inplace=True)\n",
    "movie['장르'].fillna('기타', inplace=True)\n",
    "movie['영화형태'].fillna('기타', inplace=True)"
   ]
  },
  {
   "cell_type": "code",
   "execution_count": 87,
   "metadata": {},
   "outputs": [
    {
     "data": {
      "text/plain": [
       "영화명       0\n",
       "감독        0\n",
       "개봉일       0\n",
       "영화유형      0\n",
       "영화형태      0\n",
       "국적        0\n",
       "전국스크린수    0\n",
       "전국매출액     0\n",
       "전국관객수     0\n",
       "장르        0\n",
       "등급        0\n",
       "영화구분      0\n",
       "dtype: int64"
      ]
     },
     "execution_count": 87,
     "metadata": {},
     "output_type": "execute_result"
    }
   ],
   "source": [
    "movie.isnull().sum()"
   ]
  },
  {
   "cell_type": "code",
   "execution_count": 88,
   "metadata": {},
   "outputs": [],
   "source": [
    "# 데이터 임시 저장\n",
    "# movie.to_excel('../data/전체영화데이터_1_fillna.xls', encoding='utf-8')\n",
    "# xlwt의 유지보수가 끝나 사용이 종료된다고 한다. 으악\n",
    "\n",
    "# import openpyxl\n",
    "# openpyxl 사용 코드 예시를 첨부한다.\n",
    "# writer = pd.ExcelWriter(\"../data/test.xls\", engine='openpyxl', date_format='YYYY-MM-DD')\n",
    "# movie.to_excel(writer)\n",
    "# writer.close()"
   ]
  },
  {
   "cell_type": "markdown",
   "metadata": {},
   "source": [
    "#### 영화 데이터 범주형 확인"
   ]
  },
  {
   "cell_type": "markdown",
   "metadata": {},
   "source": [
    "- 데이터 유형\n",
    "  - 날짜형(1개) : 개봉일('YYYY-MM-DD')\n",
    "  - 수치형(3개) : 전국스크린수, 전국매출액, 전국관객수\n",
    "  - 범주형(8개) : 영화명, 감독, 영화유형, 영화형태, 국적, 장르, 등급, 영화구분\n",
    "- 범주형 데이터 중복 확인한 결과 영화명을 제외하고 중복값이 많은 것을 볼 수 있다.\n",
    "- 각 범주형을 살펴보며 데이터 정리를 진행한다."
   ]
  },
  {
   "cell_type": "code",
   "execution_count": 89,
   "metadata": {},
   "outputs": [
    {
     "name": "stdout",
     "output_type": "stream",
     "text": [
      "컬럼 [영화명] UNIQUE : 13116\n",
      "컬럼 [감독] UNIQUE : 6131\n",
      "컬럼 [영화유형] UNIQUE : 1\n",
      "컬럼 [영화형태] UNIQUE : 4\n",
      "컬럼 [국적] UNIQUE : 68\n",
      "컬럼 [장르] UNIQUE : 21\n",
      "컬럼 [등급] UNIQUE : 10\n",
      "컬럼 [영화구분] UNIQUE : 2\n"
     ]
    }
   ],
   "source": [
    "category_cols = ['영화명','감독','영화유형','영화형태','국적','장르','등급','영화구분',]\n",
    "\n",
    "# 범주형 데이터의 unique 확인\n",
    "for col in category_cols:\n",
    "    print('컬럼 [{}] UNIQUE : {}'.format(col, len(movie[col].unique())))"
   ]
  },
  {
   "cell_type": "markdown",
   "metadata": {},
   "source": [
    "##### 1. 감독"
   ]
  },
  {
   "cell_type": "markdown",
   "metadata": {},
   "source": [
    "- 감독 데이터\n",
    "  - 다수의 감독이 있는 경우 콤마(,)로 구분되어 있다.\n",
    "  - 다수의 감독을 분리하여 1명의 대표감독으로 변경해준다.\n",
    "    - ','를 기준으로 분리 오름차순 정렬 후 첫 번째 감독을 사용\n",
    "    - `'안소니 루소,조 루소'`-`'조 루소, 안소니 루소'`와 같은 형태가 존재하기에 정렬을 진행한다."
   ]
  },
  {
   "cell_type": "code",
   "execution_count": 90,
   "metadata": {},
   "outputs": [
    {
     "data": {
      "text/plain": [
       "array(['김한민', '이병헌', '김용화', ..., '오카다 히로', '허재형', '레 탄 선'], dtype=object)"
      ]
     },
     "execution_count": 90,
     "metadata": {},
     "output_type": "execute_result"
    }
   ],
   "source": [
    "movie['감독'].unique()"
   ]
  },
  {
   "cell_type": "code",
   "execution_count": 91,
   "metadata": {},
   "outputs": [],
   "source": [
    "# 다수의 감독 데이터 변경\n",
    "for idx, row in movie.iterrows():\n",
    "    if ',' in row['감독']:\n",
    "        directors = row['감독'].split(',')\n",
    "        # 양 끝 공백 제거 후 정렬\n",
    "        directors.sort(key=lambda x : x.strip())\n",
    "        movie['감독'][idx] = directors[0].strip()"
   ]
  },
  {
   "cell_type": "markdown",
   "metadata": {},
   "source": [
    "- 대표 감독 선정으로 5987 개로 정리되었다."
   ]
  },
  {
   "cell_type": "code",
   "execution_count": 92,
   "metadata": {},
   "outputs": [
    {
     "data": {
      "text/plain": [
       "(5987,\n",
       " array(['김한민', '이병헌', '김용화', ..., '오카다 히로', '허재형', '레 탄 선'], dtype=object))"
      ]
     },
     "execution_count": 92,
     "metadata": {},
     "output_type": "execute_result"
    }
   ],
   "source": [
    "len(movie['감독'].unique()), movie['감독'].unique()"
   ]
  },
  {
   "cell_type": "markdown",
   "metadata": {},
   "source": [
    "##### 2. 영화 유형"
   ]
  },
  {
   "cell_type": "markdown",
   "metadata": {},
   "source": [
    "- 영화유형 데이터\n",
    "  - 1개의 유형만 가지고 있으므로 해당 컬럼은 삭제한다."
   ]
  },
  {
   "cell_type": "code",
   "execution_count": 93,
   "metadata": {},
   "outputs": [
    {
     "data": {
      "text/plain": [
       "array(['개봉영화'], dtype=object)"
      ]
     },
     "execution_count": 93,
     "metadata": {},
     "output_type": "execute_result"
    }
   ],
   "source": [
    "movie['영화유형'].unique()"
   ]
  },
  {
   "cell_type": "code",
   "execution_count": 94,
   "metadata": {},
   "outputs": [],
   "source": [
    "movie.drop('영화유형', axis=1, inplace=True)"
   ]
  },
  {
   "cell_type": "code",
   "execution_count": 95,
   "metadata": {},
   "outputs": [
    {
     "data": {
      "text/plain": [
       "Index(['영화명', '감독', '개봉일', '영화형태', '국적', '전국스크린수', '전국매출액', '전국관객수', '장르',\n",
       "       '등급', '영화구분'],\n",
       "      dtype='object')"
      ]
     },
     "execution_count": 95,
     "metadata": {},
     "output_type": "execute_result"
    }
   ],
   "source": [
    "movie.columns"
   ]
  },
  {
   "cell_type": "markdown",
   "metadata": {},
   "source": [
    "##### 3. 영화형태"
   ]
  },
  {
   "cell_type": "markdown",
   "metadata": {},
   "source": [
    "- 영화형태 데이터\n",
    "  - 4개의 유형을 가진 데이터로 이상한 값은 없으므로 넘어간다.\n",
    "  - 장편이 압도적으로 많은 것을 볼 수 있다."
   ]
  },
  {
   "cell_type": "code",
   "execution_count": 96,
   "metadata": {},
   "outputs": [
    {
     "data": {
      "text/plain": [
       "array(['장편', '옴니버스', '단편', '기타'], dtype=object)"
      ]
     },
     "execution_count": 96,
     "metadata": {},
     "output_type": "execute_result"
    }
   ],
   "source": [
    "movie['영화형태'].unique()"
   ]
  },
  {
   "cell_type": "code",
   "execution_count": 97,
   "metadata": {},
   "outputs": [
    {
     "data": {
      "text/plain": [
       "장편      13262\n",
       "옴니버스       44\n",
       "단편          1\n",
       "기타          1\n",
       "Name: 영화형태, dtype: int64"
      ]
     },
     "execution_count": 97,
     "metadata": {},
     "output_type": "execute_result"
    }
   ],
   "source": [
    "movie['영화형태'].value_counts()"
   ]
  },
  {
   "cell_type": "code",
   "execution_count": 98,
   "metadata": {},
   "outputs": [
    {
     "data": {
      "image/png": "[encoded data removed]",
      "text/plain": [
       "<Figure size 360x216 with 1 Axes>"
      ]
     },
     "metadata": {
      "needs_background": "light"
     },
     "output_type": "display_data"
    }
   ],
   "source": [
    "ordered_index = movie['영화형태'].value_counts().sort_values(ascending=False).index\n",
    "plt.figure(figsize=(5, 3))\n",
    "sns.countplot(data = movie, y = '영화형태', order=ordered_index)\n",
    "plt.show()"
   ]
  },
  {
   "cell_type": "markdown",
   "metadata": {},
   "source": [
    "##### 4. 국적"
   ]
  },
  {
   "cell_type": "markdown",
   "metadata": {},
   "source": [
    "- 국적 데이터\n",
    "  - 총 68개의 유형이 있다.\n",
    "  - 국적별 영화수의 top3과 나머지의 차이가 많으므로 나머지 국가를 기타로 변경한다."
   ]
  },
  {
   "cell_type": "code",
   "execution_count": 99,
   "metadata": {},
   "outputs": [
    {
     "data": {
      "text/plain": [
       "(68,\n",
       " array(['한국', '미국', '일본', '영국', '프랑스', '벨기에', '아이슬란드', '독일', '스페인', '러시아',\n",
       "        '아일랜드', '남아프리카공화국', '인도', '대만', '핀란드', '중국', '스웨덴', '이탈리아', '호주',\n",
       "        '덴마크', '캐나다', '기타', '아르헨티나', '홍콩', '페루', '태국', '우크라이나', '노르웨이',\n",
       "        '오스트리아', '터키', '멕시코', '뉴질랜드', '체코', '그리스', '폴란드', '칠레', '헝가리',\n",
       "        '말레이시아', '인도네시아', '브라질', '네덜란드', '이스라엘', '이란', '싱가포르', '루마니아',\n",
       "        '포르투갈', '스위스', '팔레스타인', '콜롬비아', '에스토니아', '아랍에미리트연합국정부', '베트남',\n",
       "        '몽고', '불가리아', '부탄', '슬로바키아', '쿠바', '크로아티아', '베네수엘라', '카자흐스탄',\n",
       "        '우루과이', '몰타', '필리핀', '세르비아', '이라크', '마케도니아', '모로코', '우즈베키스탄'],\n",
       "       dtype=object))"
      ]
     },
     "execution_count": 99,
     "metadata": {},
     "output_type": "execute_result"
    }
   ],
   "source": [
    "len(movie['국적'].unique()), movie['국적'].unique()"
   ]
  },
  {
   "cell_type": "code",
   "execution_count": 100,
   "metadata": {},
   "outputs": [
    {
     "data": {
      "text/plain": [
       "한국     3954\n",
       "일본     3912\n",
       "미국     2668\n",
       "프랑스     436\n",
       "영국      424\n",
       "중국      340\n",
       "독일      224\n",
       "캐나다     172\n",
       "스페인     131\n",
       "홍콩      130\n",
       "Name: 국적, dtype: int64"
      ]
     },
     "execution_count": 100,
     "metadata": {},
     "output_type": "execute_result"
    }
   ],
   "source": [
    "movie['국적'].value_counts().sort_values(ascending=False)[:10]"
   ]
  },
  {
   "cell_type": "code",
   "execution_count": 101,
   "metadata": {},
   "outputs": [
    {
     "data": {
      "image/png": "[encoded data removed]",
      "text/plain": [
       "<Figure size 504x216 with 1 Axes>"
      ]
     },
     "metadata": {
      "needs_background": "light"
     },
     "output_type": "display_data"
    }
   ],
   "source": [
    "top10 = movie['국적'].value_counts().sort_values(ascending=True)[-10:].copy()\n",
    "plt.figure(figsize=(7, 3))\n",
    "plt.barh(top10.index, top10.values)\n",
    "plt.show()"
   ]
  },
  {
   "cell_type": "code",
   "execution_count": 102,
   "metadata": {},
   "outputs": [],
   "source": [
    "# 국적 데이터 변경\n",
    "for idx, row in movie.iterrows():\n",
    "    if  row['국적'] not in ['한국', '일본', '미국']:\n",
    "        movie['국적'][idx] = '기타'"
   ]
  },
  {
   "cell_type": "markdown",
   "metadata": {},
   "source": [
    "- 총 4개의 유형만 남은 것을 볼 수 있다."
   ]
  },
  {
   "cell_type": "code",
   "execution_count": 103,
   "metadata": {},
   "outputs": [
    {
     "data": {
      "text/plain": [
       "한국    3954\n",
       "일본    3912\n",
       "기타    2774\n",
       "미국    2668\n",
       "Name: 국적, dtype: int64"
      ]
     },
     "execution_count": 103,
     "metadata": {},
     "output_type": "execute_result"
    }
   ],
   "source": [
    "movie['국적'].value_counts()"
   ]
  },
  {
   "cell_type": "markdown",
   "metadata": {},
   "source": [
    "##### 5. 장르"
   ]
  },
  {
   "cell_type": "markdown",
   "metadata": {},
   "source": [
    "- 장르 데이터\n",
    "  - 결측치를 기타로 변경한 뒤이기 때문에 `KOBIS 장르 분포 통계` 기준과 같은 장르를 가진다.\n",
    "  - count를 확인해본 결과 멜로/로맨스가 가장 높은 수치를 기록하였다."
   ]
  },
  {
   "cell_type": "code",
   "execution_count": 104,
   "metadata": {},
   "outputs": [
    {
     "data": {
      "text/plain": [
       "(21,\n",
       " array(['사극', '코미디', '판타지', '드라마', '액션', '애니메이션', '어드벤처', 'SF', '범죄', '전쟁',\n",
       "        '미스터리', '멜로/로맨스', '스릴러', '다큐멘터리', '공포(호러)', '뮤지컬', '가족', '공연',\n",
       "        '기타', '서부극(웨스턴)', '성인물(에로)'], dtype=object))"
      ]
     },
     "execution_count": 104,
     "metadata": {},
     "output_type": "execute_result"
    }
   ],
   "source": [
    "len(movie['장르'].unique()), movie['장르'].unique()"
   ]
  },
  {
   "cell_type": "code",
   "execution_count": 105,
   "metadata": {},
   "outputs": [
    {
     "data": {
      "image/png": "[encoded data removed]",
      "text/plain": [
       "<Figure size 720x360 with 1 Axes>"
      ]
     },
     "metadata": {
      "needs_background": "light"
     },
     "output_type": "display_data"
    }
   ],
   "source": [
    "ordered_index = movie['장르'].value_counts().sort_values(ascending=False).index\n",
    "plt.figure(figsize=(10, 5))\n",
    "sns.countplot(data = movie, y = '장르', order=ordered_index)\n",
    "plt.show()"
   ]
  },
  {
   "cell_type": "markdown",
   "metadata": {},
   "source": [
    "##### 6. 등급"
   ]
  },
  {
   "cell_type": "markdown",
   "metadata": {},
   "source": [
    "- 등급 데이터\n",
    "  - 10개의 유형이 있고 복수의 데이터가 있는 경우를 확인하였다. \n",
    "  - 다수의 등급을 분리하여 1개의 대표등급으로 변경해준다.\n",
    "    - 다수의 등급이 있는 경우 시청 연령이 작은 쪽을 선택해준다."
   ]
  },
  {
   "cell_type": "code",
   "execution_count": 106,
   "metadata": {},
   "outputs": [
    {
     "data": {
      "text/plain": [
       "(10,\n",
       " array(['15세이상관람가', '12세이상관람가', '전체관람가', '청소년관람불가', '청소년관람불가,15세이상관람가',\n",
       "        '15세관람가', '12세이상관람가,15세이상관람가', '12세이상관람가,전체관람가', '15세이상관람가,전체관람가',\n",
       "        '15세관람가,12세이상관람가'], dtype=object))"
      ]
     },
     "execution_count": 106,
     "metadata": {},
     "output_type": "execute_result"
    }
   ],
   "source": [
    "len(movie['등급'].unique()), movie['등급'].unique()"
   ]
  },
  {
   "cell_type": "code",
   "execution_count": 107,
   "metadata": {},
   "outputs": [],
   "source": [
    "# 다수의 등급 데이터 변경\n",
    "for idx, row in movie.iterrows():\n",
    "    if ',' in row['등급']:\n",
    "        ratings = row['등급'].split(',')\n",
    "        # 전체, 12, 15, 청소년관람불가 순\n",
    "        if '전체' in ratings:\n",
    "            movie['등급'][idx] = '전체관람가'\n",
    "        elif '12' in ratings:\n",
    "            movie['등급'][idx] = '12세관람가'\n",
    "        elif '15' in ratings:\n",
    "            movie['등급'][idx] = '15세관람가'\n",
    "        else:\n",
    "            movie['등급'][idx] = '청소년관람불가'\n",
    "    else:\n",
    "        movie['등급'][idx] = movie['등급'][idx].replace('이상', '')"
   ]
  },
  {
   "cell_type": "markdown",
   "metadata": {},
   "source": [
    "- 총 4개의 유형으로 정리하였다.\n",
    "  - 15세관람가, 12세관람가, 전체관람가, 청소년관람불가"
   ]
  },
  {
   "cell_type": "code",
   "execution_count": 108,
   "metadata": {},
   "outputs": [
    {
     "data": {
      "text/plain": [
       "(4, array(['15세관람가', '12세관람가', '전체관람가', '청소년관람불가'], dtype=object))"
      ]
     },
     "execution_count": 108,
     "metadata": {},
     "output_type": "execute_result"
    }
   ],
   "source": [
    "len(movie['등급'].unique()), movie['등급'].unique()"
   ]
  },
  {
   "cell_type": "code",
   "execution_count": 109,
   "metadata": {},
   "outputs": [
    {
     "data": {
      "image/png": "[encoded data removed]",
      "text/plain": [
       "<Figure size 360x216 with 1 Axes>"
      ]
     },
     "metadata": {
      "needs_background": "light"
     },
     "output_type": "display_data"
    }
   ],
   "source": [
    "ordered_index = movie['등급'].value_counts().sort_values(ascending=False).index\n",
    "plt.figure(figsize=(5, 3))\n",
    "sns.countplot(data = movie, y = '등급', order=ordered_index)\n",
    "plt.show()"
   ]
  },
  {
   "cell_type": "markdown",
   "metadata": {},
   "source": [
    "##### 7. 영화구분"
   ]
  },
  {
   "cell_type": "markdown",
   "metadata": {},
   "source": [
    "- 영화구분 데이터\n",
    "  - 2개의 유형이 있고 일반영화가 2배 정도 더 많은 수치를 기록했다."
   ]
  },
  {
   "cell_type": "code",
   "execution_count": 110,
   "metadata": {},
   "outputs": [
    {
     "data": {
      "text/plain": [
       "(2, array(['일반영화', '독립/예술영화'], dtype=object))"
      ]
     },
     "execution_count": 110,
     "metadata": {},
     "output_type": "execute_result"
    }
   ],
   "source": [
    "len(movie['영화구분'].unique()), movie['영화구분'].unique()"
   ]
  },
  {
   "cell_type": "code",
   "execution_count": 111,
   "metadata": {},
   "outputs": [
    {
     "data": {
      "image/png": "[encoded data removed]",
      "text/plain": [
       "<Figure size 360x360 with 1 Axes>"
      ]
     },
     "metadata": {
      "needs_background": "light"
     },
     "output_type": "display_data"
    }
   ],
   "source": [
    "plt.figure(figsize=(5, 5))\n",
    "sns.countplot(data = movie, x = '영화구분')\n",
    "plt.show()"
   ]
  },
  {
   "cell_type": "markdown",
   "metadata": {},
   "source": [
    "##### 데이터 임시 저장"
   ]
  },
  {
   "cell_type": "code",
   "execution_count": 112,
   "metadata": {},
   "outputs": [],
   "source": [
    "# 데이터 임시 저장\n",
    "# movie.to_excel('../data/전체영화데이터_2_category.xls', encoding='utf-8')"
   ]
  },
  {
   "cell_type": "markdown",
   "metadata": {},
   "source": [
    "#### 영화 데이터 수치형 확인"
   ]
  },
  {
   "cell_type": "markdown",
   "metadata": {},
   "source": [
    "- 데이터 유형\n",
    "  - 날짜형(1개) : 개봉일('YYYY-MM-DD')\n",
    "  - 수치형(3개) : 전국스크린수, 전국매출액, 전국관객수\n",
    "  - 범주형(8개) : 영화명, 감독, 배급사, 영화형태, 국적, 장르, 등급, 영화구분"
   ]
  },
  {
   "cell_type": "code",
   "execution_count": 113,
   "metadata": {},
   "outputs": [
    {
     "data": {
      "text/html": [
       "<div>\n",
       "<style scoped>\n",
       "    .dataframe tbody tr th:only-of-type {\n",
       "        vertical-align: middle;\n",
       "    }\n",
       "\n",
       "    .dataframe tbody tr th {\n",
       "        vertical-align: top;\n",
       "    }\n",
       "\n",
       "    .dataframe thead th {\n",
       "        text-align: right;\n",
       "    }\n",
       "</style>\n",
       "<table border=\"1\" class=\"dataframe\">\n",
       "  <thead>\n",
       "    <tr style=\"text-align: right;\">\n",
       "      <th></th>\n",
       "      <th>전국스크린수</th>\n",
       "      <th>전국매출액</th>\n",
       "      <th>전국관객수</th>\n",
       "    </tr>\n",
       "  </thead>\n",
       "  <tbody>\n",
       "    <tr>\n",
       "      <th>count</th>\n",
       "      <td>13308</td>\n",
       "      <td>13308</td>\n",
       "      <td>13308</td>\n",
       "    </tr>\n",
       "    <tr>\n",
       "      <th>mean</th>\n",
       "      <td>86</td>\n",
       "      <td>1141088085</td>\n",
       "      <td>143850</td>\n",
       "    </tr>\n",
       "    <tr>\n",
       "      <th>std</th>\n",
       "      <td>224</td>\n",
       "      <td>6475225188</td>\n",
       "      <td>808506</td>\n",
       "    </tr>\n",
       "    <tr>\n",
       "      <th>min</th>\n",
       "      <td>0</td>\n",
       "      <td>0</td>\n",
       "      <td>0</td>\n",
       "    </tr>\n",
       "    <tr>\n",
       "      <th>25%</th>\n",
       "      <td>1</td>\n",
       "      <td>6000</td>\n",
       "      <td>1</td>\n",
       "    </tr>\n",
       "    <tr>\n",
       "      <th>50%</th>\n",
       "      <td>2</td>\n",
       "      <td>300000</td>\n",
       "      <td>61</td>\n",
       "    </tr>\n",
       "    <tr>\n",
       "      <th>75%</th>\n",
       "      <td>34</td>\n",
       "      <td>34914520</td>\n",
       "      <td>4845</td>\n",
       "    </tr>\n",
       "    <tr>\n",
       "      <th>max</th>\n",
       "      <td>2835</td>\n",
       "      <td>139647979516</td>\n",
       "      <td>17613682</td>\n",
       "    </tr>\n",
       "  </tbody>\n",
       "</table>\n",
       "</div>"
      ],
      "text/plain": [
       "       전국스크린수         전국매출액     전국관객수\n",
       "count   13308         13308     13308\n",
       "mean       86    1141088085    143850\n",
       "std       224    6475225188    808506\n",
       "min         0             0         0\n",
       "25%         1          6000         1\n",
       "50%         2        300000        61\n",
       "75%        34      34914520      4845\n",
       "max      2835  139647979516  17613682"
      ]
     },
     "execution_count": 113,
     "metadata": {},
     "output_type": "execute_result"
    }
   ],
   "source": [
    "movie[['전국스크린수', '전국매출액', '전국관객수']].describe().astype('int64')"
   ]
  },
  {
   "cell_type": "markdown",
   "metadata": {},
   "source": [
    "- 전국스크린수는 34개가 75% 지점이지만 최대값은 2835개인 만큼 불균형 현상이 있는 것을 볼 수 있다."
   ]
  },
  {
   "cell_type": "code",
   "execution_count": 114,
   "metadata": {},
   "outputs": [
    {
     "data": {
      "image/png": "[encoded data removed]",
      "text/plain": [
       "<Figure size 432x288 with 1 Axes>"
      ]
     },
     "metadata": {
      "needs_background": "light"
     },
     "output_type": "display_data"
    }
   ],
   "source": [
    "sns.distplot(movie['전국스크린수']);"
   ]
  },
  {
   "cell_type": "markdown",
   "metadata": {},
   "source": [
    "- 매출액 또한 편향된 데이터를 가진 것을 볼 수 있다."
   ]
  },
  {
   "cell_type": "code",
   "execution_count": 115,
   "metadata": {},
   "outputs": [
    {
     "data": {
      "image/png": "[encoded data removed]",
      "text/plain": [
       "<Figure size 432x288 with 1 Axes>"
      ]
     },
     "metadata": {
      "needs_background": "light"
     },
     "output_type": "display_data"
    }
   ],
   "source": [
    "sns.distplot(movie['전국매출액']);"
   ]
  },
  {
   "cell_type": "markdown",
   "metadata": {},
   "source": [
    "- 관객수 또한 편향된 데이터를 보이며 전체에 비해 소수의 영화만이 흥행에 성공한다는 것을 볼 수 있다."
   ]
  },
  {
   "cell_type": "code",
   "execution_count": 116,
   "metadata": {},
   "outputs": [
    {
     "data": {
      "image/png": "[encoded data removed]",
      "text/plain": [
       "<Figure size 432x288 with 1 Axes>"
      ]
     },
     "metadata": {
      "needs_background": "light"
     },
     "output_type": "display_data"
    }
   ],
   "source": [
    "sns.distplot(movie['전국관객수']);"
   ]
  },
  {
   "cell_type": "markdown",
   "metadata": {},
   "source": [
    "#### 영화 데이터 조절"
   ]
  },
  {
   "cell_type": "markdown",
   "metadata": {},
   "source": [
    "- 수치형 데이터의 경우 불균형이 심하기 때문에 약간의 조절을 해준다.\n",
    "  - 전국관객수 1000명 초과\n",
    "  - 전국스크린수 50개 초과\n",
    "  - 총 데이터 2950개"
   ]
  },
  {
   "cell_type": "code",
   "execution_count": 117,
   "metadata": {},
   "outputs": [
    {
     "data": {
      "text/plain": [
       "영화명       2950\n",
       "감독        2950\n",
       "개봉일       2950\n",
       "영화형태      2950\n",
       "국적        2950\n",
       "전국스크린수    2950\n",
       "전국매출액     2950\n",
       "전국관객수     2950\n",
       "장르        2950\n",
       "등급        2950\n",
       "영화구분      2950\n",
       "dtype: int64"
      ]
     },
     "execution_count": 117,
     "metadata": {},
     "output_type": "execute_result"
    }
   ],
   "source": [
    "movie[(movie['전국관객수'] > 1000) & (movie['전국스크린수'] > 50)].count()"
   ]
  },
  {
   "cell_type": "code",
   "execution_count": 118,
   "metadata": {},
   "outputs": [
    {
     "data": {
      "text/html": [
       "<div>\n",
       "<style scoped>\n",
       "    .dataframe tbody tr th:only-of-type {\n",
       "        vertical-align: middle;\n",
       "    }\n",
       "\n",
       "    .dataframe tbody tr th {\n",
       "        vertical-align: top;\n",
       "    }\n",
       "\n",
       "    .dataframe thead th {\n",
       "        text-align: right;\n",
       "    }\n",
       "</style>\n",
       "<table border=\"1\" class=\"dataframe\">\n",
       "  <thead>\n",
       "    <tr style=\"text-align: right;\">\n",
       "      <th></th>\n",
       "      <th>영화명</th>\n",
       "      <th>감독</th>\n",
       "      <th>개봉일</th>\n",
       "      <th>영화형태</th>\n",
       "      <th>국적</th>\n",
       "      <th>전국스크린수</th>\n",
       "      <th>전국매출액</th>\n",
       "      <th>전국관객수</th>\n",
       "      <th>장르</th>\n",
       "      <th>등급</th>\n",
       "      <th>영화구분</th>\n",
       "    </tr>\n",
       "    <tr>\n",
       "      <th>순번</th>\n",
       "      <th></th>\n",
       "      <th></th>\n",
       "      <th></th>\n",
       "      <th></th>\n",
       "      <th></th>\n",
       "      <th></th>\n",
       "      <th></th>\n",
       "      <th></th>\n",
       "      <th></th>\n",
       "      <th></th>\n",
       "      <th></th>\n",
       "    </tr>\n",
       "  </thead>\n",
       "  <tbody>\n",
       "    <tr>\n",
       "      <th>1</th>\n",
       "      <td>명량</td>\n",
       "      <td>김한민</td>\n",
       "      <td>2014-07-30</td>\n",
       "      <td>장편</td>\n",
       "      <td>한국</td>\n",
       "      <td>1587</td>\n",
       "      <td>135748398910</td>\n",
       "      <td>17613682</td>\n",
       "      <td>사극</td>\n",
       "      <td>15세관람가</td>\n",
       "      <td>일반영화</td>\n",
       "    </tr>\n",
       "    <tr>\n",
       "      <th>2</th>\n",
       "      <td>극한직업</td>\n",
       "      <td>이병헌</td>\n",
       "      <td>2019-01-23</td>\n",
       "      <td>장편</td>\n",
       "      <td>한국</td>\n",
       "      <td>1978</td>\n",
       "      <td>139647979516</td>\n",
       "      <td>16264944</td>\n",
       "      <td>코미디</td>\n",
       "      <td>15세관람가</td>\n",
       "      <td>일반영화</td>\n",
       "    </tr>\n",
       "    <tr>\n",
       "      <th>3</th>\n",
       "      <td>신과함께-죄와 벌</td>\n",
       "      <td>김용화</td>\n",
       "      <td>2017-12-20</td>\n",
       "      <td>장편</td>\n",
       "      <td>한국</td>\n",
       "      <td>1912</td>\n",
       "      <td>115698654137</td>\n",
       "      <td>14410754</td>\n",
       "      <td>판타지</td>\n",
       "      <td>12세관람가</td>\n",
       "      <td>일반영화</td>\n",
       "    </tr>\n",
       "  </tbody>\n",
       "</table>\n",
       "</div>"
      ],
      "text/plain": [
       "          영화명   감독        개봉일 영화형태  국적  전국스크린수         전국매출액     전국관객수   장르  \\\n",
       "순번                                                                            \n",
       "1          명량  김한민 2014-07-30   장편  한국    1587  135748398910  17613682   사극   \n",
       "2        극한직업  이병헌 2019-01-23   장편  한국    1978  139647979516  16264944  코미디   \n",
       "3   신과함께-죄와 벌  김용화 2017-12-20   장편  한국    1912  115698654137  14410754  판타지   \n",
       "\n",
       "        등급  영화구분  \n",
       "순번                \n",
       "1   15세관람가  일반영화  \n",
       "2   15세관람가  일반영화  \n",
       "3   12세관람가  일반영화  "
      ]
     },
     "execution_count": 118,
     "metadata": {},
     "output_type": "execute_result"
    }
   ],
   "source": [
    "movie_resize = movie[(movie['전국관객수'] > 1000) & (movie['전국스크린수'] > 50)]\n",
    "movie_resize.head(3)"
   ]
  },
  {
   "cell_type": "markdown",
   "metadata": {},
   "source": [
    "- 중복값 확인\n",
    "  - 중복값의 수가 많았던 `감독` 컬럼만 확인\n",
    "  - 감독의 수 : 5987명 -> 1965명"
   ]
  },
  {
   "cell_type": "code",
   "execution_count": 119,
   "metadata": {},
   "outputs": [
    {
     "data": {
      "text/plain": [
       "(1965,\n",
       " array(['김한민', '이병헌', '김용화', ..., '마이클 데미언', '줄리엔 라페뉴', '정형석'],\n",
       "       dtype=object))"
      ]
     },
     "execution_count": 119,
     "metadata": {},
     "output_type": "execute_result"
    }
   ],
   "source": [
    "len(movie_resize['감독'].unique()), movie_resize['감독'].unique()"
   ]
  },
  {
   "cell_type": "markdown",
   "metadata": {},
   "source": [
    "#### 수치형 데이터 상관관계 확인"
   ]
  },
  {
   "cell_type": "markdown",
   "metadata": {},
   "source": [
    "- 수치형 데이터들 간의 상관관계 확인\n",
    "  - 전국매출액과 전국 관객수는 1인 것을 확인할 수 있다.\n",
    "  - 이는 매출액과 관객수 모두 `발권 데이터`를 기준으로하기 때문이다. 따라서 전국 매출액 컬럼은 삭제한다.\n",
    "  - 전국스크린수와 전국관객수는 강한 상관관계가 있음을 볼 수 있다."
   ]
  },
  {
   "cell_type": "code",
   "execution_count": 120,
   "metadata": {},
   "outputs": [
    {
     "data": {
      "image/png": "[encoded data removed]",
      "text/plain": [
       "<Figure size 504x360 with 2 Axes>"
      ]
     },
     "metadata": {
      "needs_background": "light"
     },
     "output_type": "display_data"
    }
   ],
   "source": [
    "plt.figure(figsize=(7, 5))\n",
    "sns.heatmap(data=movie_resize[['전국스크린수', '전국매출액', '전국관객수']].corr(), fmt='.2f', annot=True)\n",
    "plt.show()"
   ]
  },
  {
   "cell_type": "code",
   "execution_count": 121,
   "metadata": {},
   "outputs": [],
   "source": [
    "movie_resize.drop('전국매출액', axis=1, inplace=True) "
   ]
  },
  {
   "cell_type": "code",
   "execution_count": 122,
   "metadata": {},
   "outputs": [],
   "source": [
    "# 임시 저장\n",
    "# movie_resize.to_excel('../data/전체영화데이터_3_resize.xls', encoding='utf-8')"
   ]
  },
  {
   "cell_type": "markdown",
   "metadata": {},
   "source": [
    "#### 범주형 데이터 정리 1"
   ]
  },
  {
   "cell_type": "markdown",
   "metadata": {},
   "source": [
    "- 범주형 데이터 중 `감독`는 각 유형의 수가 많아 더미 변수를 만들기 어렵다 판단하였습니다.\n",
    "- 감독의 영화 흥행 실적 여부를 변수로 새로 만들어 준다.\n",
    "- **네이버 영화 데이터를 결합한 후 설정하기 위해 이후에 작업**"
   ]
  },
  {
   "cell_type": "markdown",
   "metadata": {},
   "source": [
    "#### 범주형 데이터 정리 2"
   ]
  },
  {
   "cell_type": "markdown",
   "metadata": {},
   "source": [
    "- 범주형 데이터 중 `영화형태`, `국적`, `장르`, `등급`, `영화구분`은 더미 변수를 만들어 대체한다.\n",
    "  - sklearn의 OneHotEncoder을 이용해 더미 변수를 만들 수 있다.\n",
    "  - 대체로 Pandas의 `get_dummies()`를 이용할 수 있다.\n",
    "  - Pandas의 함수를 이용해 더미 변수를 만들었다.\n",
    "  - 더미 변수의 생성으로 컬럼의 수는 38개로 늘어났다."
   ]
  },
  {
   "cell_type": "code",
   "execution_count": 123,
   "metadata": {},
   "outputs": [
    {
     "name": "stdout",
     "output_type": "stream",
     "text": [
      "<class 'pandas.core.frame.DataFrame'>\n",
      "Int64Index: 2950 entries, 1 to 4697\n",
      "Data columns (total 38 columns):\n",
      " #   Column        Non-Null Count  Dtype         \n",
      "---  ------        --------------  -----         \n",
      " 0   영화명           2950 non-null   object        \n",
      " 1   감독            2950 non-null   object        \n",
      " 2   개봉일           2950 non-null   datetime64[ns]\n",
      " 3   전국스크린수        2950 non-null   int64         \n",
      " 4   전국관객수         2950 non-null   int64         \n",
      " 5   영화형태_단편       2950 non-null   uint8         \n",
      " 6   영화형태_옴니버스     2950 non-null   uint8         \n",
      " 7   영화형태_장편       2950 non-null   uint8         \n",
      " 8   국적_기타         2950 non-null   uint8         \n",
      " 9   국적_미국         2950 non-null   uint8         \n",
      " 10  국적_일본         2950 non-null   uint8         \n",
      " 11  국적_한국         2950 non-null   uint8         \n",
      " 12  장르_SF         2950 non-null   uint8         \n",
      " 13  장르_가족         2950 non-null   uint8         \n",
      " 14  장르_공연         2950 non-null   uint8         \n",
      " 15  장르_공포(호러)     2950 non-null   uint8         \n",
      " 16  장르_기타         2950 non-null   uint8         \n",
      " 17  장르_다큐멘터리      2950 non-null   uint8         \n",
      " 18  장르_드라마        2950 non-null   uint8         \n",
      " 19  장르_멜로/로맨스     2950 non-null   uint8         \n",
      " 20  장르_뮤지컬        2950 non-null   uint8         \n",
      " 21  장르_미스터리       2950 non-null   uint8         \n",
      " 22  장르_범죄         2950 non-null   uint8         \n",
      " 23  장르_사극         2950 non-null   uint8         \n",
      " 24  장르_서부극(웨스턴)   2950 non-null   uint8         \n",
      " 25  장르_스릴러        2950 non-null   uint8         \n",
      " 26  장르_애니메이션      2950 non-null   uint8         \n",
      " 27  장르_액션         2950 non-null   uint8         \n",
      " 28  장르_어드벤처       2950 non-null   uint8         \n",
      " 29  장르_전쟁         2950 non-null   uint8         \n",
      " 30  장르_코미디        2950 non-null   uint8         \n",
      " 31  장르_판타지        2950 non-null   uint8         \n",
      " 32  등급_12세관람가     2950 non-null   uint8         \n",
      " 33  등급_15세관람가     2950 non-null   uint8         \n",
      " 34  등급_전체관람가      2950 non-null   uint8         \n",
      " 35  등급_청소년관람불가    2950 non-null   uint8         \n",
      " 36  영화구분_독립/예술영화  2950 non-null   uint8         \n",
      " 37  영화구분_일반영화     2950 non-null   uint8         \n",
      "dtypes: datetime64[ns](1), int64(2), object(2), uint8(33)\n",
      "memory usage: 233.3+ KB\n"
     ]
    }
   ],
   "source": [
    "movie_dummies = pd.get_dummies(data=movie_resize, columns=['영화형태','국적','장르','등급','영화구분'])\n",
    "movie_dummies.info()"
   ]
  },
  {
   "cell_type": "code",
   "execution_count": 124,
   "metadata": {},
   "outputs": [],
   "source": [
    "# 임시 저장\n",
    "# movie_dummies.to_excel('../data/전체영화데이터_4_dummy.xls', encoding='utf-8')"
   ]
  },
  {
   "cell_type": "markdown",
   "metadata": {},
   "source": [
    "### 2. 네이버 영화"
   ]
  },
  {
   "cell_type": "markdown",
   "metadata": {},
   "source": [
    "#### 네이버 영화 데이터 결측치"
   ]
  },
  {
   "cell_type": "markdown",
   "metadata": {},
   "source": [
    "- 2011 ~ 2020년 데이터를 크롤링하여 총 2414개의 데이터이며 결측치는 없다."
   ]
  },
  {
   "cell_type": "code",
   "execution_count": 125,
   "metadata": {},
   "outputs": [
    {
     "name": "stdout",
     "output_type": "stream",
     "text": [
      "<class 'pandas.core.frame.DataFrame'>\n",
      "Int64Index: 2414 entries, 0 to 2413\n",
      "Data columns (total 6 columns):\n",
      " #   Column  Non-Null Count  Dtype  \n",
      "---  ------  --------------  -----  \n",
      " 0   영화명     2414 non-null   object \n",
      " 1   감독      2414 non-null   object \n",
      " 2   주연배우    2414 non-null   object \n",
      " 3   평점      2414 non-null   float64\n",
      " 4   평가자수    2414 non-null   int64  \n",
      " 5   상영시간    2414 non-null   int64  \n",
      "dtypes: float64(1), int64(2), object(3)\n",
      "memory usage: 132.0+ KB\n"
     ]
    }
   ],
   "source": [
    "naver_movie.info()"
   ]
  },
  {
   "cell_type": "markdown",
   "metadata": {},
   "source": [
    "#### 네이버 영화 범주형 데이터"
   ]
  },
  {
   "cell_type": "markdown",
   "metadata": {},
   "source": [
    "- 데이터 유형\n",
    "  - 수치형(3개) : 평점, 평가자수, 상영시간\n",
    "  - 범주형(3개) : 영화명, 감독, 주연배우\n",
    "- 조금씩 중복이 있는 것을 확인할 수 있다.\n",
    "- 영화명과 감독명을 합친 결과로는 중복값이 없으므로 해당값을 사용하여 `영화 데이터`와 결합한다."
   ]
  },
  {
   "cell_type": "code",
   "execution_count": 126,
   "metadata": {},
   "outputs": [
    {
     "name": "stdout",
     "output_type": "stream",
     "text": [
      "컬럼 [영화명] UNIQUE : 2403\n",
      "컬럼 [감독] UNIQUE : 1631\n",
      "컬럼 [주연배우] UNIQUE : 2325\n",
      "컬럼 [영화+감독] UNIQUE : 2414\n"
     ]
    }
   ],
   "source": [
    "category_cols = ['영화명','감독','주연배우', '영화+감독']\n",
    "naver_test = naver_movie.copy()\n",
    "naver_test['영화+감독'] = [row['영화명']+row['감독'] for idx, row in naver_test.iterrows()]\n",
    "# 범주형 데이터의 unique 확인\n",
    "for col in category_cols:\n",
    "    print('컬럼 [{}] UNIQUE : {}'.format(col, len(naver_test[col].unique())))"
   ]
  },
  {
   "cell_type": "markdown",
   "metadata": {},
   "source": [
    "##### 1. 주연배우"
   ]
  },
  {
   "cell_type": "markdown",
   "metadata": {},
   "source": [
    "- naver_movie의 `주연배우` 컬럼의 값을 문자열로 되어있기 때문에 `literal_eval` 함수를 이용해 리스트형으로 만들어준다.\n",
    "- 전체 배우의 중복 제거값을 확인해보면 총 4255명의 배우가 확인된다."
   ]
  },
  {
   "cell_type": "code",
   "execution_count": 127,
   "metadata": {},
   "outputs": [],
   "source": [
    "from ast import literal_eval\n",
    "\n",
    "# literal_evel : 문자열 그대로 파이썬 명령을 실행시켜주는 함수\n",
    "# 예시---------------------------------------\n",
    "# 문자열 : \"['문자열1', '문자열2', 22, '33']\"\n",
    "# 리스트 : ['문자열1', '문자열2', 22, '33']\n",
    "actors = set( actor.strip() for i, row in naver_movie.iterrows() for actor in literal_eval(row['주연배우']))\n",
    "actors.remove('')   # 공백 제거\n",
    "actors = list(actors)"
   ]
  },
  {
   "cell_type": "code",
   "execution_count": 128,
   "metadata": {},
   "outputs": [
    {
     "data": {
      "text/plain": [
       "(4253, ['다니엘 브륄', '김태진', '문유정', '배다빈', '론다 로우지'])"
      ]
     },
     "execution_count": 128,
     "metadata": {},
     "output_type": "execute_result"
    }
   ],
   "source": [
    "len(actors), actors[:5]"
   ]
  },
  {
   "cell_type": "code",
   "execution_count": 129,
   "metadata": {},
   "outputs": [
    {
     "data": {
      "text/plain": [
       "영화명     0\n",
       "감독      0\n",
       "주연배우    0\n",
       "평점      0\n",
       "평가자수    0\n",
       "상영시간    0\n",
       "dtype: int64"
      ]
     },
     "execution_count": 129,
     "metadata": {},
     "output_type": "execute_result"
    }
   ],
   "source": [
    "naver_movie.isnull().sum()"
   ]
  },
  {
   "cell_type": "code",
   "execution_count": 130,
   "metadata": {},
   "outputs": [],
   "source": [
    "# 임시 저장\n",
    "# naver_movie.to_excel('../data/네이버_영화_데이터_1_actor.xlsx')"
   ]
  },
  {
   "cell_type": "markdown",
   "metadata": {},
   "source": [
    "#### 결합"
   ]
  },
  {
   "cell_type": "code",
   "execution_count": 131,
   "metadata": {},
   "outputs": [
    {
     "name": "stdout",
     "output_type": "stream",
     "text": [
      "<class 'pandas.core.frame.DataFrame'>\n",
      "Int64Index: 2414 entries, 0 to 2413\n",
      "Data columns (total 6 columns):\n",
      " #   Column  Non-Null Count  Dtype  \n",
      "---  ------  --------------  -----  \n",
      " 0   영화명     2414 non-null   object \n",
      " 1   감독      2414 non-null   object \n",
      " 2   주연배우    2414 non-null   object \n",
      " 3   평점      2414 non-null   float64\n",
      " 4   평가자수    2414 non-null   int64  \n",
      " 5   상영시간    2414 non-null   int64  \n",
      "dtypes: float64(1), int64(2), object(3)\n",
      "memory usage: 132.0+ KB\n"
     ]
    }
   ],
   "source": [
    "naver_movie.info()"
   ]
  },
  {
   "cell_type": "code",
   "execution_count": 132,
   "metadata": {},
   "outputs": [
    {
     "name": "stdout",
     "output_type": "stream",
     "text": [
      "<class 'pandas.core.frame.DataFrame'>\n",
      "Int64Index: 2950 entries, 1 to 4697\n",
      "Data columns (total 38 columns):\n",
      " #   Column        Non-Null Count  Dtype         \n",
      "---  ------        --------------  -----         \n",
      " 0   영화명           2950 non-null   object        \n",
      " 1   감독            2950 non-null   object        \n",
      " 2   개봉일           2950 non-null   datetime64[ns]\n",
      " 3   전국스크린수        2950 non-null   int64         \n",
      " 4   전국관객수         2950 non-null   int64         \n",
      " 5   영화형태_단편       2950 non-null   uint8         \n",
      " 6   영화형태_옴니버스     2950 non-null   uint8         \n",
      " 7   영화형태_장편       2950 non-null   uint8         \n",
      " 8   국적_기타         2950 non-null   uint8         \n",
      " 9   국적_미국         2950 non-null   uint8         \n",
      " 10  국적_일본         2950 non-null   uint8         \n",
      " 11  국적_한국         2950 non-null   uint8         \n",
      " 12  장르_SF         2950 non-null   uint8         \n",
      " 13  장르_가족         2950 non-null   uint8         \n",
      " 14  장르_공연         2950 non-null   uint8         \n",
      " 15  장르_공포(호러)     2950 non-null   uint8         \n",
      " 16  장르_기타         2950 non-null   uint8         \n",
      " 17  장르_다큐멘터리      2950 non-null   uint8         \n",
      " 18  장르_드라마        2950 non-null   uint8         \n",
      " 19  장르_멜로/로맨스     2950 non-null   uint8         \n",
      " 20  장르_뮤지컬        2950 non-null   uint8         \n",
      " 21  장르_미스터리       2950 non-null   uint8         \n",
      " 22  장르_범죄         2950 non-null   uint8         \n",
      " 23  장르_사극         2950 non-null   uint8         \n",
      " 24  장르_서부극(웨스턴)   2950 non-null   uint8         \n",
      " 25  장르_스릴러        2950 non-null   uint8         \n",
      " 26  장르_애니메이션      2950 non-null   uint8         \n",
      " 27  장르_액션         2950 non-null   uint8         \n",
      " 28  장르_어드벤처       2950 non-null   uint8         \n",
      " 29  장르_전쟁         2950 non-null   uint8         \n",
      " 30  장르_코미디        2950 non-null   uint8         \n",
      " 31  장르_판타지        2950 non-null   uint8         \n",
      " 32  등급_12세관람가     2950 non-null   uint8         \n",
      " 33  등급_15세관람가     2950 non-null   uint8         \n",
      " 34  등급_전체관람가      2950 non-null   uint8         \n",
      " 35  등급_청소년관람불가    2950 non-null   uint8         \n",
      " 36  영화구분_독립/예술영화  2950 non-null   uint8         \n",
      " 37  영화구분_일반영화     2950 non-null   uint8         \n",
      "dtypes: datetime64[ns](1), int64(2), object(2), uint8(33)\n",
      "memory usage: 233.3+ KB\n"
     ]
    }
   ],
   "source": [
    "movie_dummies.info()"
   ]
  },
  {
   "cell_type": "code",
   "execution_count": 133,
   "metadata": {},
   "outputs": [
    {
     "data": {
      "text/plain": [
       "((2950, 38), (2414, 6))"
      ]
     },
     "execution_count": 133,
     "metadata": {},
     "output_type": "execute_result"
    }
   ],
   "source": [
    "movie_dummies.shape, naver_movie.shape"
   ]
  },
  {
   "cell_type": "code",
   "execution_count": 134,
   "metadata": {},
   "outputs": [],
   "source": [
    "movie_merge = pd.merge(movie_dummies, naver_movie, how='inner', on=['영화명', '감독'])"
   ]
  },
  {
   "cell_type": "markdown",
   "metadata": {},
   "source": [
    "- Inner Join이므로 결측치는 확인되지 않는다."
   ]
  },
  {
   "cell_type": "code",
   "execution_count": 135,
   "metadata": {},
   "outputs": [
    {
     "name": "stdout",
     "output_type": "stream",
     "text": [
      "<class 'pandas.core.frame.DataFrame'>\n",
      "Int64Index: 2393 entries, 0 to 2392\n",
      "Data columns (total 42 columns):\n",
      " #   Column        Non-Null Count  Dtype         \n",
      "---  ------        --------------  -----         \n",
      " 0   영화명           2393 non-null   object        \n",
      " 1   감독            2393 non-null   object        \n",
      " 2   개봉일           2393 non-null   datetime64[ns]\n",
      " 3   전국스크린수        2393 non-null   int64         \n",
      " 4   전국관객수         2393 non-null   int64         \n",
      " 5   영화형태_단편       2393 non-null   uint8         \n",
      " 6   영화형태_옴니버스     2393 non-null   uint8         \n",
      " 7   영화형태_장편       2393 non-null   uint8         \n",
      " 8   국적_기타         2393 non-null   uint8         \n",
      " 9   국적_미국         2393 non-null   uint8         \n",
      " 10  국적_일본         2393 non-null   uint8         \n",
      " 11  국적_한국         2393 non-null   uint8         \n",
      " 12  장르_SF         2393 non-null   uint8         \n",
      " 13  장르_가족         2393 non-null   uint8         \n",
      " 14  장르_공연         2393 non-null   uint8         \n",
      " 15  장르_공포(호러)     2393 non-null   uint8         \n",
      " 16  장르_기타         2393 non-null   uint8         \n",
      " 17  장르_다큐멘터리      2393 non-null   uint8         \n",
      " 18  장르_드라마        2393 non-null   uint8         \n",
      " 19  장르_멜로/로맨스     2393 non-null   uint8         \n",
      " 20  장르_뮤지컬        2393 non-null   uint8         \n",
      " 21  장르_미스터리       2393 non-null   uint8         \n",
      " 22  장르_범죄         2393 non-null   uint8         \n",
      " 23  장르_사극         2393 non-null   uint8         \n",
      " 24  장르_서부극(웨스턴)   2393 non-null   uint8         \n",
      " 25  장르_스릴러        2393 non-null   uint8         \n",
      " 26  장르_애니메이션      2393 non-null   uint8         \n",
      " 27  장르_액션         2393 non-null   uint8         \n",
      " 28  장르_어드벤처       2393 non-null   uint8         \n",
      " 29  장르_전쟁         2393 non-null   uint8         \n",
      " 30  장르_코미디        2393 non-null   uint8         \n",
      " 31  장르_판타지        2393 non-null   uint8         \n",
      " 32  등급_12세관람가     2393 non-null   uint8         \n",
      " 33  등급_15세관람가     2393 non-null   uint8         \n",
      " 34  등급_전체관람가      2393 non-null   uint8         \n",
      " 35  등급_청소년관람불가    2393 non-null   uint8         \n",
      " 36  영화구분_독립/예술영화  2393 non-null   uint8         \n",
      " 37  영화구분_일반영화     2393 non-null   uint8         \n",
      " 38  주연배우          2393 non-null   object        \n",
      " 39  평점            2393 non-null   float64       \n",
      " 40  평가자수          2393 non-null   int64         \n",
      " 41  상영시간          2393 non-null   int64         \n",
      "dtypes: datetime64[ns](1), float64(1), int64(4), object(3), uint8(33)\n",
      "memory usage: 264.1+ KB\n"
     ]
    }
   ],
   "source": [
    "movie_merge.info()"
   ]
  },
  {
   "cell_type": "code",
   "execution_count": 136,
   "metadata": {},
   "outputs": [],
   "source": [
    "# 임시 저장\n",
    "# movie_merge.to_excel('../data/전체영화데이터_5_merge.xls')"
   ]
  },
  {
   "cell_type": "markdown",
   "metadata": {},
   "source": [
    "### 3. 통합 데이터"
   ]
  },
  {
   "cell_type": "markdown",
   "metadata": {},
   "source": [
    "#### 범주형 데이터 확인"
   ]
  },
  {
   "cell_type": "markdown",
   "metadata": {},
   "source": [
    "- 범주형 데이터 중 `감독`, `배급사`, `주연배우`는 각 유형의 수가 많아 더미 변수를 만들기 어렵다 판단하였습니다.\n",
    "- 감독, 배급사, 주연배우의 영화 흥행 실적 여부를 변수로 새로 만들어 준다.\n",
    "  - 흥행 실적 여부는 관객수 기준 역대 박스 오피스 Top 300(1971~2020) 여부로 설정합니다."
   ]
  },
  {
   "cell_type": "code",
   "execution_count": 137,
   "metadata": {},
   "outputs": [
    {
     "data": {
      "text/plain": [
       "(2393, 1619, 2306)"
      ]
     },
     "execution_count": 137,
     "metadata": {},
     "output_type": "execute_result"
    }
   ],
   "source": [
    "# 전체 데이터 수, 감독수, 배급사 수, 주연배우 수\n",
    "len(movie_merge), len(movie_merge['감독'].unique()), len(movie_merge['주연배우'].unique())"
   ]
  },
  {
   "cell_type": "code",
   "execution_count": 138,
   "metadata": {},
   "outputs": [
    {
     "data": {
      "text/html": [
       "<div>\n",
       "<style scoped>\n",
       "    .dataframe tbody tr th:only-of-type {\n",
       "        vertical-align: middle;\n",
       "    }\n",
       "\n",
       "    .dataframe tbody tr th {\n",
       "        vertical-align: top;\n",
       "    }\n",
       "\n",
       "    .dataframe thead th {\n",
       "        text-align: right;\n",
       "    }\n",
       "</style>\n",
       "<table border=\"1\" class=\"dataframe\">\n",
       "  <thead>\n",
       "    <tr style=\"text-align: right;\">\n",
       "      <th></th>\n",
       "      <th>감독</th>\n",
       "      <th>주연배우</th>\n",
       "      <th>감독_흥행</th>\n",
       "      <th>주연배우_흥행</th>\n",
       "    </tr>\n",
       "  </thead>\n",
       "  <tbody>\n",
       "    <tr>\n",
       "      <th>0</th>\n",
       "      <td>김한민</td>\n",
       "      <td>['최민식', '류승룡', '조진웅']</td>\n",
       "      <td>0</td>\n",
       "      <td>0</td>\n",
       "    </tr>\n",
       "    <tr>\n",
       "      <th>1</th>\n",
       "      <td>이병헌</td>\n",
       "      <td>['류승룡', ' 이하늬', ' 진선규', ' 이동휘', ' 공명']</td>\n",
       "      <td>0</td>\n",
       "      <td>0</td>\n",
       "    </tr>\n",
       "    <tr>\n",
       "      <th>2</th>\n",
       "      <td>김용화</td>\n",
       "      <td>['하정우', ' 차태현', ' 주지훈', ' 김향기', ' 김동욱', ' 마동석']</td>\n",
       "      <td>0</td>\n",
       "      <td>0</td>\n",
       "    </tr>\n",
       "    <tr>\n",
       "      <th>3</th>\n",
       "      <td>윤제균</td>\n",
       "      <td>['황정민', ' 김윤진', ' 오달수', ' 정진영']</td>\n",
       "      <td>0</td>\n",
       "      <td>0</td>\n",
       "    </tr>\n",
       "    <tr>\n",
       "      <th>4</th>\n",
       "      <td>류승완</td>\n",
       "      <td>['황정민', ' 유아인', ' 유해진', ' 오달수']</td>\n",
       "      <td>0</td>\n",
       "      <td>0</td>\n",
       "    </tr>\n",
       "  </tbody>\n",
       "</table>\n",
       "</div>"
      ],
      "text/plain": [
       "    감독                                             주연배우  감독_흥행  주연배우_흥행\n",
       "0  김한민                            ['최민식', '류승룡', '조진웅']      0        0\n",
       "1  이병헌           ['류승룡', ' 이하늬', ' 진선규', ' 이동휘', ' 공명']      0        0\n",
       "2  김용화  ['하정우', ' 차태현', ' 주지훈', ' 김향기', ' 김동욱', ' 마동석']      0        0\n",
       "3  윤제균                  ['황정민', ' 김윤진', ' 오달수', ' 정진영']      0        0\n",
       "4  류승완                  ['황정민', ' 유아인', ' 유해진', ' 오달수']      0        0"
      ]
     },
     "execution_count": 138,
     "metadata": {},
     "output_type": "execute_result"
    }
   ],
   "source": [
    "# 감독, 배급사의 흥행 여부 초기값 설정\n",
    "movie_final = movie_merge.copy()\n",
    "movie_final['감독_흥행'] = [0 for _ in range(len(movie_merge))]\n",
    "movie_final['주연배우_흥행'] = [0 for _ in range(len(movie_merge))]\n",
    "\n",
    "cols = ['감독', '주연배우', '감독_흥행', '주연배우_흥행']\n",
    "movie_final[cols].head()"
   ]
  },
  {
   "cell_type": "markdown",
   "metadata": {},
   "source": [
    "#### 감독 흥행 표시"
   ]
  },
  {
   "cell_type": "markdown",
   "metadata": {},
   "source": [
    "- 개봉일 기준 이전 영화 중 박스 오피스 Top 300을 연출한 적이 있다면 `감독_흥행` 컬럼 생성"
   ]
  },
  {
   "cell_type": "code",
   "execution_count": 139,
   "metadata": {},
   "outputs": [],
   "source": [
    "import datetime"
   ]
  },
  {
   "cell_type": "code",
   "execution_count": 140,
   "metadata": {},
   "outputs": [],
   "source": [
    "for idx, row in movie_final.iterrows():\n",
    "    # 개봉일 기준\n",
    "    open = datetime.datetime.strftime(row['개봉일'], '%Y-%m-%d')\n",
    "    director = row['감독'].strip()\n",
    "    # Top300 중 개봉일 이전 영화의 감독 확인\n",
    "    directors = ranking[(ranking['개봉일'] < open) & (ranking['감독'] == director)]\n",
    "    # 해당 감독이 있다면 흥행 여부 표시\n",
    "    if len(directors) > 0:\n",
    "        score = directors.index[0]\n",
    "        if score >= 271:\n",
    "            score = 1\n",
    "        elif score >= 241:\n",
    "            score = 2\n",
    "        elif score >= 211:\n",
    "            score = 3\n",
    "        elif score >= 181:\n",
    "            score = 4\n",
    "        elif score >= 151:\n",
    "            score = 5\n",
    "        elif score >= 121:\n",
    "            score = 6\n",
    "        elif score >= 91:\n",
    "            score = 7\n",
    "        elif score >= 61:\n",
    "            score = 8\n",
    "        elif score >= 31:\n",
    "            score = 9\n",
    "        else:\n",
    "            score = 10    \n",
    "        movie_final.loc[idx, '감독_흥행'] = score"
   ]
  },
  {
   "cell_type": "markdown",
   "metadata": {},
   "source": [
    "- 총 252편의 영화의 감독이 흥행 실적이 있다."
   ]
  },
  {
   "cell_type": "code",
   "execution_count": 141,
   "metadata": {},
   "outputs": [
    {
     "data": {
      "text/plain": [
       "0     2141\n",
       "6       36\n",
       "9       30\n",
       "8       30\n",
       "10      28\n",
       "5       27\n",
       "1       23\n",
       "2       22\n",
       "7       19\n",
       "3       19\n",
       "4       18\n",
       "Name: 감독_흥행, dtype: int64"
      ]
     },
     "execution_count": 141,
     "metadata": {},
     "output_type": "execute_result"
    }
   ],
   "source": [
    "movie_final['감독_흥행'].value_counts()"
   ]
  },
  {
   "cell_type": "markdown",
   "metadata": {},
   "source": [
    "#### 배우 흥행 표시"
   ]
  },
  {
   "cell_type": "markdown",
   "metadata": {},
   "source": [
    "- 해당 영화의 모든 배우에 대해 이전 영화 흥행 실적이 있는지 조사한다.\n",
    "- **흥행 실적을 점수화해 평균, 합, 최대값 중 선택한다.**\n",
    "  - 현재 상관관계 확인중"
   ]
  },
  {
   "cell_type": "code",
   "execution_count": 142,
   "metadata": {},
   "outputs": [],
   "source": [
    "# 배우의 경우 '[\"배우1\", \"배우2\"]'와 같은 형태이므로 각 값을 뽑아낸다.\n",
    "# literal_evel : 문자열 그대로 파이썬 명령을 실행시켜주는 함수\n",
    "# 예시---------------------------------------\n",
    "# 문자열 : \"['문자열1', '문자열2', 22, '33']\"\n",
    "# 리스트 : ['문자열1', '문자열2', 22, '33']\n",
    "from ast import literal_eval"
   ]
  },
  {
   "cell_type": "code",
   "execution_count": 143,
   "metadata": {},
   "outputs": [],
   "source": [
    "for idx, row in movie_final.iterrows():\n",
    "    # 개봉일 기준\n",
    "    open = datetime.datetime.strftime(row['개봉일'], '%Y-%m-%d')\n",
    "    # 해당 영화의 배우 확인\n",
    "    this_actors = literal_eval(row['주연배우'])\n",
    "    scores = [0] * len(this_actors)\n",
    "    # 개봉일 이전 영화의 모든 배우 확인\n",
    "    for i in range(len(this_actors)):\n",
    "        actors = ranking.query(f'개봉일 < \"{open}\"')\n",
    "        actors = actors.query(f'배우.str.contains(\"{this_actors[i]}\")', engine='python')\n",
    "        if len(actors) > 0:    \n",
    "            score = actors.index[0]\n",
    "            if score >= 271:\n",
    "                score = 1\n",
    "            elif score >= 241:\n",
    "                score = 2\n",
    "            elif score >= 211:\n",
    "                score = 3\n",
    "            elif score >= 181:\n",
    "                score = 4\n",
    "            elif score >= 151:\n",
    "                score = 5\n",
    "            elif score >= 121:\n",
    "                score = 6\n",
    "            elif score >= 91:\n",
    "                score = 7\n",
    "            elif score >= 61:\n",
    "                score = 8\n",
    "            elif score >= 31:\n",
    "                score = 9\n",
    "            else:\n",
    "                score = 10 \n",
    "            scores[i] = score   \n",
    "    # 평균값\n",
    "    # movie_final.loc[idx, '주연배우_흥행'] = round(sum(scores) / len(scores), 1)\n",
    "    # 합\n",
    "    movie_final.loc[idx, '주연배우_흥행'] = sum(scores)\n",
    "    # 최대값\n",
    "    # movie_final.loc[idx, '주연배우_흥행'] = max(scores)"
   ]
  },
  {
   "cell_type": "markdown",
   "metadata": {},
   "source": [
    "- 배우의 흥행 실적이 있는 영화는 772개이다."
   ]
  },
  {
   "cell_type": "code",
   "execution_count": 144,
   "metadata": {},
   "outputs": [
    {
     "data": {
      "text/plain": [
       "True     1621\n",
       "False     772\n",
       "Name: 주연배우_흥행, dtype: int64"
      ]
     },
     "execution_count": 144,
     "metadata": {},
     "output_type": "execute_result"
    }
   ],
   "source": [
    "(movie_final['주연배우_흥행'] == 0).value_counts()"
   ]
  },
  {
   "cell_type": "code",
   "execution_count": 145,
   "metadata": {},
   "outputs": [
    {
     "data": {
      "text/html": [
       "<div>\n",
       "<style scoped>\n",
       "    .dataframe tbody tr th:only-of-type {\n",
       "        vertical-align: middle;\n",
       "    }\n",
       "\n",
       "    .dataframe tbody tr th {\n",
       "        vertical-align: top;\n",
       "    }\n",
       "\n",
       "    .dataframe thead th {\n",
       "        text-align: right;\n",
       "    }\n",
       "</style>\n",
       "<table border=\"1\" class=\"dataframe\">\n",
       "  <thead>\n",
       "    <tr style=\"text-align: right;\">\n",
       "      <th></th>\n",
       "      <th>영화명</th>\n",
       "      <th>개봉일</th>\n",
       "      <th>주연배우</th>\n",
       "      <th>주연배우_흥행</th>\n",
       "    </tr>\n",
       "  </thead>\n",
       "  <tbody>\n",
       "    <tr>\n",
       "      <th>0</th>\n",
       "      <td>명량</td>\n",
       "      <td>2014-07-30</td>\n",
       "      <td>['최민식', '류승룡', '조진웅']</td>\n",
       "      <td>20</td>\n",
       "    </tr>\n",
       "    <tr>\n",
       "      <th>1</th>\n",
       "      <td>극한직업</td>\n",
       "      <td>2019-01-23</td>\n",
       "      <td>['류승룡', ' 이하늬', ' 진선규', ' 이동휘', ' 공명']</td>\n",
       "      <td>10</td>\n",
       "    </tr>\n",
       "    <tr>\n",
       "      <th>2</th>\n",
       "      <td>신과함께-죄와 벌</td>\n",
       "      <td>2017-12-20</td>\n",
       "      <td>['하정우', ' 차태현', ' 주지훈', ' 김향기', ' 김동욱', ' 마동석']</td>\n",
       "      <td>10</td>\n",
       "    </tr>\n",
       "    <tr>\n",
       "      <th>3</th>\n",
       "      <td>국제시장</td>\n",
       "      <td>2014-12-17</td>\n",
       "      <td>['황정민', ' 김윤진', ' 오달수', ' 정진영']</td>\n",
       "      <td>6</td>\n",
       "    </tr>\n",
       "    <tr>\n",
       "      <th>4</th>\n",
       "      <td>베테랑</td>\n",
       "      <td>2015-08-05</td>\n",
       "      <td>['황정민', ' 유아인', ' 유해진', ' 오달수']</td>\n",
       "      <td>10</td>\n",
       "    </tr>\n",
       "  </tbody>\n",
       "</table>\n",
       "</div>"
      ],
      "text/plain": [
       "         영화명        개봉일                                             주연배우  \\\n",
       "0         명량 2014-07-30                            ['최민식', '류승룡', '조진웅']   \n",
       "1       극한직업 2019-01-23           ['류승룡', ' 이하늬', ' 진선규', ' 이동휘', ' 공명']   \n",
       "2  신과함께-죄와 벌 2017-12-20  ['하정우', ' 차태현', ' 주지훈', ' 김향기', ' 김동욱', ' 마동석']   \n",
       "3       국제시장 2014-12-17                  ['황정민', ' 김윤진', ' 오달수', ' 정진영']   \n",
       "4        베테랑 2015-08-05                  ['황정민', ' 유아인', ' 유해진', ' 오달수']   \n",
       "\n",
       "   주연배우_흥행  \n",
       "0       20  \n",
       "1       10  \n",
       "2       10  \n",
       "3        6  \n",
       "4       10  "
      ]
     },
     "execution_count": 145,
     "metadata": {},
     "output_type": "execute_result"
    }
   ],
   "source": [
    "movie_final[['영화명', '개봉일', '주연배우', '주연배우_흥행']].head()"
   ]
  },
  {
   "cell_type": "code",
   "execution_count": 146,
   "metadata": {},
   "outputs": [],
   "source": [
    "# 임시 저장\n",
    "# movie_final.to_excel('../data/전체영화데이터_6_success.xls', encoding='utf-8')"
   ]
  },
  {
   "cell_type": "markdown",
   "metadata": {},
   "source": [
    "## ◾데이터 분리"
   ]
  },
  {
   "cell_type": "code",
   "execution_count": 147,
   "metadata": {},
   "outputs": [],
   "source": [
    "from sklearn.model_selection import train_test_split"
   ]
  },
  {
   "cell_type": "markdown",
   "metadata": {},
   "source": [
    "#### 2020년 데이터 분리"
   ]
  },
  {
   "cell_type": "markdown",
   "metadata": {},
   "source": [
    "- 먼저 코로나 이전의 데이터로 학습시키기 위해 2020년 데이터를 분리한다.\n",
    "  - 2020년 : 234개"
   ]
  },
  {
   "cell_type": "code",
   "execution_count": 148,
   "metadata": {},
   "outputs": [
    {
     "name": "stdout",
     "output_type": "stream",
     "text": [
      "234\n"
     ]
    },
    {
     "data": {
      "text/html": [
       "<div>\n",
       "<style scoped>\n",
       "    .dataframe tbody tr th:only-of-type {\n",
       "        vertical-align: middle;\n",
       "    }\n",
       "\n",
       "    .dataframe tbody tr th {\n",
       "        vertical-align: top;\n",
       "    }\n",
       "\n",
       "    .dataframe thead th {\n",
       "        text-align: right;\n",
       "    }\n",
       "</style>\n",
       "<table border=\"1\" class=\"dataframe\">\n",
       "  <thead>\n",
       "    <tr style=\"text-align: right;\">\n",
       "      <th></th>\n",
       "      <th>영화명</th>\n",
       "      <th>감독</th>\n",
       "      <th>개봉일</th>\n",
       "      <th>전국스크린수</th>\n",
       "      <th>전국관객수</th>\n",
       "      <th>영화형태_단편</th>\n",
       "      <th>영화형태_옴니버스</th>\n",
       "      <th>영화형태_장편</th>\n",
       "      <th>국적_기타</th>\n",
       "      <th>국적_미국</th>\n",
       "      <th>...</th>\n",
       "      <th>등급_전체관람가</th>\n",
       "      <th>등급_청소년관람불가</th>\n",
       "      <th>영화구분_독립/예술영화</th>\n",
       "      <th>영화구분_일반영화</th>\n",
       "      <th>주연배우</th>\n",
       "      <th>평점</th>\n",
       "      <th>평가자수</th>\n",
       "      <th>상영시간</th>\n",
       "      <th>감독_흥행</th>\n",
       "      <th>주연배우_흥행</th>\n",
       "    </tr>\n",
       "  </thead>\n",
       "  <tbody>\n",
       "    <tr>\n",
       "      <th>84</th>\n",
       "      <td>남산의 부장들</td>\n",
       "      <td>우민호</td>\n",
       "      <td>2020-01-22</td>\n",
       "      <td>1659</td>\n",
       "      <td>4750104</td>\n",
       "      <td>0</td>\n",
       "      <td>0</td>\n",
       "      <td>1</td>\n",
       "      <td>0</td>\n",
       "      <td>0</td>\n",
       "      <td>...</td>\n",
       "      <td>0</td>\n",
       "      <td>0</td>\n",
       "      <td>0</td>\n",
       "      <td>1</td>\n",
       "      <td>['이병헌', ' 이성민', ' 곽도원', ' 이희준', ' 김소진']</td>\n",
       "      <td>7.47</td>\n",
       "      <td>18168</td>\n",
       "      <td>114</td>\n",
       "      <td>9</td>\n",
       "      <td>10</td>\n",
       "    </tr>\n",
       "    <tr>\n",
       "      <th>97</th>\n",
       "      <td>다만 악에서 구하소서</td>\n",
       "      <td>홍원찬</td>\n",
       "      <td>2020-08-05</td>\n",
       "      <td>1998</td>\n",
       "      <td>4352669</td>\n",
       "      <td>0</td>\n",
       "      <td>0</td>\n",
       "      <td>1</td>\n",
       "      <td>0</td>\n",
       "      <td>0</td>\n",
       "      <td>...</td>\n",
       "      <td>0</td>\n",
       "      <td>0</td>\n",
       "      <td>0</td>\n",
       "      <td>1</td>\n",
       "      <td>['황정민', ' 이정재', ' 박정민', ' 박소이']</td>\n",
       "      <td>7.61</td>\n",
       "      <td>21397</td>\n",
       "      <td>108</td>\n",
       "      <td>0</td>\n",
       "      <td>10</td>\n",
       "    </tr>\n",
       "    <tr>\n",
       "      <th>113</th>\n",
       "      <td>반도</td>\n",
       "      <td>연상호</td>\n",
       "      <td>2020-07-15</td>\n",
       "      <td>2575</td>\n",
       "      <td>3812080</td>\n",
       "      <td>0</td>\n",
       "      <td>0</td>\n",
       "      <td>1</td>\n",
       "      <td>0</td>\n",
       "      <td>0</td>\n",
       "      <td>...</td>\n",
       "      <td>0</td>\n",
       "      <td>0</td>\n",
       "      <td>0</td>\n",
       "      <td>1</td>\n",
       "      <td>['강동원', ' 이정현']</td>\n",
       "      <td>5.64</td>\n",
       "      <td>31323</td>\n",
       "      <td>116</td>\n",
       "      <td>10</td>\n",
       "      <td>10</td>\n",
       "    </tr>\n",
       "  </tbody>\n",
       "</table>\n",
       "<p>3 rows × 44 columns</p>\n",
       "</div>"
      ],
      "text/plain": [
       "             영화명   감독        개봉일  전국스크린수    전국관객수  영화형태_단편  영화형태_옴니버스  \\\n",
       "84       남산의 부장들  우민호 2020-01-22    1659  4750104        0          0   \n",
       "97   다만 악에서 구하소서  홍원찬 2020-08-05    1998  4352669        0          0   \n",
       "113           반도  연상호 2020-07-15    2575  3812080        0          0   \n",
       "\n",
       "     영화형태_장편  국적_기타  국적_미국  ...  등급_전체관람가  등급_청소년관람불가  영화구분_독립/예술영화  \\\n",
       "84         1      0      0  ...         0           0             0   \n",
       "97         1      0      0  ...         0           0             0   \n",
       "113        1      0      0  ...         0           0             0   \n",
       "\n",
       "     영화구분_일반영화                                     주연배우    평점   평가자수  상영시간  \\\n",
       "84           1  ['이병헌', ' 이성민', ' 곽도원', ' 이희준', ' 김소진']  7.47  18168   114   \n",
       "97           1          ['황정민', ' 이정재', ' 박정민', ' 박소이']  7.61  21397   108   \n",
       "113          1                          ['강동원', ' 이정현']  5.64  31323   116   \n",
       "\n",
       "     감독_흥행  주연배우_흥행  \n",
       "84       9       10  \n",
       "97       0       10  \n",
       "113     10       10  \n",
       "\n",
       "[3 rows x 44 columns]"
      ]
     },
     "execution_count": 148,
     "metadata": {},
     "output_type": "execute_result"
    }
   ],
   "source": [
    "movie_2020 = movie_final.query('개봉일 >= \"20200101\"')\n",
    "print(len(movie_2020))\n",
    "movie_2020.head(3)"
   ]
  },
  {
   "cell_type": "code",
   "execution_count": 149,
   "metadata": {},
   "outputs": [],
   "source": [
    "# 임시 저장\n",
    "# movie_2020.to_excel('../data/2020영화데이터_final.xls', encoding='utf-8')"
   ]
  },
  {
   "cell_type": "markdown",
   "metadata": {},
   "source": [
    "#### 2011년~2019년 변수와 라벨 분리"
   ]
  },
  {
   "cell_type": "markdown",
   "metadata": {},
   "source": [
    "- 더미가 있는 테이블에서 2011~2019년의 데이터를 추출한다.\n",
    "  - 2011년~2019년 : 2159개"
   ]
  },
  {
   "cell_type": "code",
   "execution_count": 150,
   "metadata": {},
   "outputs": [
    {
     "name": "stdout",
     "output_type": "stream",
     "text": [
      "2159\n"
     ]
    },
    {
     "data": {
      "text/html": [
       "<div>\n",
       "<style scoped>\n",
       "    .dataframe tbody tr th:only-of-type {\n",
       "        vertical-align: middle;\n",
       "    }\n",
       "\n",
       "    .dataframe tbody tr th {\n",
       "        vertical-align: top;\n",
       "    }\n",
       "\n",
       "    .dataframe thead th {\n",
       "        text-align: right;\n",
       "    }\n",
       "</style>\n",
       "<table border=\"1\" class=\"dataframe\">\n",
       "  <thead>\n",
       "    <tr style=\"text-align: right;\">\n",
       "      <th></th>\n",
       "      <th>영화명</th>\n",
       "      <th>감독</th>\n",
       "      <th>개봉일</th>\n",
       "      <th>전국스크린수</th>\n",
       "      <th>전국관객수</th>\n",
       "      <th>영화형태_단편</th>\n",
       "      <th>영화형태_옴니버스</th>\n",
       "      <th>영화형태_장편</th>\n",
       "      <th>국적_기타</th>\n",
       "      <th>국적_미국</th>\n",
       "      <th>...</th>\n",
       "      <th>등급_전체관람가</th>\n",
       "      <th>등급_청소년관람불가</th>\n",
       "      <th>영화구분_독립/예술영화</th>\n",
       "      <th>영화구분_일반영화</th>\n",
       "      <th>주연배우</th>\n",
       "      <th>평점</th>\n",
       "      <th>평가자수</th>\n",
       "      <th>상영시간</th>\n",
       "      <th>감독_흥행</th>\n",
       "      <th>주연배우_흥행</th>\n",
       "    </tr>\n",
       "  </thead>\n",
       "  <tbody>\n",
       "    <tr>\n",
       "      <th>0</th>\n",
       "      <td>명량</td>\n",
       "      <td>김한민</td>\n",
       "      <td>2014-07-30</td>\n",
       "      <td>1587</td>\n",
       "      <td>17613682</td>\n",
       "      <td>0</td>\n",
       "      <td>0</td>\n",
       "      <td>1</td>\n",
       "      <td>0</td>\n",
       "      <td>0</td>\n",
       "      <td>...</td>\n",
       "      <td>0</td>\n",
       "      <td>0</td>\n",
       "      <td>0</td>\n",
       "      <td>1</td>\n",
       "      <td>['최민식', '류승룡', '조진웅']</td>\n",
       "      <td>8.44</td>\n",
       "      <td>66777</td>\n",
       "      <td>128</td>\n",
       "      <td>9</td>\n",
       "      <td>20</td>\n",
       "    </tr>\n",
       "    <tr>\n",
       "      <th>1</th>\n",
       "      <td>극한직업</td>\n",
       "      <td>이병헌</td>\n",
       "      <td>2019-01-23</td>\n",
       "      <td>1978</td>\n",
       "      <td>16264944</td>\n",
       "      <td>0</td>\n",
       "      <td>0</td>\n",
       "      <td>1</td>\n",
       "      <td>0</td>\n",
       "      <td>0</td>\n",
       "      <td>...</td>\n",
       "      <td>0</td>\n",
       "      <td>0</td>\n",
       "      <td>0</td>\n",
       "      <td>1</td>\n",
       "      <td>['류승룡', ' 이하늬', ' 진선규', ' 이동휘', ' 공명']</td>\n",
       "      <td>8.51</td>\n",
       "      <td>47558</td>\n",
       "      <td>111</td>\n",
       "      <td>2</td>\n",
       "      <td>10</td>\n",
       "    </tr>\n",
       "    <tr>\n",
       "      <th>2</th>\n",
       "      <td>신과함께-죄와 벌</td>\n",
       "      <td>김용화</td>\n",
       "      <td>2017-12-20</td>\n",
       "      <td>1912</td>\n",
       "      <td>14410754</td>\n",
       "      <td>0</td>\n",
       "      <td>0</td>\n",
       "      <td>1</td>\n",
       "      <td>0</td>\n",
       "      <td>0</td>\n",
       "      <td>...</td>\n",
       "      <td>0</td>\n",
       "      <td>0</td>\n",
       "      <td>0</td>\n",
       "      <td>1</td>\n",
       "      <td>['하정우', ' 차태현', ' 주지훈', ' 김향기', ' 김동욱', ' 마동석']</td>\n",
       "      <td>7.83</td>\n",
       "      <td>57870</td>\n",
       "      <td>139</td>\n",
       "      <td>9</td>\n",
       "      <td>10</td>\n",
       "    </tr>\n",
       "  </tbody>\n",
       "</table>\n",
       "<p>3 rows × 44 columns</p>\n",
       "</div>"
      ],
      "text/plain": [
       "         영화명   감독        개봉일  전국스크린수     전국관객수  영화형태_단편  영화형태_옴니버스  영화형태_장편  \\\n",
       "0         명량  김한민 2014-07-30    1587  17613682        0          0        1   \n",
       "1       극한직업  이병헌 2019-01-23    1978  16264944        0          0        1   \n",
       "2  신과함께-죄와 벌  김용화 2017-12-20    1912  14410754        0          0        1   \n",
       "\n",
       "   국적_기타  국적_미국  ...  등급_전체관람가  등급_청소년관람불가  영화구분_독립/예술영화  영화구분_일반영화  \\\n",
       "0      0      0  ...         0           0             0          1   \n",
       "1      0      0  ...         0           0             0          1   \n",
       "2      0      0  ...         0           0             0          1   \n",
       "\n",
       "                                              주연배우    평점   평가자수  상영시간  감독_흥행  \\\n",
       "0                            ['최민식', '류승룡', '조진웅']  8.44  66777   128      9   \n",
       "1           ['류승룡', ' 이하늬', ' 진선규', ' 이동휘', ' 공명']  8.51  47558   111      2   \n",
       "2  ['하정우', ' 차태현', ' 주지훈', ' 김향기', ' 김동욱', ' 마동석']  7.83  57870   139      9   \n",
       "\n",
       "   주연배우_흥행  \n",
       "0       20  \n",
       "1       10  \n",
       "2       10  \n",
       "\n",
       "[3 rows x 44 columns]"
      ]
     },
     "execution_count": 150,
     "metadata": {},
     "output_type": "execute_result"
    }
   ],
   "source": [
    "movie_2011_2019 = movie_final.query('개봉일 < \"2020-01-01\"')\n",
    "print(len(movie_2011_2019))\n",
    "movie_2011_2019.head(3)"
   ]
  },
  {
   "cell_type": "code",
   "execution_count": 151,
   "metadata": {},
   "outputs": [],
   "source": [
    "# 임시저장\n",
    "# movie_2011_2019.to_excel('../data/2011_2019영화데이터_final.xls', encoding='utf-8')"
   ]
  },
  {
   "cell_type": "markdown",
   "metadata": {},
   "source": [
    "- X : ['영화명', '감독', '주연배우', '배급사', '개봉일', '전국관객수'] 제외 컬럼\n",
    "- y : ['전국관객수'] 컬럼\n",
    "  - 값이 크기 때문에 '전국관객수 / 1000'을 사용한다."
   ]
  },
  {
   "cell_type": "code",
   "execution_count": 152,
   "metadata": {},
   "outputs": [
    {
     "data": {
      "text/plain": [
       "((2159, 38), (2159,))"
      ]
     },
     "execution_count": 152,
     "metadata": {},
     "output_type": "execute_result"
    }
   ],
   "source": [
    "not_used = ['영화명', '감독', '주연배우', '평가자수', '개봉일', '전국관객수']\n",
    "X = movie_2011_2019.drop(not_used, axis=1)\n",
    "y = movie_2011_2019['전국관객수'] / 1000\n",
    "\n",
    "X.shape, y.shape"
   ]
  },
  {
   "cell_type": "markdown",
   "metadata": {},
   "source": [
    "#### 수치형 데이터들의 상관관계 확인"
   ]
  },
  {
   "cell_type": "code",
   "execution_count": 153,
   "metadata": {},
   "outputs": [],
   "source": [
    "not_used2 = ['영화명', '감독', '주연배우', '개봉일', '영화형태_단편',\n",
    "            '영화형태_옴니버스', '영화형태_장편', '국적_기타', '국적_미국',\n",
    "            '국적_일본', '국적_한국', '장르_SF', '장르_가족', \n",
    "            '장르_공연', '장르_공포(호러)', '장르_기타', '장르_다큐멘터리',\n",
    "            '장르_드라마', '장르_멜로/로맨스', '장르_뮤지컬', '장르_미스터리', \n",
    "            '장르_범죄', '장르_사극', '장르_서부극(웨스턴)', '장르_스릴러', \n",
    "            '장르_애니메이션', '장르_액션', '장르_어드벤처', '장르_전쟁', \n",
    "            '장르_코미디', '장르_판타지', '등급_12세관람가', '등급_15세관람가', \n",
    "            '등급_전체관람가', '등급_청소년관람불가', '영화구분_독립/예술영화', '영화구분_일반영화']"
   ]
  },
  {
   "cell_type": "markdown",
   "metadata": {},
   "source": [
    "- 주연배우 흥행-전국관객수 상관관계\n",
    "  - 평균 : 0.197133\n",
    "  - 합 : 0.307599\n",
    "  - 최대값 : 0.296308\n",
    "  - **가장 상관계수가 높은 합을 사용하기로 한다.**"
   ]
  },
  {
   "cell_type": "code",
   "execution_count": 154,
   "metadata": {},
   "outputs": [
    {
     "data": {
      "text/html": [
       "<div>\n",
       "<style scoped>\n",
       "    .dataframe tbody tr th:only-of-type {\n",
       "        vertical-align: middle;\n",
       "    }\n",
       "\n",
       "    .dataframe tbody tr th {\n",
       "        vertical-align: top;\n",
       "    }\n",
       "\n",
       "    .dataframe thead th {\n",
       "        text-align: right;\n",
       "    }\n",
       "</style>\n",
       "<table border=\"1\" class=\"dataframe\">\n",
       "  <thead>\n",
       "    <tr style=\"text-align: right;\">\n",
       "      <th></th>\n",
       "      <th>전국스크린수</th>\n",
       "      <th>전국관객수</th>\n",
       "      <th>평점</th>\n",
       "      <th>평가자수</th>\n",
       "      <th>상영시간</th>\n",
       "      <th>감독_흥행</th>\n",
       "      <th>주연배우_흥행</th>\n",
       "    </tr>\n",
       "  </thead>\n",
       "  <tbody>\n",
       "    <tr>\n",
       "      <th>전국스크린수</th>\n",
       "      <td>1.000000</td>\n",
       "      <td>0.733269</td>\n",
       "      <td>0.014890</td>\n",
       "      <td>0.683675</td>\n",
       "      <td>0.229785</td>\n",
       "      <td>0.415329</td>\n",
       "      <td>0.396731</td>\n",
       "    </tr>\n",
       "    <tr>\n",
       "      <th>전국관객수</th>\n",
       "      <td>0.733269</td>\n",
       "      <td>1.000000</td>\n",
       "      <td>0.130985</td>\n",
       "      <td>0.839076</td>\n",
       "      <td>0.185873</td>\n",
       "      <td>0.401291</td>\n",
       "      <td>0.307599</td>\n",
       "    </tr>\n",
       "    <tr>\n",
       "      <th>평점</th>\n",
       "      <td>0.014890</td>\n",
       "      <td>0.130985</td>\n",
       "      <td>1.000000</td>\n",
       "      <td>0.122982</td>\n",
       "      <td>0.067044</td>\n",
       "      <td>0.032818</td>\n",
       "      <td>0.001462</td>\n",
       "    </tr>\n",
       "    <tr>\n",
       "      <th>평가자수</th>\n",
       "      <td>0.683675</td>\n",
       "      <td>0.839076</td>\n",
       "      <td>0.122982</td>\n",
       "      <td>1.000000</td>\n",
       "      <td>0.188064</td>\n",
       "      <td>0.403006</td>\n",
       "      <td>0.341837</td>\n",
       "    </tr>\n",
       "    <tr>\n",
       "      <th>상영시간</th>\n",
       "      <td>0.229785</td>\n",
       "      <td>0.185873</td>\n",
       "      <td>0.067044</td>\n",
       "      <td>0.188064</td>\n",
       "      <td>1.000000</td>\n",
       "      <td>0.178675</td>\n",
       "      <td>0.299303</td>\n",
       "    </tr>\n",
       "    <tr>\n",
       "      <th>감독_흥행</th>\n",
       "      <td>0.415329</td>\n",
       "      <td>0.401291</td>\n",
       "      <td>0.032818</td>\n",
       "      <td>0.403006</td>\n",
       "      <td>0.178675</td>\n",
       "      <td>1.000000</td>\n",
       "      <td>0.255131</td>\n",
       "    </tr>\n",
       "    <tr>\n",
       "      <th>주연배우_흥행</th>\n",
       "      <td>0.396731</td>\n",
       "      <td>0.307599</td>\n",
       "      <td>0.001462</td>\n",
       "      <td>0.341837</td>\n",
       "      <td>0.299303</td>\n",
       "      <td>0.255131</td>\n",
       "      <td>1.000000</td>\n",
       "    </tr>\n",
       "  </tbody>\n",
       "</table>\n",
       "</div>"
      ],
      "text/plain": [
       "           전국스크린수     전국관객수        평점      평가자수      상영시간     감독_흥행   주연배우_흥행\n",
       "전국스크린수   1.000000  0.733269  0.014890  0.683675  0.229785  0.415329  0.396731\n",
       "전국관객수    0.733269  1.000000  0.130985  0.839076  0.185873  0.401291  0.307599\n",
       "평점       0.014890  0.130985  1.000000  0.122982  0.067044  0.032818  0.001462\n",
       "평가자수     0.683675  0.839076  0.122982  1.000000  0.188064  0.403006  0.341837\n",
       "상영시간     0.229785  0.185873  0.067044  0.188064  1.000000  0.178675  0.299303\n",
       "감독_흥행    0.415329  0.401291  0.032818  0.403006  0.178675  1.000000  0.255131\n",
       "주연배우_흥행  0.396731  0.307599  0.001462  0.341837  0.299303  0.255131  1.000000"
      ]
     },
     "execution_count": 154,
     "metadata": {},
     "output_type": "execute_result"
    }
   ],
   "source": [
    "movie_2011_2019.drop(not_used2, axis=1).corr()"
   ]
  },
  {
   "cell_type": "code",
   "execution_count": 155,
   "metadata": {},
   "outputs": [
    {
     "data": {
      "text/plain": [
       "Index(['전국스크린수', '영화형태_단편', '영화형태_옴니버스', '영화형태_장편', '국적_기타', '국적_미국', '국적_일본',\n",
       "       '국적_한국', '장르_SF', '장르_가족', '장르_공연', '장르_공포(호러)', '장르_기타', '장르_다큐멘터리',\n",
       "       '장르_드라마', '장르_멜로/로맨스', '장르_뮤지컬', '장르_미스터리', '장르_범죄', '장르_사극',\n",
       "       '장르_서부극(웨스턴)', '장르_스릴러', '장르_애니메이션', '장르_액션', '장르_어드벤처', '장르_전쟁',\n",
       "       '장르_코미디', '장르_판타지', '등급_12세관람가', '등급_15세관람가', '등급_전체관람가', '등급_청소년관람불가',\n",
       "       '영화구분_독립/예술영화', '영화구분_일반영화', '평점', '상영시간', '감독_흥행', '주연배우_흥행'],\n",
       "      dtype='object')"
      ]
     },
     "execution_count": 155,
     "metadata": {},
     "output_type": "execute_result"
    }
   ],
   "source": [
    "X.columns"
   ]
  },
  {
   "cell_type": "markdown",
   "metadata": {},
   "source": [
    "#### 훈련용, 테스트용 데이터 분리"
   ]
  },
  {
   "cell_type": "markdown",
   "metadata": {},
   "source": [
    "- sklearn의 `train_test_split`을 사용하여 분리한다.\n",
    "  - `2011년~2019년`의 20%를 테스트용으로 사용한다.\n",
    "  - train : 1727개\n",
    "  - test : 432개"
   ]
  },
  {
   "cell_type": "code",
   "execution_count": 156,
   "metadata": {},
   "outputs": [],
   "source": [
    "X_train, X_test, y_train, y_test = train_test_split(X, y, test_size=0.2, random_state=13)"
   ]
  },
  {
   "cell_type": "code",
   "execution_count": 157,
   "metadata": {},
   "outputs": [
    {
     "data": {
      "text/plain": [
       "((1727, 38), (1727,))"
      ]
     },
     "execution_count": 157,
     "metadata": {},
     "output_type": "execute_result"
    }
   ],
   "source": [
    "X_train.shape, y_train.shape"
   ]
  },
  {
   "cell_type": "code",
   "execution_count": 158,
   "metadata": {},
   "outputs": [
    {
     "data": {
      "text/plain": [
       "((432, 38), (432,))"
      ]
     },
     "execution_count": 158,
     "metadata": {},
     "output_type": "execute_result"
    }
   ],
   "source": [
    "X_test.shape, y_test.shape"
   ]
  },
  {
   "cell_type": "markdown",
   "metadata": {},
   "source": [
    "## ◾모델 구현1\n",
    "- 스케일 미적용"
   ]
  },
  {
   "cell_type": "code",
   "execution_count": 159,
   "metadata": {},
   "outputs": [],
   "source": [
    "from sklearn.preprocessing import StandardScaler\n",
    "from sklearn.model_selection import train_test_split\n",
    "from sklearn.model_selection import GridSearchCV\n",
    "from sklearn.linear_model import LinearRegression\n",
    "from sklearn.ensemble import RandomForestRegressor\n",
    "from sklearn.ensemble import GradientBoostingRegressor\n",
    "from sklearn.metrics import mean_squared_error"
   ]
  },
  {
   "cell_type": "markdown",
   "metadata": {},
   "source": [
    "### 1. 모델 수립 및 예측"
   ]
  },
  {
   "cell_type": "markdown",
   "metadata": {},
   "source": [
    "#### 선형 회귀 모델"
   ]
  },
  {
   "cell_type": "markdown",
   "metadata": {},
   "source": [
    "- 선형 회귀 모델 학습"
   ]
  },
  {
   "cell_type": "code",
   "execution_count": 160,
   "metadata": {},
   "outputs": [
    {
     "data": {
      "text/plain": [
       "LinearRegression()"
      ]
     },
     "execution_count": 160,
     "metadata": {},
     "output_type": "execute_result"
    }
   ],
   "source": [
    "lr_clf = LinearRegression()\n",
    "lr_clf.fit(X_train, y_train)"
   ]
  },
  {
   "cell_type": "markdown",
   "metadata": {},
   "source": [
    "- 예측 및 모델 평가\n",
    "  - 모델 평가는 RMSE(Root Mean Square Error)을 사용한다."
   ]
  },
  {
   "cell_type": "code",
   "execution_count": 161,
   "metadata": {},
   "outputs": [
    {
     "name": "stdout",
     "output_type": "stream",
     "text": [
      "RMSE of Train Data : 1116.496146738071\n",
      "RMSE of Train Data : 1160.6439648580497\n"
     ]
    }
   ],
   "source": [
    "pred_tr = lr_clf.predict(X_train)\n",
    "pred_test = lr_clf.predict(X_test)\n",
    "rmse_tr = (np.sqrt(mean_squared_error(y_train, pred_tr)))\n",
    "rmse_test = (np.sqrt(mean_squared_error(y_test, pred_test)))\n",
    "\n",
    "print('RMSE of Train Data : {}'.format(rmse_tr))\n",
    "print('RMSE of Train Data : {}'.format(rmse_test))"
   ]
  },
  {
   "cell_type": "markdown",
   "metadata": {},
   "source": [
    "- 성능 평가(참값, 예측값 비교)"
   ]
  },
  {
   "cell_type": "code",
   "execution_count": 162,
   "metadata": {},
   "outputs": [
    {
     "data": {
      "image/png": "[encoded data removed]",
      "text/plain": [
       "<Figure size 576x576 with 1 Axes>"
      ]
     },
     "metadata": {
      "needs_background": "light"
     },
     "output_type": "display_data"
    }
   ],
   "source": [
    "plt.figure(figsize=(8, 8))\n",
    "plt.scatter(y_test, pred_test)\n",
    "plt.xlabel('Real Count(1000명)')\n",
    "plt.ylabel('Predicted Count(1000명)')\n",
    "plt.grid(True)\n",
    "plt.title('Real vs Predicted')\n",
    "plt.plot([0, 17500], [0, 17500], 'r')\n",
    "plt.show()"
   ]
  },
  {
   "cell_type": "markdown",
   "metadata": {},
   "source": [
    "#### 랜덤포레스트 회귀 모델"
   ]
  },
  {
   "cell_type": "markdown",
   "metadata": {},
   "source": [
    "- GridSearch를 이용해 최고의 모델을 뽑아 비교한다."
   ]
  },
  {
   "cell_type": "code",
   "execution_count": 163,
   "metadata": {},
   "outputs": [
    {
     "data": {
      "text/plain": [
       "GridSearchCV(cv=5, estimator=RandomForestRegressor(n_jobs=-1, random_state=13),\n",
       "             n_jobs=-1,\n",
       "             param_grid={'max_depth': [2, 4, 6, 8, 10, 12],\n",
       "                         'min_samples_leaf': [8, 12],\n",
       "                         'min_samples_split': [8, 12],\n",
       "                         'n_estimators': [50, 100, 200]})"
      ]
     },
     "execution_count": 163,
     "metadata": {},
     "output_type": "execute_result"
    }
   ],
   "source": [
    "params = {\n",
    "    'max_depth' : [2, 4, 6, 8, 10, 12],           # depth 설정\n",
    "    'n_estimators' : [50, 100, 200],    # tree의 개수\n",
    "    'min_samples_leaf' : [8, 12],       # 각 결과 데이터의 최소 개수\n",
    "    'min_samples_split' : [8, 12]       # 분할의 최소 개수\n",
    "}\n",
    "rf_clf = RandomForestRegressor(random_state=13, n_jobs=-1)\n",
    "grid_cv = GridSearchCV(rf_clf, param_grid=params, cv=5, n_jobs=-1)\n",
    "grid_cv.fit(X_train, y_train)"
   ]
  },
  {
   "cell_type": "code",
   "execution_count": 164,
   "metadata": {},
   "outputs": [
    {
     "data": {
      "text/plain": [
       "{'max_depth': 12,\n",
       " 'min_samples_leaf': 8,\n",
       " 'min_samples_split': 8,\n",
       " 'n_estimators': 50}"
      ]
     },
     "execution_count": 164,
     "metadata": {},
     "output_type": "execute_result"
    }
   ],
   "source": [
    "grid_cv.best_params_"
   ]
  },
  {
   "cell_type": "code",
   "execution_count": 165,
   "metadata": {},
   "outputs": [
    {
     "name": "stdout",
     "output_type": "stream",
     "text": [
      "RMSE of Train Data : 819.4329998241542\n",
      "RMSE of Train Data : 1146.618281684396\n"
     ]
    }
   ],
   "source": [
    "best_rf_clf = grid_cv.best_estimator_\n",
    "\n",
    "pred_tr = best_rf_clf.predict(X_train)\n",
    "pred_test = best_rf_clf.predict(X_test)\n",
    "rmse_tr = (np.sqrt(mean_squared_error(y_train, pred_tr)))\n",
    "rmse_test = (np.sqrt(mean_squared_error(y_test, pred_test)))\n",
    "\n",
    "print('RMSE of Train Data : {}'.format(rmse_tr))\n",
    "print('RMSE of Train Data : {}'.format(rmse_test))"
   ]
  },
  {
   "cell_type": "code",
   "execution_count": 166,
   "metadata": {},
   "outputs": [
    {
     "data": {
      "image/png": "[encoded data removed]",
      "text/plain": [
       "<Figure size 576x576 with 1 Axes>"
      ]
     },
     "metadata": {
      "needs_background": "light"
     },
     "output_type": "display_data"
    }
   ],
   "source": [
    "plt.figure(figsize=(8, 8))\n",
    "plt.scatter(y_test, pred_test)\n",
    "plt.xlabel('Real Count(1000명)')\n",
    "plt.ylabel('Predicted Count(1000명)')\n",
    "plt.grid(True)\n",
    "plt.title('Real vs Predicted')\n",
    "plt.plot([0, 17500], [0, 17500], 'r')\n",
    "plt.show()"
   ]
  },
  {
   "cell_type": "markdown",
   "metadata": {},
   "source": [
    "#### GBM 회귀"
   ]
  },
  {
   "cell_type": "code",
   "execution_count": 167,
   "metadata": {},
   "outputs": [
    {
     "data": {
      "text/plain": [
       "GridSearchCV(cv=5, estimator=GradientBoostingRegressor(random_state=13),\n",
       "             n_jobs=-1,\n",
       "             param_grid={'learning_rate': [0.08, 0.1, 0.12],\n",
       "                         'n_estimators': [50, 100, 200, 300]})"
      ]
     },
     "execution_count": 167,
     "metadata": {},
     "output_type": "execute_result"
    }
   ],
   "source": [
    "params = {\n",
    "    'n_estimators' : [50, 100, 200, 300], \n",
    "    'learning_rate' : [0.08, 0.1, 0.12],\n",
    "}\n",
    "\n",
    "gb_clf = GradientBoostingRegressor(random_state=13)\n",
    "grid_cv = GridSearchCV(gb_clf, param_grid=params, cv=5, n_jobs=-1)\n",
    "grid_cv.fit(X_train, y_train)"
   ]
  },
  {
   "cell_type": "code",
   "execution_count": 168,
   "metadata": {},
   "outputs": [
    {
     "data": {
      "text/plain": [
       "{'learning_rate': 0.12, 'n_estimators': 200}"
      ]
     },
     "execution_count": 168,
     "metadata": {},
     "output_type": "execute_result"
    }
   ],
   "source": [
    "grid_cv.best_params_"
   ]
  },
  {
   "cell_type": "code",
   "execution_count": 169,
   "metadata": {},
   "outputs": [
    {
     "name": "stdout",
     "output_type": "stream",
     "text": [
      "RMSE of Train Data : 424.1167921798932\n",
      "RMSE of Train Data : 1221.797797900584\n"
     ]
    }
   ],
   "source": [
    "best_gb_clf = grid_cv.best_estimator_\n",
    "\n",
    "pred_tr = best_gb_clf.predict(X_train)\n",
    "pred_test = best_gb_clf.predict(X_test)\n",
    "rmse_tr = (np.sqrt(mean_squared_error(y_train, pred_tr)))\n",
    "rmse_test = (np.sqrt(mean_squared_error(y_test, pred_test)))\n",
    "\n",
    "print('RMSE of Train Data : {}'.format(rmse_tr))\n",
    "print('RMSE of Train Data : {}'.format(rmse_test))"
   ]
  },
  {
   "cell_type": "code",
   "execution_count": 170,
   "metadata": {},
   "outputs": [
    {
     "data": {
      "image/png": "[encoded data removed]",
      "text/plain": [
       "<Figure size 576x576 with 1 Axes>"
      ]
     },
     "metadata": {
      "needs_background": "light"
     },
     "output_type": "display_data"
    }
   ],
   "source": [
    "plt.figure(figsize=(8, 8))\n",
    "plt.scatter(y_test, pred_test)\n",
    "plt.xlabel('Real Count(1000명)')\n",
    "plt.ylabel('Predicted Count(1000명)')\n",
    "plt.grid(True)\n",
    "plt.title('Real vs Predicted')\n",
    "plt.plot([0, 17500], [0, 17500], 'r')\n",
    "plt.show()"
   ]
  },
  {
   "cell_type": "markdown",
   "metadata": {},
   "source": [
    "### 2. 2020년 데이터 적용"
   ]
  },
  {
   "cell_type": "markdown",
   "metadata": {},
   "source": [
    "#### 2020년 데이터 예측"
   ]
  },
  {
   "cell_type": "markdown",
   "metadata": {},
   "source": [
    "- 2개의 모델을 비교했을 때 랜덤 포레스트 회귀 모델이 높은 성능을 냈다.\n",
    "- 높은 성능을 낸 `best_rfr_clf`를 이용해 2020년 데이터를 예측한다."
   ]
  },
  {
   "cell_type": "code",
   "execution_count": 186,
   "metadata": {},
   "outputs": [
    {
     "data": {
      "text/plain": [
       "((234, 38), (234,))"
      ]
     },
     "execution_count": 186,
     "metadata": {},
     "output_type": "execute_result"
    }
   ],
   "source": [
    "# 변수, 라벨 분리\n",
    "X_2020 = movie_2020.drop(not_used, axis=1)\n",
    "y_2020 = movie_2020['전국관객수'] / 1000\n",
    "\n",
    "X_2020.shape, y_2020.shape"
   ]
  },
  {
   "cell_type": "markdown",
   "metadata": {},
   "source": [
    "- 모델 예측 및 평가\n",
    "  - 가장 잘 예측한 GBM 회귀 모델을 사용해서 예측한다."
   ]
  },
  {
   "cell_type": "code",
   "execution_count": 189,
   "metadata": {},
   "outputs": [
    {
     "name": "stdout",
     "output_type": "stream",
     "text": [
      "RMSE of 2020 Data : 1251.3541344289556\n"
     ]
    }
   ],
   "source": [
    "pred_2020 = best_rf_clf.predict(X_2020)\n",
    "rmse_2020 = (np.sqrt(mean_squared_error(y_2020, pred_2020)))\n",
    "\n",
    "print('RMSE of 2020 Data : {}'.format(rmse_2020))"
   ]
  },
  {
   "cell_type": "code",
   "execution_count": 188,
   "metadata": {},
   "outputs": [
    {
     "data": {
      "image/png": "[encoded data removed]",
      "text/plain": [
       "<Figure size 576x576 with 1 Axes>"
      ]
     },
     "metadata": {
      "needs_background": "light"
     },
     "output_type": "display_data"
    }
   ],
   "source": [
    "plt.figure(figsize=(8, 8))\n",
    "plt.scatter(y_2020, pred_2020)\n",
    "plt.xlabel('Real Count(1000명)')\n",
    "plt.ylabel('Predicted Count(1000명)')\n",
    "plt.title('Real vs Predicted')\n",
    "plt.grid(True)\n",
    "plt.plot([0, 5000], [0, 5000], 'r')\n",
    "plt.show()"
   ]
  },
  {
   "cell_type": "markdown",
   "metadata": {},
   "source": [
    "#### 실제값과 예측값 비교"
   ]
  },
  {
   "cell_type": "markdown",
   "metadata": {},
   "source": [
    "- 예측 결과를 `movie_2020`에 추가하여 비교해본다."
   ]
  },
  {
   "cell_type": "code",
   "execution_count": 174,
   "metadata": {},
   "outputs": [],
   "source": [
    "movie_predict = movie_2020[['영화명','감독','개봉일','전국관객수']]\n",
    "# 1000으로 나눈 예측값이므로 다시 곱해준다.\n",
    "movie_predict['예측관객수'] = (pred_2020 * 1000).astype('int')\n",
    "movie_predict['diff'] = movie_predict['예측관객수']-movie_predict['전국관객수']"
   ]
  },
  {
   "cell_type": "code",
   "execution_count": 175,
   "metadata": {},
   "outputs": [
    {
     "data": {
      "text/html": [
       "<div>\n",
       "<style scoped>\n",
       "    .dataframe tbody tr th:only-of-type {\n",
       "        vertical-align: middle;\n",
       "    }\n",
       "\n",
       "    .dataframe tbody tr th {\n",
       "        vertical-align: top;\n",
       "    }\n",
       "\n",
       "    .dataframe thead th {\n",
       "        text-align: right;\n",
       "    }\n",
       "</style>\n",
       "<table border=\"1\" class=\"dataframe\">\n",
       "  <thead>\n",
       "    <tr style=\"text-align: right;\">\n",
       "      <th></th>\n",
       "      <th>영화명</th>\n",
       "      <th>감독</th>\n",
       "      <th>개봉일</th>\n",
       "      <th>전국관객수</th>\n",
       "      <th>예측관객수</th>\n",
       "      <th>diff</th>\n",
       "    </tr>\n",
       "  </thead>\n",
       "  <tbody>\n",
       "    <tr>\n",
       "      <th>243</th>\n",
       "      <td>테넷</td>\n",
       "      <td>크리스토퍼 놀란</td>\n",
       "      <td>2020-08-26</td>\n",
       "      <td>1998987</td>\n",
       "      <td>10303265</td>\n",
       "      <td>8304278</td>\n",
       "    </tr>\n",
       "    <tr>\n",
       "      <th>97</th>\n",
       "      <td>다만 악에서 구하소서</td>\n",
       "      <td>홍원찬</td>\n",
       "      <td>2020-08-05</td>\n",
       "      <td>4352669</td>\n",
       "      <td>11717346</td>\n",
       "      <td>7364677</td>\n",
       "    </tr>\n",
       "    <tr>\n",
       "      <th>251</th>\n",
       "      <td>#살아있다</td>\n",
       "      <td>조일형</td>\n",
       "      <td>2020-06-24</td>\n",
       "      <td>1903703</td>\n",
       "      <td>8617253</td>\n",
       "      <td>6713550</td>\n",
       "    </tr>\n",
       "    <tr>\n",
       "      <th>585</th>\n",
       "      <td>침입자</td>\n",
       "      <td>손원평</td>\n",
       "      <td>2020-06-04</td>\n",
       "      <td>531212</td>\n",
       "      <td>6880758</td>\n",
       "      <td>6349546</td>\n",
       "    </tr>\n",
       "    <tr>\n",
       "      <th>823</th>\n",
       "      <td>뮬란</td>\n",
       "      <td>니키 카로</td>\n",
       "      <td>2020-09-17</td>\n",
       "      <td>236247</td>\n",
       "      <td>5491674</td>\n",
       "      <td>5255427</td>\n",
       "    </tr>\n",
       "  </tbody>\n",
       "</table>\n",
       "</div>"
      ],
      "text/plain": [
       "             영화명        감독        개봉일    전국관객수     예측관객수     diff\n",
       "243           테넷  크리스토퍼 놀란 2020-08-26  1998987  10303265  8304278\n",
       "97   다만 악에서 구하소서       홍원찬 2020-08-05  4352669  11717346  7364677\n",
       "251        #살아있다       조일형 2020-06-24  1903703   8617253  6713550\n",
       "585          침입자       손원평 2020-06-04   531212   6880758  6349546\n",
       "823           뮬란     니키 카로 2020-09-17   236247   5491674  5255427"
      ]
     },
     "execution_count": 175,
     "metadata": {},
     "output_type": "execute_result"
    }
   ],
   "source": [
    "movie_predict.sort_values('diff', ascending=False).head()"
   ]
  },
  {
   "cell_type": "code",
   "execution_count": 176,
   "metadata": {},
   "outputs": [
    {
     "data": {
      "text/plain": [
       "199249.60256410256"
      ]
     },
     "execution_count": 176,
     "metadata": {},
     "output_type": "execute_result"
    }
   ],
   "source": [
    "movie_predict['전국관객수'].mean()"
   ]
  },
  {
   "cell_type": "code",
   "execution_count": 177,
   "metadata": {},
   "outputs": [
    {
     "data": {
      "text/plain": [
       "768514.4401709401"
      ]
     },
     "execution_count": 177,
     "metadata": {},
     "output_type": "execute_result"
    }
   ],
   "source": [
    "movie_predict['예측관객수'].mean()"
   ]
  },
  {
   "cell_type": "code",
   "execution_count": 178,
   "metadata": {},
   "outputs": [
    {
     "data": {
      "text/plain": [
       "569264.8376068376"
      ]
     },
     "execution_count": 178,
     "metadata": {},
     "output_type": "execute_result"
    }
   ],
   "source": [
    "movie_predict['diff'].mean()"
   ]
  },
  {
   "cell_type": "markdown",
   "metadata": {},
   "source": [
    "- 전국 관객수와 예측 관객수 히스토그램"
   ]
  },
  {
   "cell_type": "code",
   "execution_count": 179,
   "metadata": {},
   "outputs": [
    {
     "data": {
      "application/vnd.plotly.v1+json": {
       "config": {
        "plotlyServerURL": "https://plot.ly"
       },
       "data": [
        {
         "alignmentgroup": "True",
         "bingroup": "x",
         "hovertemplate": "전국관객수=%{x}<br>count=%{y}<extra></extra>",
         "legendgroup": "",
         "marker": {
          "color": "#636efa",
          "pattern": {
           "shape": ""
          }
         },
         "name": "",
         "offsetgroup": "",
         "orientation": "v",
         "showlegend": false,
         "type": "histogram",
         "x": [
          4750104,
          4352669,
          3812080,
          2406232,
          1998987,
          1903703,
          1790797,
          1719592,
          1607082,
          1571774,
          1543813,
          1525718,
          1264970,
          1228685,
          1209689,
          893855,
          859072,
          626815,
          601675,
          575043,
          537470,
          531212,
          507265,
          431559,
          416739,
          403326,
          401411,
          351162,
          325869,
          284141,
          236247,
          233112,
          212439,
          190237,
          185653,
          179393,
          153178,
          150119,
          131693,
          127251,
          123329,
          118725,
          118112,
          109913,
          109207,
          108122,
          103534,
          103251,
          101616,
          100092,
          89719,
          88440,
          87996,
          81482,
          79877,
          79215,
          78929,
          72912,
          72886,
          72419,
          70019,
          65975,
          61897,
          60762,
          57883,
          56282,
          53684,
          51816,
          51381,
          50692,
          44989,
          43486,
          41680,
          37961,
          36986,
          36962,
          36405,
          36245,
          34115,
          31760,
          31548,
          29879,
          28884,
          27974,
          27928,
          27569,
          27330,
          26531,
          25383,
          25153,
          24635,
          24573,
          24000,
          23810,
          23613,
          23441,
          23247,
          22832,
          22729,
          22330,
          21692,
          21609,
          20784,
          20317,
          19632,
          19241,
          18197,
          18106,
          17663,
          17632,
          17607,
          17532,
          16137,
          15650,
          15593,
          15386,
          15229,
          15211,
          14799,
          14437,
          13702,
          13401,
          13003,
          12878,
          12785,
          12737,
          12692,
          12450,
          12403,
          12382,
          12137,
          11896,
          11579,
          11564,
          11409,
          11223,
          11000,
          10809,
          10472,
          10284,
          10210,
          9511,
          9463,
          9459,
          8915,
          8679,
          8639,
          8464,
          8454,
          8139,
          7531,
          7509,
          7324,
          7324,
          7221,
          7101,
          6896,
          6526,
          6378,
          6069,
          5960,
          5761,
          5744,
          5523,
          5456,
          5267,
          5218,
          5199,
          5120,
          5064,
          5045,
          4960,
          4878,
          4872,
          4828,
          4814,
          4777,
          4645,
          4587,
          4585,
          4478,
          4412,
          4380,
          4356,
          4267,
          4258,
          4185,
          4176,
          4168,
          4160,
          4109,
          4077,
          4072,
          4036,
          3883,
          3753,
          3694,
          3663,
          3646,
          3573,
          3467,
          3351,
          3330,
          3326,
          3274,
          3245,
          3214,
          2971,
          2950,
          2744,
          2730,
          2695,
          2623,
          2553,
          2541,
          2492,
          2411,
          2334,
          2319,
          2281,
          2235,
          2212,
          2052,
          2046,
          2042,
          2018,
          1955,
          1871,
          1690,
          1524,
          1459,
          1361,
          1254,
          1140
         ],
         "xaxis": "x",
         "yaxis": "y"
        }
       ],
       "layout": {
        "barmode": "relative",
        "legend": {
         "tracegroupgap": 0
        },
        "margin": {
         "t": 60
        },
        "template": {
         "data": {
          "bar": [
           {
            "error_x": {
             "color": "#2a3f5f"
            },
            "error_y": {
             "color": "#2a3f5f"
            },
            "marker": {
             "line": {
              "color": "#E5ECF6",
              "width": 0.5
             },
             "pattern": {
              "fillmode": "overlay",
              "size": 10,
              "solidity": 0.2
             }
            },
            "type": "bar"
           }
          ],
          "barpolar": [
           {
            "marker": {
             "line": {
              "color": "#E5ECF6",
              "width": 0.5
             },
             "pattern": {
              "fillmode": "overlay",
              "size": 10,
              "solidity": 0.2
             }
            },
            "type": "barpolar"
           }
          ],
          "carpet": [
           {
            "aaxis": {
             "endlinecolor": "#2a3f5f",
             "gridcolor": "white",
             "linecolor": "white",
             "minorgridcolor": "white",
             "startlinecolor": "#2a3f5f"
            },
            "baxis": {
             "endlinecolor": "#2a3f5f",
             "gridcolor": "white",
             "linecolor": "white",
             "minorgridcolor": "white",
             "startlinecolor": "#2a3f5f"
            },
            "type": "carpet"
           }
          ],
          "choropleth": [
           {
            "colorbar": {
             "outlinewidth": 0,
             "ticks": ""
            },
            "type": "choropleth"
           }
          ],
          "contour": [
           {
            "colorbar": {
             "outlinewidth": 0,
             "ticks": ""
            },
            "colorscale": [
             [
              0,
              "#0d0887"
             ],
             [
              0.1111111111111111,
              "#46039f"
             ],
             [
              0.2222222222222222,
              "#7201a8"
             ],
             [
              0.3333333333333333,
              "#9c179e"
             ],
             [
              0.4444444444444444,
              "#bd3786"
             ],
             [
              0.5555555555555556,
              "#d8576b"
             ],
             [
              0.6666666666666666,
              "#ed7953"
             ],
             [
              0.7777777777777778,
              "#fb9f3a"
             ],
             [
              0.8888888888888888,
              "#fdca26"
             ],
             [
              1,
              "#f0f921"
             ]
            ],
            "type": "contour"
           }
          ],
          "contourcarpet": [
           {
            "colorbar": {
             "outlinewidth": 0,
             "ticks": ""
            },
            "type": "contourcarpet"
           }
          ],
          "heatmap": [
           {
            "colorbar": {
             "outlinewidth": 0,
             "ticks": ""
            },
            "colorscale": [
             [
              0,
              "#0d0887"
             ],
             [
              0.1111111111111111,
              "#46039f"
             ],
             [
              0.2222222222222222,
              "#7201a8"
             ],
             [
              0.3333333333333333,
              "#9c179e"
             ],
             [
              0.4444444444444444,
              "#bd3786"
             ],
             [
              0.5555555555555556,
              "#d8576b"
             ],
             [
              0.6666666666666666,
              "#ed7953"
             ],
             [
              0.7777777777777778,
              "#fb9f3a"
             ],
             [
              0.8888888888888888,
              "#fdca26"
             ],
             [
              1,
              "#f0f921"
             ]
            ],
            "type": "heatmap"
           }
          ],
          "heatmapgl": [
           {
            "colorbar": {
             "outlinewidth": 0,
             "ticks": ""
            },
            "colorscale": [
             [
              0,
              "#0d0887"
             ],
             [
              0.1111111111111111,
              "#46039f"
             ],
             [
              0.2222222222222222,
              "#7201a8"
             ],
             [
              0.3333333333333333,
              "#9c179e"
             ],
             [
              0.4444444444444444,
              "#bd3786"
             ],
             [
              0.5555555555555556,
              "#d8576b"
             ],
             [
              0.6666666666666666,
              "#ed7953"
             ],
             [
              0.7777777777777778,
              "#fb9f3a"
             ],
             [
              0.8888888888888888,
              "#fdca26"
             ],
             [
              1,
              "#f0f921"
             ]
            ],
            "type": "heatmapgl"
           }
          ],
          "histogram": [
           {
            "marker": {
             "pattern": {
              "fillmode": "overlay",
              "size": 10,
              "solidity": 0.2
             }
            },
            "type": "histogram"
           }
          ],
          "histogram2d": [
           {
            "colorbar": {
             "outlinewidth": 0,
             "ticks": ""
            },
            "colorscale": [
             [
              0,
              "#0d0887"
             ],
             [
              0.1111111111111111,
              "#46039f"
             ],
             [
              0.2222222222222222,
              "#7201a8"
             ],
             [
              0.3333333333333333,
              "#9c179e"
             ],
             [
              0.4444444444444444,
              "#bd3786"
             ],
             [
              0.5555555555555556,
              "#d8576b"
             ],
             [
              0.6666666666666666,
              "#ed7953"
             ],
             [
              0.7777777777777778,
              "#fb9f3a"
             ],
             [
              0.8888888888888888,
              "#fdca26"
             ],
             [
              1,
              "#f0f921"
             ]
            ],
            "type": "histogram2d"
           }
          ],
          "histogram2dcontour": [
           {
            "colorbar": {
             "outlinewidth": 0,
             "ticks": ""
            },
            "colorscale": [
             [
              0,
              "#0d0887"
             ],
             [
              0.1111111111111111,
              "#46039f"
             ],
             [
              0.2222222222222222,
              "#7201a8"
             ],
             [
              0.3333333333333333,
              "#9c179e"
             ],
             [
              0.4444444444444444,
              "#bd3786"
             ],
             [
              0.5555555555555556,
              "#d8576b"
             ],
             [
              0.6666666666666666,
              "#ed7953"
             ],
             [
              0.7777777777777778,
              "#fb9f3a"
             ],
             [
              0.8888888888888888,
              "#fdca26"
             ],
             [
              1,
              "#f0f921"
             ]
            ],
            "type": "histogram2dcontour"
           }
          ],
          "mesh3d": [
           {
            "colorbar": {
             "outlinewidth": 0,
             "ticks": ""
            },
            "type": "mesh3d"
           }
          ],
          "parcoords": [
           {
            "line": {
             "colorbar": {
              "outlinewidth": 0,
              "ticks": ""
             }
            },
            "type": "parcoords"
           }
          ],
          "pie": [
           {
            "automargin": true,
            "type": "pie"
           }
          ],
          "scatter": [
           {
            "marker": {
             "colorbar": {
              "outlinewidth": 0,
              "ticks": ""
             }
            },
            "type": "scatter"
           }
          ],
          "scatter3d": [
           {
            "line": {
             "colorbar": {
              "outlinewidth": 0,
              "ticks": ""
             }
            },
            "marker": {
             "colorbar": {
              "outlinewidth": 0,
              "ticks": ""
             }
            },
            "type": "scatter3d"
           }
          ],
          "scattercarpet": [
           {
            "marker": {
             "colorbar": {
              "outlinewidth": 0,
              "ticks": ""
             }
            },
            "type": "scattercarpet"
           }
          ],
          "scattergeo": [
           {
            "marker": {
             "colorbar": {
              "outlinewidth": 0,
              "ticks": ""
             }
            },
            "type": "scattergeo"
           }
          ],
          "scattergl": [
           {
            "marker": {
             "colorbar": {
              "outlinewidth": 0,
              "ticks": ""
             }
            },
            "type": "scattergl"
           }
          ],
          "scattermapbox": [
           {
            "marker": {
             "colorbar": {
              "outlinewidth": 0,
              "ticks": ""
             }
            },
            "type": "scattermapbox"
           }
          ],
          "scatterpolar": [
           {
            "marker": {
             "colorbar": {
              "outlinewidth": 0,
              "ticks": ""
             }
            },
            "type": "scatterpolar"
           }
          ],
          "scatterpolargl": [
           {
            "marker": {
             "colorbar": {
              "outlinewidth": 0,
              "ticks": ""
             }
            },
            "type": "scatterpolargl"
           }
          ],
          "scatterternary": [
           {
            "marker": {
             "colorbar": {
              "outlinewidth": 0,
              "ticks": ""
             }
            },
            "type": "scatterternary"
           }
          ],
          "surface": [
           {
            "colorbar": {
             "outlinewidth": 0,
             "ticks": ""
            },
            "colorscale": [
             [
              0,
              "#0d0887"
             ],
             [
              0.1111111111111111,
              "#46039f"
             ],
             [
              0.2222222222222222,
              "#7201a8"
             ],
             [
              0.3333333333333333,
              "#9c179e"
             ],
             [
              0.4444444444444444,
              "#bd3786"
             ],
             [
              0.5555555555555556,
              "#d8576b"
             ],
             [
              0.6666666666666666,
              "#ed7953"
             ],
             [
              0.7777777777777778,
              "#fb9f3a"
             ],
             [
              0.8888888888888888,
              "#fdca26"
             ],
             [
              1,
              "#f0f921"
             ]
            ],
            "type": "surface"
           }
          ],
          "table": [
           {
            "cells": {
             "fill": {
              "color": "#EBF0F8"
             },
             "line": {
              "color": "white"
             }
            },
            "header": {
             "fill": {
              "color": "#C8D4E3"
             },
             "line": {
              "color": "white"
             }
            },
            "type": "table"
           }
          ]
         },
         "layout": {
          "annotationdefaults": {
           "arrowcolor": "#2a3f5f",
           "arrowhead": 0,
           "arrowwidth": 1
          },
          "autotypenumbers": "strict",
          "coloraxis": {
           "colorbar": {
            "outlinewidth": 0,
            "ticks": ""
           }
          },
          "colorscale": {
           "diverging": [
            [
             0,
             "#8e0152"
            ],
            [
             0.1,
             "#c51b7d"
            ],
            [
             0.2,
             "#de77ae"
            ],
            [
             0.3,
             "#f1b6da"
            ],
            [
             0.4,
             "#fde0ef"
            ],
            [
             0.5,
             "#f7f7f7"
            ],
            [
             0.6,
             "#e6f5d0"
            ],
            [
             0.7,
             "#b8e186"
            ],
            [
             0.8,
             "#7fbc41"
            ],
            [
             0.9,
             "#4d9221"
            ],
            [
             1,
             "#276419"
            ]
           ],
           "sequential": [
            [
             0,
             "#0d0887"
            ],
            [
             0.1111111111111111,
             "#46039f"
            ],
            [
             0.2222222222222222,
             "#7201a8"
            ],
            [
             0.3333333333333333,
             "#9c179e"
            ],
            [
             0.4444444444444444,
             "#bd3786"
            ],
            [
             0.5555555555555556,
             "#d8576b"
            ],
            [
             0.6666666666666666,
             "#ed7953"
            ],
            [
             0.7777777777777778,
             "#fb9f3a"
            ],
            [
             0.8888888888888888,
             "#fdca26"
            ],
            [
             1,
             "#f0f921"
            ]
           ],
           "sequentialminus": [
            [
             0,
             "#0d0887"
            ],
            [
             0.1111111111111111,
             "#46039f"
            ],
            [
             0.2222222222222222,
             "#7201a8"
            ],
            [
             0.3333333333333333,
             "#9c179e"
            ],
            [
             0.4444444444444444,
             "#bd3786"
            ],
            [
             0.5555555555555556,
             "#d8576b"
            ],
            [
             0.6666666666666666,
             "#ed7953"
            ],
            [
             0.7777777777777778,
             "#fb9f3a"
            ],
            [
             0.8888888888888888,
             "#fdca26"
            ],
            [
             1,
             "#f0f921"
            ]
           ]
          },
          "colorway": [
           "#636efa",
           "#EF553B",
           "#00cc96",
           "#ab63fa",
           "#FFA15A",
           "#19d3f3",
           "#FF6692",
           "#B6E880",
           "#FF97FF",
           "#FECB52"
          ],
          "font": {
           "color": "#2a3f5f"
          },
          "geo": {
           "bgcolor": "white",
           "lakecolor": "white",
           "landcolor": "#E5ECF6",
           "showlakes": true,
           "showland": true,
           "subunitcolor": "white"
          },
          "hoverlabel": {
           "align": "left"
          },
          "hovermode": "closest",
          "mapbox": {
           "style": "light"
          },
          "paper_bgcolor": "white",
          "plot_bgcolor": "#E5ECF6",
          "polar": {
           "angularaxis": {
            "gridcolor": "white",
            "linecolor": "white",
            "ticks": ""
           },
           "bgcolor": "#E5ECF6",
           "radialaxis": {
            "gridcolor": "white",
            "linecolor": "white",
            "ticks": ""
           }
          },
          "scene": {
           "xaxis": {
            "backgroundcolor": "#E5ECF6",
            "gridcolor": "white",
            "gridwidth": 2,
            "linecolor": "white",
            "showbackground": true,
            "ticks": "",
            "zerolinecolor": "white"
           },
           "yaxis": {
            "backgroundcolor": "#E5ECF6",
            "gridcolor": "white",
            "gridwidth": 2,
            "linecolor": "white",
            "showbackground": true,
            "ticks": "",
            "zerolinecolor": "white"
           },
           "zaxis": {
            "backgroundcolor": "#E5ECF6",
            "gridcolor": "white",
            "gridwidth": 2,
            "linecolor": "white",
            "showbackground": true,
            "ticks": "",
            "zerolinecolor": "white"
           }
          },
          "shapedefaults": {
           "line": {
            "color": "#2a3f5f"
           }
          },
          "ternary": {
           "aaxis": {
            "gridcolor": "white",
            "linecolor": "white",
            "ticks": ""
           },
           "baxis": {
            "gridcolor": "white",
            "linecolor": "white",
            "ticks": ""
           },
           "bgcolor": "#E5ECF6",
           "caxis": {
            "gridcolor": "white",
            "linecolor": "white",
            "ticks": ""
           }
          },
          "title": {
           "x": 0.05
          },
          "xaxis": {
           "automargin": true,
           "gridcolor": "white",
           "linecolor": "white",
           "ticks": "",
           "title": {
            "standoff": 15
           },
           "zerolinecolor": "white",
           "zerolinewidth": 2
          },
          "yaxis": {
           "automargin": true,
           "gridcolor": "white",
           "linecolor": "white",
           "ticks": "",
           "title": {
            "standoff": 15
           },
           "zerolinecolor": "white",
           "zerolinewidth": 2
          }
         }
        },
        "xaxis": {
         "anchor": "y",
         "domain": [
          0,
          1
         ],
         "title": {
          "text": "전국관객수"
         }
        },
        "yaxis": {
         "anchor": "x",
         "domain": [
          0,
          1
         ],
         "title": {
          "text": "count"
         }
        }
       }
      }
     },
     "metadata": {},
     "output_type": "display_data"
    }
   ],
   "source": [
    "fig = px.histogram(movie_predict, x='전국관객수')\n",
    "fig.show()"
   ]
  },
  {
   "cell_type": "code",
   "execution_count": 180,
   "metadata": {},
   "outputs": [
    {
     "data": {
      "application/vnd.plotly.v1+json": {
       "config": {
        "plotlyServerURL": "https://plot.ly"
       },
       "data": [
        {
         "alignmentgroup": "True",
         "bingroup": "x",
         "hovertemplate": "예측관객수=%{x}<br>count=%{y}<extra></extra>",
         "legendgroup": "",
         "marker": {
          "color": "#636efa",
          "pattern": {
           "shape": ""
          }
         },
         "name": "",
         "offsetgroup": "",
         "orientation": "v",
         "showlegend": false,
         "type": "histogram",
         "x": [
          4926105,
          11717346,
          8167069,
          2945651,
          10303265,
          8617253,
          6454064,
          5332512,
          2141246,
          4874239,
          3574790,
          4118465,
          2090356,
          3720375,
          3116696,
          2374318,
          3368618,
          931976,
          1272423,
          1284705,
          2190054,
          6880758,
          1003779,
          3284688,
          4447228,
          1380596,
          1356309,
          4670336,
          592666,
          2131850,
          5491674,
          2798120,
          1863160,
          2256189,
          646961,
          484264,
          53644,
          392474,
          138289,
          1395100,
          1821888,
          760364,
          863266,
          -395498,
          1087696,
          1346128,
          768332,
          179287,
          1074635,
          -29369,
          464689,
          604173,
          34390,
          1763157,
          567188,
          1688596,
          1358487,
          294424,
          248234,
          859551,
          261391,
          588058,
          1084523,
          167746,
          491571,
          24687,
          745876,
          1238907,
          867676,
          1398336,
          3642,
          149661,
          37926,
          905722,
          188333,
          409614,
          -8447,
          1387513,
          231833,
          -1085,
          9141,
          179484,
          397404,
          211279,
          -63388,
          -24304,
          113764,
          35818,
          484005,
          180753,
          2466805,
          388269,
          179785,
          77585,
          -16666,
          428604,
          176942,
          573310,
          409240,
          611375,
          63636,
          109612,
          36626,
          68732,
          142602,
          -35127,
          214227,
          195654,
          -49186,
          329890,
          131857,
          126342,
          289759,
          33530,
          -74585,
          284747,
          140237,
          -28477,
          -3281,
          1388810,
          110917,
          72483,
          -361279,
          187439,
          22103,
          18596,
          92300,
          354484,
          26679,
          29588,
          110477,
          -23944,
          17306,
          113249,
          26815,
          99519,
          105427,
          176639,
          104564,
          7848,
          71500,
          117836,
          171183,
          72009,
          111071,
          156602,
          -19669,
          -29688,
          42530,
          113910,
          102290,
          64332,
          6807,
          513216,
          -5267,
          20357,
          96088,
          79278,
          28196,
          6213,
          383740,
          100202,
          -156370,
          95493,
          15916,
          -13733,
          -187725,
          32876,
          -37676,
          16543,
          -13651,
          -20511,
          31502,
          -21551,
          84964,
          -6682,
          77126,
          6464,
          88943,
          -30123,
          -33896,
          1794,
          -18193,
          14835,
          183116,
          28285,
          -10564,
          59724,
          23604,
          53582,
          75572,
          241223,
          -10123,
          -55704,
          18249,
          305294,
          84875,
          76906,
          150080,
          32096,
          19549,
          63135,
          -19599,
          39953,
          -37312,
          -2513,
          562664,
          108297,
          917088,
          37343,
          983850,
          -23818,
          35761,
          556,
          119001,
          43706,
          -11906,
          34737,
          -40625,
          19005,
          57627,
          13637,
          -54311,
          -66394,
          1486704,
          35856,
          40068,
          33836,
          13637,
          61851,
          81126,
          23166,
          -40874,
          113550
         ],
         "xaxis": "x",
         "yaxis": "y"
        }
       ],
       "layout": {
        "barmode": "relative",
        "legend": {
         "tracegroupgap": 0
        },
        "margin": {
         "t": 60
        },
        "template": {
         "data": {
          "bar": [
           {
            "error_x": {
             "color": "#2a3f5f"
            },
            "error_y": {
             "color": "#2a3f5f"
            },
            "marker": {
             "line": {
              "color": "#E5ECF6",
              "width": 0.5
             },
             "pattern": {
              "fillmode": "overlay",
              "size": 10,
              "solidity": 0.2
             }
            },
            "type": "bar"
           }
          ],
          "barpolar": [
           {
            "marker": {
             "line": {
              "color": "#E5ECF6",
              "width": 0.5
             },
             "pattern": {
              "fillmode": "overlay",
              "size": 10,
              "solidity": 0.2
             }
            },
            "type": "barpolar"
           }
          ],
          "carpet": [
           {
            "aaxis": {
             "endlinecolor": "#2a3f5f",
             "gridcolor": "white",
             "linecolor": "white",
             "minorgridcolor": "white",
             "startlinecolor": "#2a3f5f"
            },
            "baxis": {
             "endlinecolor": "#2a3f5f",
             "gridcolor": "white",
             "linecolor": "white",
             "minorgridcolor": "white",
             "startlinecolor": "#2a3f5f"
            },
            "type": "carpet"
           }
          ],
          "choropleth": [
           {
            "colorbar": {
             "outlinewidth": 0,
             "ticks": ""
            },
            "type": "choropleth"
           }
          ],
          "contour": [
           {
            "colorbar": {
             "outlinewidth": 0,
             "ticks": ""
            },
            "colorscale": [
             [
              0,
              "#0d0887"
             ],
             [
              0.1111111111111111,
              "#46039f"
             ],
             [
              0.2222222222222222,
              "#7201a8"
             ],
             [
              0.3333333333333333,
              "#9c179e"
             ],
             [
              0.4444444444444444,
              "#bd3786"
             ],
             [
              0.5555555555555556,
              "#d8576b"
             ],
             [
              0.6666666666666666,
              "#ed7953"
             ],
             [
              0.7777777777777778,
              "#fb9f3a"
             ],
             [
              0.8888888888888888,
              "#fdca26"
             ],
             [
              1,
              "#f0f921"
             ]
            ],
            "type": "contour"
           }
          ],
          "contourcarpet": [
           {
            "colorbar": {
             "outlinewidth": 0,
             "ticks": ""
            },
            "type": "contourcarpet"
           }
          ],
          "heatmap": [
           {
            "colorbar": {
             "outlinewidth": 0,
             "ticks": ""
            },
            "colorscale": [
             [
              0,
              "#0d0887"
             ],
             [
              0.1111111111111111,
              "#46039f"
             ],
             [
              0.2222222222222222,
              "#7201a8"
             ],
             [
              0.3333333333333333,
              "#9c179e"
             ],
             [
              0.4444444444444444,
              "#bd3786"
             ],
             [
              0.5555555555555556,
              "#d8576b"
             ],
             [
              0.6666666666666666,
              "#ed7953"
             ],
             [
              0.7777777777777778,
              "#fb9f3a"
             ],
             [
              0.8888888888888888,
              "#fdca26"
             ],
             [
              1,
              "#f0f921"
             ]
            ],
            "type": "heatmap"
           }
          ],
          "heatmapgl": [
           {
            "colorbar": {
             "outlinewidth": 0,
             "ticks": ""
            },
            "colorscale": [
             [
              0,
              "#0d0887"
             ],
             [
              0.1111111111111111,
              "#46039f"
             ],
             [
              0.2222222222222222,
              "#7201a8"
             ],
             [
              0.3333333333333333,
              "#9c179e"
             ],
             [
              0.4444444444444444,
              "#bd3786"
             ],
             [
              0.5555555555555556,
              "#d8576b"
             ],
             [
              0.6666666666666666,
              "#ed7953"
             ],
             [
              0.7777777777777778,
              "#fb9f3a"
             ],
             [
              0.8888888888888888,
              "#fdca26"
             ],
             [
              1,
              "#f0f921"
             ]
            ],
            "type": "heatmapgl"
           }
          ],
          "histogram": [
           {
            "marker": {
             "pattern": {
              "fillmode": "overlay",
              "size": 10,
              "solidity": 0.2
             }
            },
            "type": "histogram"
           }
          ],
          "histogram2d": [
           {
            "colorbar": {
             "outlinewidth": 0,
             "ticks": ""
            },
            "colorscale": [
             [
              0,
              "#0d0887"
             ],
             [
              0.1111111111111111,
              "#46039f"
             ],
             [
              0.2222222222222222,
              "#7201a8"
             ],
             [
              0.3333333333333333,
              "#9c179e"
             ],
             [
              0.4444444444444444,
              "#bd3786"
             ],
             [
              0.5555555555555556,
              "#d8576b"
             ],
             [
              0.6666666666666666,
              "#ed7953"
             ],
             [
              0.7777777777777778,
              "#fb9f3a"
             ],
             [
              0.8888888888888888,
              "#fdca26"
             ],
             [
              1,
              "#f0f921"
             ]
            ],
            "type": "histogram2d"
           }
          ],
          "histogram2dcontour": [
           {
            "colorbar": {
             "outlinewidth": 0,
             "ticks": ""
            },
            "colorscale": [
             [
              0,
              "#0d0887"
             ],
             [
              0.1111111111111111,
              "#46039f"
             ],
             [
              0.2222222222222222,
              "#7201a8"
             ],
             [
              0.3333333333333333,
              "#9c179e"
             ],
             [
              0.4444444444444444,
              "#bd3786"
             ],
             [
              0.5555555555555556,
              "#d8576b"
             ],
             [
              0.6666666666666666,
              "#ed7953"
             ],
             [
              0.7777777777777778,
              "#fb9f3a"
             ],
             [
              0.8888888888888888,
              "#fdca26"
             ],
             [
              1,
              "#f0f921"
             ]
            ],
            "type": "histogram2dcontour"
           }
          ],
          "mesh3d": [
           {
            "colorbar": {
             "outlinewidth": 0,
             "ticks": ""
            },
            "type": "mesh3d"
           }
          ],
          "parcoords": [
           {
            "line": {
             "colorbar": {
              "outlinewidth": 0,
              "ticks": ""
             }
            },
            "type": "parcoords"
           }
          ],
          "pie": [
           {
            "automargin": true,
            "type": "pie"
           }
          ],
          "scatter": [
           {
            "marker": {
             "colorbar": {
              "outlinewidth": 0,
              "ticks": ""
             }
            },
            "type": "scatter"
           }
          ],
          "scatter3d": [
           {
            "line": {
             "colorbar": {
              "outlinewidth": 0,
              "ticks": ""
             }
            },
            "marker": {
             "colorbar": {
              "outlinewidth": 0,
              "ticks": ""
             }
            },
            "type": "scatter3d"
           }
          ],
          "scattercarpet": [
           {
            "marker": {
             "colorbar": {
              "outlinewidth": 0,
              "ticks": ""
             }
            },
            "type": "scattercarpet"
           }
          ],
          "scattergeo": [
           {
            "marker": {
             "colorbar": {
              "outlinewidth": 0,
              "ticks": ""
             }
            },
            "type": "scattergeo"
           }
          ],
          "scattergl": [
           {
            "marker": {
             "colorbar": {
              "outlinewidth": 0,
              "ticks": ""
             }
            },
            "type": "scattergl"
           }
          ],
          "scattermapbox": [
           {
            "marker": {
             "colorbar": {
              "outlinewidth": 0,
              "ticks": ""
             }
            },
            "type": "scattermapbox"
           }
          ],
          "scatterpolar": [
           {
            "marker": {
             "colorbar": {
              "outlinewidth": 0,
              "ticks": ""
             }
            },
            "type": "scatterpolar"
           }
          ],
          "scatterpolargl": [
           {
            "marker": {
             "colorbar": {
              "outlinewidth": 0,
              "ticks": ""
             }
            },
            "type": "scatterpolargl"
           }
          ],
          "scatterternary": [
           {
            "marker": {
             "colorbar": {
              "outlinewidth": 0,
              "ticks": ""
             }
            },
            "type": "scatterternary"
           }
          ],
          "surface": [
           {
            "colorbar": {
             "outlinewidth": 0,
             "ticks": ""
            },
            "colorscale": [
             [
              0,
              "#0d0887"
             ],
             [
              0.1111111111111111,
              "#46039f"
             ],
             [
              0.2222222222222222,
              "#7201a8"
             ],
             [
              0.3333333333333333,
              "#9c179e"
             ],
             [
              0.4444444444444444,
              "#bd3786"
             ],
             [
              0.5555555555555556,
              "#d8576b"
             ],
             [
              0.6666666666666666,
              "#ed7953"
             ],
             [
              0.7777777777777778,
              "#fb9f3a"
             ],
             [
              0.8888888888888888,
              "#fdca26"
             ],
             [
              1,
              "#f0f921"
             ]
            ],
            "type": "surface"
           }
          ],
          "table": [
           {
            "cells": {
             "fill": {
              "color": "#EBF0F8"
             },
             "line": {
              "color": "white"
             }
            },
            "header": {
             "fill": {
              "color": "#C8D4E3"
             },
             "line": {
              "color": "white"
             }
            },
            "type": "table"
           }
          ]
         },
         "layout": {
          "annotationdefaults": {
           "arrowcolor": "#2a3f5f",
           "arrowhead": 0,
           "arrowwidth": 1
          },
          "autotypenumbers": "strict",
          "coloraxis": {
           "colorbar": {
            "outlinewidth": 0,
            "ticks": ""
           }
          },
          "colorscale": {
           "diverging": [
            [
             0,
             "#8e0152"
            ],
            [
             0.1,
             "#c51b7d"
            ],
            [
             0.2,
             "#de77ae"
            ],
            [
             0.3,
             "#f1b6da"
            ],
            [
             0.4,
             "#fde0ef"
            ],
            [
             0.5,
             "#f7f7f7"
            ],
            [
             0.6,
             "#e6f5d0"
            ],
            [
             0.7,
             "#b8e186"
            ],
            [
             0.8,
             "#7fbc41"
            ],
            [
             0.9,
             "#4d9221"
            ],
            [
             1,
             "#276419"
            ]
           ],
           "sequential": [
            [
             0,
             "#0d0887"
            ],
            [
             0.1111111111111111,
             "#46039f"
            ],
            [
             0.2222222222222222,
             "#7201a8"
            ],
            [
             0.3333333333333333,
             "#9c179e"
            ],
            [
             0.4444444444444444,
             "#bd3786"
            ],
            [
             0.5555555555555556,
             "#d8576b"
            ],
            [
             0.6666666666666666,
             "#ed7953"
            ],
            [
             0.7777777777777778,
             "#fb9f3a"
            ],
            [
             0.8888888888888888,
             "#fdca26"
            ],
            [
             1,
             "#f0f921"
            ]
           ],
           "sequentialminus": [
            [
             0,
             "#0d0887"
            ],
            [
             0.1111111111111111,
             "#46039f"
            ],
            [
             0.2222222222222222,
             "#7201a8"
            ],
            [
             0.3333333333333333,
             "#9c179e"
            ],
            [
             0.4444444444444444,
             "#bd3786"
            ],
            [
             0.5555555555555556,
             "#d8576b"
            ],
            [
             0.6666666666666666,
             "#ed7953"
            ],
            [
             0.7777777777777778,
             "#fb9f3a"
            ],
            [
             0.8888888888888888,
             "#fdca26"
            ],
            [
             1,
             "#f0f921"
            ]
           ]
          },
          "colorway": [
           "#636efa",
           "#EF553B",
           "#00cc96",
           "#ab63fa",
           "#FFA15A",
           "#19d3f3",
           "#FF6692",
           "#B6E880",
           "#FF97FF",
           "#FECB52"
          ],
          "font": {
           "color": "#2a3f5f"
          },
          "geo": {
           "bgcolor": "white",
           "lakecolor": "white",
           "landcolor": "#E5ECF6",
           "showlakes": true,
           "showland": true,
           "subunitcolor": "white"
          },
          "hoverlabel": {
           "align": "left"
          },
          "hovermode": "closest",
          "mapbox": {
           "style": "light"
          },
          "paper_bgcolor": "white",
          "plot_bgcolor": "#E5ECF6",
          "polar": {
           "angularaxis": {
            "gridcolor": "white",
            "linecolor": "white",
            "ticks": ""
           },
           "bgcolor": "#E5ECF6",
           "radialaxis": {
            "gridcolor": "white",
            "linecolor": "white",
            "ticks": ""
           }
          },
          "scene": {
           "xaxis": {
            "backgroundcolor": "#E5ECF6",
            "gridcolor": "white",
            "gridwidth": 2,
            "linecolor": "white",
            "showbackground": true,
            "ticks": "",
            "zerolinecolor": "white"
           },
           "yaxis": {
            "backgroundcolor": "#E5ECF6",
            "gridcolor": "white",
            "gridwidth": 2,
            "linecolor": "white",
            "showbackground": true,
            "ticks": "",
            "zerolinecolor": "white"
           },
           "zaxis": {
            "backgroundcolor": "#E5ECF6",
            "gridcolor": "white",
            "gridwidth": 2,
            "linecolor": "white",
            "showbackground": true,
            "ticks": "",
            "zerolinecolor": "white"
           }
          },
          "shapedefaults": {
           "line": {
            "color": "#2a3f5f"
           }
          },
          "ternary": {
           "aaxis": {
            "gridcolor": "white",
            "linecolor": "white",
            "ticks": ""
           },
           "baxis": {
            "gridcolor": "white",
            "linecolor": "white",
            "ticks": ""
           },
           "bgcolor": "#E5ECF6",
           "caxis": {
            "gridcolor": "white",
            "linecolor": "white",
            "ticks": ""
           }
          },
          "title": {
           "x": 0.05
          },
          "xaxis": {
           "automargin": true,
           "gridcolor": "white",
           "linecolor": "white",
           "ticks": "",
           "title": {
            "standoff": 15
           },
           "zerolinecolor": "white",
           "zerolinewidth": 2
          },
          "yaxis": {
           "automargin": true,
           "gridcolor": "white",
           "linecolor": "white",
           "ticks": "",
           "title": {
            "standoff": 15
           },
           "zerolinecolor": "white",
           "zerolinewidth": 2
          }
         }
        },
        "xaxis": {
         "anchor": "y",
         "domain": [
          0,
          1
         ],
         "title": {
          "text": "예측관객수"
         }
        },
        "yaxis": {
         "anchor": "x",
         "domain": [
          0,
          1
         ],
         "title": {
          "text": "count"
         }
        }
       }
      }
     },
     "metadata": {},
     "output_type": "display_data"
    }
   ],
   "source": [
    "fig = px.histogram(movie_predict, x='예측관객수')\n",
    "fig.show()"
   ]
  },
  {
   "cell_type": "markdown",
   "metadata": {},
   "source": [
    "#### 결과"
   ]
  },
  {
   "cell_type": "markdown",
   "metadata": {},
   "source": [
    "- 2011년 ~ 2019년 데이터로 예측한 결과는 실제 관객수가 커질수록 예측 관객수가 적은 경우가 대부분이였다.\n",
    "- 2020년 데이터로 예측한 결과는 관객수가 적었던 영화를 제외하고는 실제 관객수가 커질수록 예측 관객수가 높은 값을 기록하였다.\n",
    "- 이러한 차이가 코로나19의 영향이라고 판단하였다."
   ]
  },
  {
   "cell_type": "markdown",
   "metadata": {},
   "source": [
    "## ◾모델 구현2\n",
    "- Standard Scaler"
   ]
  },
  {
   "cell_type": "code",
   "execution_count": 181,
   "metadata": {},
   "outputs": [
    {
     "data": {
      "text/plain": [
       "Index(['전국스크린수', '영화형태_단편', '영화형태_옴니버스', '영화형태_장편', '국적_기타', '국적_미국', '국적_일본',\n",
       "       '국적_한국', '장르_SF', '장르_가족', '장르_공연', '장르_공포(호러)', '장르_기타', '장르_다큐멘터리',\n",
       "       '장르_드라마', '장르_멜로/로맨스', '장르_뮤지컬', '장르_미스터리', '장르_범죄', '장르_사극',\n",
       "       '장르_서부극(웨스턴)', '장르_스릴러', '장르_애니메이션', '장르_액션', '장르_어드벤처', '장르_전쟁',\n",
       "       '장르_코미디', '장르_판타지', '등급_12세관람가', '등급_15세관람가', '등급_전체관람가', '등급_청소년관람불가',\n",
       "       '영화구분_독립/예술영화', '영화구분_일반영화', '평점', '상영시간', '감독_흥행', '주연배우_흥행'],\n",
       "      dtype='object')"
      ]
     },
     "execution_count": 181,
     "metadata": {},
     "output_type": "execute_result"
    }
   ],
   "source": [
    "X_train.columns"
   ]
  },
  {
   "cell_type": "code",
   "execution_count": 182,
   "metadata": {},
   "outputs": [],
   "source": [
    "ss = StandardScaler()"
   ]
  },
  {
   "cell_type": "code",
   "execution_count": 190,
   "metadata": {},
   "outputs": [],
   "source": [
    "X_train_ss = X_train.copy()\n",
    "X_test_ss = X_test.copy()\n",
    "\n",
    "ss_cols = ['전국스크린수', '평점', '감독_흥행', '주연배우_흥행']\n",
    "\n",
    "X_train_ss[ss_cols] = ss.fit_transform(X_train[ss_cols])\n",
    "X_test_ss[ss_cols] = ss.fit_transform(X_test[ss_cols])"
   ]
  },
  {
   "cell_type": "markdown",
   "metadata": {},
   "source": [
    "### 1. 모델 수립 및 예측"
   ]
  },
  {
   "cell_type": "markdown",
   "metadata": {},
   "source": [
    "#### 선형 회귀 모델"
   ]
  },
  {
   "cell_type": "markdown",
   "metadata": {},
   "source": [
    "- 선형 회귀 모델 학습"
   ]
  },
  {
   "cell_type": "code",
   "execution_count": 191,
   "metadata": {},
   "outputs": [
    {
     "data": {
      "text/plain": [
       "LinearRegression()"
      ]
     },
     "execution_count": 191,
     "metadata": {},
     "output_type": "execute_result"
    }
   ],
   "source": [
    "lr_clf = LinearRegression()\n",
    "lr_clf.fit(X_train_ss, y_train)"
   ]
  },
  {
   "cell_type": "markdown",
   "metadata": {},
   "source": [
    "- 예측 및 모델 평가\n",
    "  - 모델 평가는 RMSE(Root Mean Square Error)을 사용한다."
   ]
  },
  {
   "cell_type": "code",
   "execution_count": 192,
   "metadata": {},
   "outputs": [
    {
     "name": "stdout",
     "output_type": "stream",
     "text": [
      "RMSE of Train Data : 1116.496146738071\n",
      "RMSE of Train Data : 1161.1615118133361\n"
     ]
    }
   ],
   "source": [
    "pred_tr = lr_clf.predict(X_train_ss)\n",
    "pred_test = lr_clf.predict(X_test_ss)\n",
    "rmse_tr = (np.sqrt(mean_squared_error(y_train, pred_tr)))\n",
    "rmse_test = (np.sqrt(mean_squared_error(y_test, pred_test)))\n",
    "\n",
    "print('RMSE of Train Data : {}'.format(rmse_tr))\n",
    "print('RMSE of Train Data : {}'.format(rmse_test))"
   ]
  },
  {
   "cell_type": "markdown",
   "metadata": {},
   "source": [
    "- 성능 평가(참값, 예측값 비교)"
   ]
  },
  {
   "cell_type": "code",
   "execution_count": 193,
   "metadata": {},
   "outputs": [
    {
     "data": {
      "image/png": "[encoded data removed]",
      "text/plain": [
       "<Figure size 576x576 with 1 Axes>"
      ]
     },
     "metadata": {
      "needs_background": "light"
     },
     "output_type": "display_data"
    }
   ],
   "source": [
    "plt.figure(figsize=(8, 8))\n",
    "plt.scatter(y_test, pred_test)\n",
    "plt.xlabel('Real Count(1000명)')\n",
    "plt.ylabel('Predicted Count(1000명)')\n",
    "plt.grid(True)\n",
    "plt.title('Real vs Predicted')\n",
    "plt.plot([0, 17500], [0, 17500], 'r')\n",
    "plt.show()"
   ]
  },
  {
   "cell_type": "markdown",
   "metadata": {},
   "source": [
    "#### 랜덤포레스트 회귀 모델"
   ]
  },
  {
   "cell_type": "markdown",
   "metadata": {},
   "source": [
    "- GridSearch를 이용해 최고의 모델을 뽑아 비교한다."
   ]
  },
  {
   "cell_type": "code",
   "execution_count": 194,
   "metadata": {},
   "outputs": [
    {
     "data": {
      "text/plain": [
       "GridSearchCV(cv=5, estimator=RandomForestRegressor(n_jobs=-1, random_state=13),\n",
       "             n_jobs=-1,\n",
       "             param_grid={'max_depth': [2, 4, 8, 10, 12],\n",
       "                         'min_samples_leaf': [8, 12],\n",
       "                         'min_samples_split': [8, 12],\n",
       "                         'n_estimators': [50, 100, 200]})"
      ]
     },
     "execution_count": 194,
     "metadata": {},
     "output_type": "execute_result"
    }
   ],
   "source": [
    "params = {\n",
    "    'max_depth' : [2, 4, 8, 10, 12],           # depth 설정\n",
    "    'n_estimators' : [50, 100, 200],    # tree의 개수\n",
    "    'min_samples_leaf' : [8, 12],       # 각 결과 데이터의 최소 개수\n",
    "    'min_samples_split' : [8, 12]       # 분할의 최소 개수\n",
    "}\n",
    "rf_clf = RandomForestRegressor(random_state=13, n_jobs=-1)\n",
    "grid_cv = GridSearchCV(rf_clf, param_grid=params, cv=5, n_jobs=-1)\n",
    "grid_cv.fit(X_train_ss, y_train)"
   ]
  },
  {
   "cell_type": "code",
   "execution_count": 195,
   "metadata": {},
   "outputs": [
    {
     "data": {
      "text/plain": [
       "{'max_depth': 12,\n",
       " 'min_samples_leaf': 8,\n",
       " 'min_samples_split': 8,\n",
       " 'n_estimators': 50}"
      ]
     },
     "execution_count": 195,
     "metadata": {},
     "output_type": "execute_result"
    }
   ],
   "source": [
    "grid_cv.best_params_"
   ]
  },
  {
   "cell_type": "code",
   "execution_count": 196,
   "metadata": {},
   "outputs": [
    {
     "name": "stdout",
     "output_type": "stream",
     "text": [
      "RMSE of Train Data : 819.6050857127893\n",
      "RMSE of Train Data : 1167.727351144463\n"
     ]
    }
   ],
   "source": [
    "best_rf_clf = grid_cv.best_estimator_\n",
    "\n",
    "pred_tr = best_rf_clf.predict(X_train_ss)\n",
    "pred_test = best_rf_clf.predict(X_test_ss)\n",
    "rmse_tr = (np.sqrt(mean_squared_error(y_train, pred_tr)))\n",
    "rmse_test = (np.sqrt(mean_squared_error(y_test, pred_test)))\n",
    "\n",
    "print('RMSE of Train Data : {}'.format(rmse_tr))\n",
    "print('RMSE of Train Data : {}'.format(rmse_test))"
   ]
  },
  {
   "cell_type": "code",
   "execution_count": 197,
   "metadata": {},
   "outputs": [
    {
     "data": {
      "image/png": "[encoded data removed]",
      "text/plain": [
       "<Figure size 576x576 with 1 Axes>"
      ]
     },
     "metadata": {
      "needs_background": "light"
     },
     "output_type": "display_data"
    }
   ],
   "source": [
    "plt.figure(figsize=(8, 8))\n",
    "plt.scatter(y_test, pred_test)\n",
    "plt.xlabel('Real Count(1000명)')\n",
    "plt.ylabel('Predicted Count(1000명)')\n",
    "plt.grid(True)\n",
    "plt.title('Real vs Predicted')\n",
    "plt.plot([0, 17500], [0, 17500], 'r')\n",
    "plt.show()"
   ]
  },
  {
   "cell_type": "markdown",
   "metadata": {},
   "source": [
    "#### GBM 회귀"
   ]
  },
  {
   "cell_type": "code",
   "execution_count": 198,
   "metadata": {},
   "outputs": [
    {
     "data": {
      "text/plain": [
       "GridSearchCV(cv=5, estimator=GradientBoostingRegressor(random_state=13),\n",
       "             n_jobs=-1,\n",
       "             param_grid={'learning_rate': [0.08, 0.1, 0.12],\n",
       "                         'n_estimators': [50, 100, 200, 300]})"
      ]
     },
     "execution_count": 198,
     "metadata": {},
     "output_type": "execute_result"
    }
   ],
   "source": [
    "params = {\n",
    "    'n_estimators' : [50, 100, 200, 300], \n",
    "    'learning_rate' : [0.08, 0.1, 0.12],\n",
    "}\n",
    "\n",
    "gb_clf = GradientBoostingRegressor(random_state=13)\n",
    "grid_cv = GridSearchCV(gb_clf, param_grid=params, cv=5, n_jobs=-1)\n",
    "grid_cv.fit(X_train_ss, y_train)"
   ]
  },
  {
   "cell_type": "code",
   "execution_count": 200,
   "metadata": {},
   "outputs": [
    {
     "data": {
      "text/plain": [
       "{'learning_rate': 0.12, 'n_estimators': 200}"
      ]
     },
     "execution_count": 200,
     "metadata": {},
     "output_type": "execute_result"
    }
   ],
   "source": [
    "grid_cv.best_params_"
   ]
  },
  {
   "cell_type": "code",
   "execution_count": 201,
   "metadata": {},
   "outputs": [
    {
     "name": "stdout",
     "output_type": "stream",
     "text": [
      "RMSE of Train Data : 424.1167921798932\n",
      "RMSE of Train Data : 1197.2523571903675\n"
     ]
    }
   ],
   "source": [
    "best_gb_clf = grid_cv.best_estimator_\n",
    "\n",
    "pred_tr = best_gb_clf.predict(X_train_ss)\n",
    "pred_test = best_gb_clf.predict(X_test_ss)\n",
    "rmse_tr = (np.sqrt(mean_squared_error(y_train, pred_tr)))\n",
    "rmse_test = (np.sqrt(mean_squared_error(y_test, pred_test)))\n",
    "\n",
    "print('RMSE of Train Data : {}'.format(rmse_tr))\n",
    "print('RMSE of Train Data : {}'.format(rmse_test))"
   ]
  },
  {
   "cell_type": "code",
   "execution_count": 202,
   "metadata": {},
   "outputs": [
    {
     "data": {
      "image/png": "[encoded data removed]",
      "text/plain": [
       "<Figure size 576x576 with 1 Axes>"
      ]
     },
     "metadata": {
      "needs_background": "light"
     },
     "output_type": "display_data"
    }
   ],
   "source": [
    "plt.figure(figsize=(8, 8))\n",
    "plt.scatter(y_test, pred_test)\n",
    "plt.xlabel('Real Count(1000명)')\n",
    "plt.ylabel('Predicted Count(1000명)')\n",
    "plt.grid(True)\n",
    "plt.title('Real vs Predicted')\n",
    "plt.plot([0, 17500], [0, 17500], 'r')\n",
    "plt.show()"
   ]
  },
  {
   "cell_type": "markdown",
   "metadata": {},
   "source": [
    "### 2. 2020년 데이터 적용"
   ]
  },
  {
   "cell_type": "markdown",
   "metadata": {},
   "source": [
    "#### 2020년 데이터 예측"
   ]
  },
  {
   "cell_type": "markdown",
   "metadata": {},
   "source": [
    "- 2개의 모델을 비교했을 때 랜덤 포레스트 회귀 모델이 높은 성능을 냈다.\n",
    "- 높은 성능을 낸 `best_rfr_clf`를 이용해 2020년 데이터를 예측한다."
   ]
  },
  {
   "cell_type": "code",
   "execution_count": 203,
   "metadata": {},
   "outputs": [
    {
     "data": {
      "text/plain": [
       "((234, 38), (234,))"
      ]
     },
     "execution_count": 203,
     "metadata": {},
     "output_type": "execute_result"
    }
   ],
   "source": [
    "# 변수, 라벨 분리\n",
    "X_2020 = movie_2020.drop(not_used, axis=1)\n",
    "y_2020 = movie_2020['전국관객수'] / 1000\n",
    "\n",
    "X_2020.shape, y_2020.shape"
   ]
  },
  {
   "cell_type": "code",
   "execution_count": 204,
   "metadata": {},
   "outputs": [],
   "source": [
    "X_2020_ss = X_2020.copy()\n",
    "X_2020_ss[ss_cols] = ss.fit_transform(X_2020[ss_cols])"
   ]
  },
  {
   "cell_type": "markdown",
   "metadata": {},
   "source": [
    "- 모델 예측 및 평가\n",
    "  - 가장 잘 예측한 GBM 회귀 모델을 사용해서 예측한다."
   ]
  },
  {
   "cell_type": "code",
   "execution_count": 207,
   "metadata": {},
   "outputs": [
    {
     "name": "stdout",
     "output_type": "stream",
     "text": [
      "RMSE of 2020 Data : 966.6638550885234\n"
     ]
    }
   ],
   "source": [
    "pred_2020 = best_gb_clf.predict(X_2020_ss)\n",
    "rmse_2020 = (np.sqrt(mean_squared_error(y_2020, pred_2020)))\n",
    "\n",
    "print('RMSE of 2020 Data : {}'.format(rmse_2020))"
   ]
  },
  {
   "cell_type": "code",
   "execution_count": null,
   "metadata": {},
   "outputs": [
    {
     "data": {
      "image/png": "[encoded data removed]",
      "text/plain": [
       "<Figure size 576x576 with 1 Axes>"
      ]
     },
     "metadata": {
      "needs_background": "light"
     },
     "output_type": "display_data"
    }
   ],
   "source": [
    "plt.figure(figsize=(8, 8))\n",
    "plt.scatter(y_2020, pred_2020)\n",
    "plt.xlabel('Real Count(1000명)')\n",
    "plt.ylabel('Predicted Count(1000명)')\n",
    "plt.title('Real vs Predicted')\n",
    "plt.grid(True)\n",
    "plt.plot([0, 5000], [0, 5000], 'r')\n",
    "plt.show()"
   ]
  },
  {
   "cell_type": "markdown",
   "metadata": {},
   "source": [
    "#### 실제값과 예측값 비교"
   ]
  },
  {
   "cell_type": "markdown",
   "metadata": {},
   "source": [
    "- 예측 결과를 `movie_2020`에 추가하여 비교해본다."
   ]
  },
  {
   "cell_type": "code",
   "execution_count": null,
   "metadata": {},
   "outputs": [],
   "source": [
    "movie_predict = movie_2020[['영화명','감독','개봉일','전국관객수']]\n",
    "# 1000으로 나눈 예측값이므로 다시 곱해준다.\n",
    "movie_predict['예측관객수'] = (pred_2020 * 1000).astype('int')\n",
    "movie_predict['diff'] = movie_predict['예측관객수']-movie_predict['전국관객수']"
   ]
  },
  {
   "cell_type": "code",
   "execution_count": null,
   "metadata": {},
   "outputs": [
    {
     "data": {
      "text/html": [
       "<div>\n",
       "<style scoped>\n",
       "    .dataframe tbody tr th:only-of-type {\n",
       "        vertical-align: middle;\n",
       "    }\n",
       "\n",
       "    .dataframe tbody tr th {\n",
       "        vertical-align: top;\n",
       "    }\n",
       "\n",
       "    .dataframe thead th {\n",
       "        text-align: right;\n",
       "    }\n",
       "</style>\n",
       "<table border=\"1\" class=\"dataframe\">\n",
       "  <thead>\n",
       "    <tr style=\"text-align: right;\">\n",
       "      <th></th>\n",
       "      <th>영화명</th>\n",
       "      <th>감독</th>\n",
       "      <th>개봉일</th>\n",
       "      <th>전국관객수</th>\n",
       "      <th>예측관객수</th>\n",
       "      <th>diff</th>\n",
       "    </tr>\n",
       "  </thead>\n",
       "  <tbody>\n",
       "    <tr>\n",
       "      <th>113</th>\n",
       "      <td>반도</td>\n",
       "      <td>연상호</td>\n",
       "      <td>2020-07-15</td>\n",
       "      <td>3812080</td>\n",
       "      <td>12464139</td>\n",
       "      <td>8652059</td>\n",
       "    </tr>\n",
       "    <tr>\n",
       "      <th>268</th>\n",
       "      <td>강철비2: 정상회담</td>\n",
       "      <td>양우석</td>\n",
       "      <td>2020-07-29</td>\n",
       "      <td>1790797</td>\n",
       "      <td>7904814</td>\n",
       "      <td>6114017</td>\n",
       "    </tr>\n",
       "    <tr>\n",
       "      <th>251</th>\n",
       "      <td>#살아있다</td>\n",
       "      <td>조일형</td>\n",
       "      <td>2020-06-24</td>\n",
       "      <td>1903703</td>\n",
       "      <td>7498190</td>\n",
       "      <td>5594487</td>\n",
       "    </tr>\n",
       "    <tr>\n",
       "      <th>97</th>\n",
       "      <td>다만 악에서 구하소서</td>\n",
       "      <td>홍원찬</td>\n",
       "      <td>2020-08-05</td>\n",
       "      <td>4352669</td>\n",
       "      <td>8753560</td>\n",
       "      <td>4400891</td>\n",
       "    </tr>\n",
       "    <tr>\n",
       "      <th>243</th>\n",
       "      <td>테넷</td>\n",
       "      <td>크리스토퍼 놀란</td>\n",
       "      <td>2020-08-26</td>\n",
       "      <td>1998987</td>\n",
       "      <td>6112067</td>\n",
       "      <td>4113080</td>\n",
       "    </tr>\n",
       "  </tbody>\n",
       "</table>\n",
       "</div>"
      ],
      "text/plain": [
       "             영화명        감독        개봉일    전국관객수     예측관객수     diff\n",
       "113           반도       연상호 2020-07-15  3812080  12464139  8652059\n",
       "268   강철비2: 정상회담       양우석 2020-07-29  1790797   7904814  6114017\n",
       "251        #살아있다       조일형 2020-06-24  1903703   7498190  5594487\n",
       "97   다만 악에서 구하소서       홍원찬 2020-08-05  4352669   8753560  4400891\n",
       "243           테넷  크리스토퍼 놀란 2020-08-26  1998987   6112067  4113080"
      ]
     },
     "execution_count": 782,
     "metadata": {},
     "output_type": "execute_result"
    }
   ],
   "source": [
    "movie_predict.sort_values('diff', ascending=False).head()"
   ]
  },
  {
   "cell_type": "code",
   "execution_count": null,
   "metadata": {},
   "outputs": [
    {
     "data": {
      "text/plain": [
       "199249.60256410256"
      ]
     },
     "execution_count": 783,
     "metadata": {},
     "output_type": "execute_result"
    }
   ],
   "source": [
    "movie_predict['전국관객수'].mean()"
   ]
  },
  {
   "cell_type": "code",
   "execution_count": null,
   "metadata": {},
   "outputs": [
    {
     "data": {
      "text/plain": [
       "764381.3632478632"
      ]
     },
     "execution_count": 786,
     "metadata": {},
     "output_type": "execute_result"
    }
   ],
   "source": [
    "movie_predict['예측관객수'].mean()"
   ]
  },
  {
   "cell_type": "code",
   "execution_count": null,
   "metadata": {},
   "outputs": [
    {
     "data": {
      "text/plain": [
       "565131.7606837606"
      ]
     },
     "execution_count": 785,
     "metadata": {},
     "output_type": "execute_result"
    }
   ],
   "source": [
    "movie_predict['diff'].mean()"
   ]
  },
  {
   "cell_type": "markdown",
   "metadata": {},
   "source": [
    "- 전국 관객수와 예측 관객수 히스토그램"
   ]
  },
  {
   "cell_type": "code",
   "execution_count": null,
   "metadata": {},
   "outputs": [
    {
     "data": {
      "application/vnd.plotly.v1+json": {
       "config": {
        "plotlyServerURL": "https://plot.ly"
       },
       "data": [
        {
         "alignmentgroup": "True",
         "bingroup": "x",
         "hovertemplate": "전국관객수=%{x}<br>count=%{y}<extra></extra>",
         "legendgroup": "",
         "marker": {
          "color": "#636efa",
          "pattern": {
           "shape": ""
          }
         },
         "name": "",
         "offsetgroup": "",
         "orientation": "v",
         "showlegend": false,
         "type": "histogram",
         "x": [
          4750104,
          4352669,
          3812080,
          2406232,
          1998987,
          1903703,
          1790797,
          1719592,
          1607082,
          1571774,
          1543813,
          1525718,
          1264970,
          1228685,
          1209689,
          893855,
          859072,
          626815,
          601675,
          575043,
          537470,
          531212,
          507265,
          431559,
          416739,
          403326,
          401411,
          351162,
          325869,
          284141,
          236247,
          233112,
          212439,
          190237,
          185653,
          179393,
          153178,
          150119,
          131693,
          127251,
          123329,
          118725,
          118112,
          109913,
          109207,
          108122,
          103534,
          103251,
          101616,
          100092,
          89719,
          88440,
          87996,
          81482,
          79877,
          79215,
          78929,
          72912,
          72886,
          72419,
          70019,
          65975,
          61897,
          60762,
          57883,
          56282,
          53684,
          51816,
          51381,
          50692,
          44989,
          43486,
          41680,
          37961,
          36986,
          36962,
          36405,
          36245,
          34115,
          31760,
          31548,
          29879,
          28884,
          27974,
          27928,
          27569,
          27330,
          26531,
          25383,
          25153,
          24635,
          24573,
          24000,
          23810,
          23613,
          23441,
          23247,
          22832,
          22729,
          22330,
          21692,
          21609,
          20784,
          20317,
          19632,
          19241,
          18197,
          18106,
          17663,
          17632,
          17607,
          17532,
          16137,
          15650,
          15593,
          15386,
          15229,
          15211,
          14799,
          14437,
          13702,
          13401,
          13003,
          12878,
          12785,
          12737,
          12692,
          12450,
          12403,
          12382,
          12137,
          11896,
          11579,
          11564,
          11409,
          11223,
          11000,
          10809,
          10472,
          10284,
          10210,
          9511,
          9463,
          9459,
          8915,
          8679,
          8639,
          8464,
          8454,
          8139,
          7531,
          7509,
          7324,
          7324,
          7221,
          7101,
          6896,
          6526,
          6378,
          6069,
          5960,
          5761,
          5744,
          5523,
          5456,
          5267,
          5218,
          5199,
          5120,
          5064,
          5045,
          4960,
          4878,
          4872,
          4828,
          4814,
          4777,
          4645,
          4587,
          4585,
          4478,
          4412,
          4380,
          4356,
          4267,
          4258,
          4185,
          4176,
          4168,
          4160,
          4109,
          4077,
          4072,
          4036,
          3883,
          3753,
          3694,
          3663,
          3646,
          3573,
          3467,
          3351,
          3330,
          3326,
          3274,
          3245,
          3214,
          2971,
          2950,
          2744,
          2730,
          2695,
          2623,
          2553,
          2541,
          2492,
          2411,
          2334,
          2319,
          2281,
          2235,
          2212,
          2052,
          2046,
          2042,
          2018,
          1955,
          1871,
          1690,
          1524,
          1459,
          1361,
          1254,
          1140
         ],
         "xaxis": "x",
         "yaxis": "y"
        }
       ],
       "layout": {
        "barmode": "relative",
        "legend": {
         "tracegroupgap": 0
        },
        "margin": {
         "t": 60
        },
        "template": {
         "data": {
          "bar": [
           {
            "error_x": {
             "color": "#2a3f5f"
            },
            "error_y": {
             "color": "#2a3f5f"
            },
            "marker": {
             "line": {
              "color": "#E5ECF6",
              "width": 0.5
             },
             "pattern": {
              "fillmode": "overlay",
              "size": 10,
              "solidity": 0.2
             }
            },
            "type": "bar"
           }
          ],
          "barpolar": [
           {
            "marker": {
             "line": {
              "color": "#E5ECF6",
              "width": 0.5
             },
             "pattern": {
              "fillmode": "overlay",
              "size": 10,
              "solidity": 0.2
             }
            },
            "type": "barpolar"
           }
          ],
          "carpet": [
           {
            "aaxis": {
             "endlinecolor": "#2a3f5f",
             "gridcolor": "white",
             "linecolor": "white",
             "minorgridcolor": "white",
             "startlinecolor": "#2a3f5f"
            },
            "baxis": {
             "endlinecolor": "#2a3f5f",
             "gridcolor": "white",
             "linecolor": "white",
             "minorgridcolor": "white",
             "startlinecolor": "#2a3f5f"
            },
            "type": "carpet"
           }
          ],
          "choropleth": [
           {
            "colorbar": {
             "outlinewidth": 0,
             "ticks": ""
            },
            "type": "choropleth"
           }
          ],
          "contour": [
           {
            "colorbar": {
             "outlinewidth": 0,
             "ticks": ""
            },
            "colorscale": [
             [
              0,
              "#0d0887"
             ],
             [
              0.1111111111111111,
              "#46039f"
             ],
             [
              0.2222222222222222,
              "#7201a8"
             ],
             [
              0.3333333333333333,
              "#9c179e"
             ],
             [
              0.4444444444444444,
              "#bd3786"
             ],
             [
              0.5555555555555556,
              "#d8576b"
             ],
             [
              0.6666666666666666,
              "#ed7953"
             ],
             [
              0.7777777777777778,
              "#fb9f3a"
             ],
             [
              0.8888888888888888,
              "#fdca26"
             ],
             [
              1,
              "#f0f921"
             ]
            ],
            "type": "contour"
           }
          ],
          "contourcarpet": [
           {
            "colorbar": {
             "outlinewidth": 0,
             "ticks": ""
            },
            "type": "contourcarpet"
           }
          ],
          "heatmap": [
           {
            "colorbar": {
             "outlinewidth": 0,
             "ticks": ""
            },
            "colorscale": [
             [
              0,
              "#0d0887"
             ],
             [
              0.1111111111111111,
              "#46039f"
             ],
             [
              0.2222222222222222,
              "#7201a8"
             ],
             [
              0.3333333333333333,
              "#9c179e"
             ],
             [
              0.4444444444444444,
              "#bd3786"
             ],
             [
              0.5555555555555556,
              "#d8576b"
             ],
             [
              0.6666666666666666,
              "#ed7953"
             ],
             [
              0.7777777777777778,
              "#fb9f3a"
             ],
             [
              0.8888888888888888,
              "#fdca26"
             ],
             [
              1,
              "#f0f921"
             ]
            ],
            "type": "heatmap"
           }
          ],
          "heatmapgl": [
           {
            "colorbar": {
             "outlinewidth": 0,
             "ticks": ""
            },
            "colorscale": [
             [
              0,
              "#0d0887"
             ],
             [
              0.1111111111111111,
              "#46039f"
             ],
             [
              0.2222222222222222,
              "#7201a8"
             ],
             [
              0.3333333333333333,
              "#9c179e"
             ],
             [
              0.4444444444444444,
              "#bd3786"
             ],
             [
              0.5555555555555556,
              "#d8576b"
             ],
             [
              0.6666666666666666,
              "#ed7953"
             ],
             [
              0.7777777777777778,
              "#fb9f3a"
             ],
             [
              0.8888888888888888,
              "#fdca26"
             ],
             [
              1,
              "#f0f921"
             ]
            ],
            "type": "heatmapgl"
           }
          ],
          "histogram": [
           {
            "marker": {
             "pattern": {
              "fillmode": "overlay",
              "size": 10,
              "solidity": 0.2
             }
            },
            "type": "histogram"
           }
          ],
          "histogram2d": [
           {
            "colorbar": {
             "outlinewidth": 0,
             "ticks": ""
            },
            "colorscale": [
             [
              0,
              "#0d0887"
             ],
             [
              0.1111111111111111,
              "#46039f"
             ],
             [
              0.2222222222222222,
              "#7201a8"
             ],
             [
              0.3333333333333333,
              "#9c179e"
             ],
             [
              0.4444444444444444,
              "#bd3786"
             ],
             [
              0.5555555555555556,
              "#d8576b"
             ],
             [
              0.6666666666666666,
              "#ed7953"
             ],
             [
              0.7777777777777778,
              "#fb9f3a"
             ],
             [
              0.8888888888888888,
              "#fdca26"
             ],
             [
              1,
              "#f0f921"
             ]
            ],
            "type": "histogram2d"
           }
          ],
          "histogram2dcontour": [
           {
            "colorbar": {
             "outlinewidth": 0,
             "ticks": ""
            },
            "colorscale": [
             [
              0,
              "#0d0887"
             ],
             [
              0.1111111111111111,
              "#46039f"
             ],
             [
              0.2222222222222222,
              "#7201a8"
             ],
             [
              0.3333333333333333,
              "#9c179e"
             ],
             [
              0.4444444444444444,
              "#bd3786"
             ],
             [
              0.5555555555555556,
              "#d8576b"
             ],
             [
              0.6666666666666666,
              "#ed7953"
             ],
             [
              0.7777777777777778,
              "#fb9f3a"
             ],
             [
              0.8888888888888888,
              "#fdca26"
             ],
             [
              1,
              "#f0f921"
             ]
            ],
            "type": "histogram2dcontour"
           }
          ],
          "mesh3d": [
           {
            "colorbar": {
             "outlinewidth": 0,
             "ticks": ""
            },
            "type": "mesh3d"
           }
          ],
          "parcoords": [
           {
            "line": {
             "colorbar": {
              "outlinewidth": 0,
              "ticks": ""
             }
            },
            "type": "parcoords"
           }
          ],
          "pie": [
           {
            "automargin": true,
            "type": "pie"
           }
          ],
          "scatter": [
           {
            "marker": {
             "colorbar": {
              "outlinewidth": 0,
              "ticks": ""
             }
            },
            "type": "scatter"
           }
          ],
          "scatter3d": [
           {
            "line": {
             "colorbar": {
              "outlinewidth": 0,
              "ticks": ""
             }
            },
            "marker": {
             "colorbar": {
              "outlinewidth": 0,
              "ticks": ""
             }
            },
            "type": "scatter3d"
           }
          ],
          "scattercarpet": [
           {
            "marker": {
             "colorbar": {
              "outlinewidth": 0,
              "ticks": ""
             }
            },
            "type": "scattercarpet"
           }
          ],
          "scattergeo": [
           {
            "marker": {
             "colorbar": {
              "outlinewidth": 0,
              "ticks": ""
             }
            },
            "type": "scattergeo"
           }
          ],
          "scattergl": [
           {
            "marker": {
             "colorbar": {
              "outlinewidth": 0,
              "ticks": ""
             }
            },
            "type": "scattergl"
           }
          ],
          "scattermapbox": [
           {
            "marker": {
             "colorbar": {
              "outlinewidth": 0,
              "ticks": ""
             }
            },
            "type": "scattermapbox"
           }
          ],
          "scatterpolar": [
           {
            "marker": {
             "colorbar": {
              "outlinewidth": 0,
              "ticks": ""
             }
            },
            "type": "scatterpolar"
           }
          ],
          "scatterpolargl": [
           {
            "marker": {
             "colorbar": {
              "outlinewidth": 0,
              "ticks": ""
             }
            },
            "type": "scatterpolargl"
           }
          ],
          "scatterternary": [
           {
            "marker": {
             "colorbar": {
              "outlinewidth": 0,
              "ticks": ""
             }
            },
            "type": "scatterternary"
           }
          ],
          "surface": [
           {
            "colorbar": {
             "outlinewidth": 0,
             "ticks": ""
            },
            "colorscale": [
             [
              0,
              "#0d0887"
             ],
             [
              0.1111111111111111,
              "#46039f"
             ],
             [
              0.2222222222222222,
              "#7201a8"
             ],
             [
              0.3333333333333333,
              "#9c179e"
             ],
             [
              0.4444444444444444,
              "#bd3786"
             ],
             [
              0.5555555555555556,
              "#d8576b"
             ],
             [
              0.6666666666666666,
              "#ed7953"
             ],
             [
              0.7777777777777778,
              "#fb9f3a"
             ],
             [
              0.8888888888888888,
              "#fdca26"
             ],
             [
              1,
              "#f0f921"
             ]
            ],
            "type": "surface"
           }
          ],
          "table": [
           {
            "cells": {
             "fill": {
              "color": "#EBF0F8"
             },
             "line": {
              "color": "white"
             }
            },
            "header": {
             "fill": {
              "color": "#C8D4E3"
             },
             "line": {
              "color": "white"
             }
            },
            "type": "table"
           }
          ]
         },
         "layout": {
          "annotationdefaults": {
           "arrowcolor": "#2a3f5f",
           "arrowhead": 0,
           "arrowwidth": 1
          },
          "autotypenumbers": "strict",
          "coloraxis": {
           "colorbar": {
            "outlinewidth": 0,
            "ticks": ""
           }
          },
          "colorscale": {
           "diverging": [
            [
             0,
             "#8e0152"
            ],
            [
             0.1,
             "#c51b7d"
            ],
            [
             0.2,
             "#de77ae"
            ],
            [
             0.3,
             "#f1b6da"
            ],
            [
             0.4,
             "#fde0ef"
            ],
            [
             0.5,
             "#f7f7f7"
            ],
            [
             0.6,
             "#e6f5d0"
            ],
            [
             0.7,
             "#b8e186"
            ],
            [
             0.8,
             "#7fbc41"
            ],
            [
             0.9,
             "#4d9221"
            ],
            [
             1,
             "#276419"
            ]
           ],
           "sequential": [
            [
             0,
             "#0d0887"
            ],
            [
             0.1111111111111111,
             "#46039f"
            ],
            [
             0.2222222222222222,
             "#7201a8"
            ],
            [
             0.3333333333333333,
             "#9c179e"
            ],
            [
             0.4444444444444444,
             "#bd3786"
            ],
            [
             0.5555555555555556,
             "#d8576b"
            ],
            [
             0.6666666666666666,
             "#ed7953"
            ],
            [
             0.7777777777777778,
             "#fb9f3a"
            ],
            [
             0.8888888888888888,
             "#fdca26"
            ],
            [
             1,
             "#f0f921"
            ]
           ],
           "sequentialminus": [
            [
             0,
             "#0d0887"
            ],
            [
             0.1111111111111111,
             "#46039f"
            ],
            [
             0.2222222222222222,
             "#7201a8"
            ],
            [
             0.3333333333333333,
             "#9c179e"
            ],
            [
             0.4444444444444444,
             "#bd3786"
            ],
            [
             0.5555555555555556,
             "#d8576b"
            ],
            [
             0.6666666666666666,
             "#ed7953"
            ],
            [
             0.7777777777777778,
             "#fb9f3a"
            ],
            [
             0.8888888888888888,
             "#fdca26"
            ],
            [
             1,
             "#f0f921"
            ]
           ]
          },
          "colorway": [
           "#636efa",
           "#EF553B",
           "#00cc96",
           "#ab63fa",
           "#FFA15A",
           "#19d3f3",
           "#FF6692",
           "#B6E880",
           "#FF97FF",
           "#FECB52"
          ],
          "font": {
           "color": "#2a3f5f"
          },
          "geo": {
           "bgcolor": "white",
           "lakecolor": "white",
           "landcolor": "#E5ECF6",
           "showlakes": true,
           "showland": true,
           "subunitcolor": "white"
          },
          "hoverlabel": {
           "align": "left"
          },
          "hovermode": "closest",
          "mapbox": {
           "style": "light"
          },
          "paper_bgcolor": "white",
          "plot_bgcolor": "#E5ECF6",
          "polar": {
           "angularaxis": {
            "gridcolor": "white",
            "linecolor": "white",
            "ticks": ""
           },
           "bgcolor": "#E5ECF6",
           "radialaxis": {
            "gridcolor": "white",
            "linecolor": "white",
            "ticks": ""
           }
          },
          "scene": {
           "xaxis": {
            "backgroundcolor": "#E5ECF6",
            "gridcolor": "white",
            "gridwidth": 2,
            "linecolor": "white",
            "showbackground": true,
            "ticks": "",
            "zerolinecolor": "white"
           },
           "yaxis": {
            "backgroundcolor": "#E5ECF6",
            "gridcolor": "white",
            "gridwidth": 2,
            "linecolor": "white",
            "showbackground": true,
            "ticks": "",
            "zerolinecolor": "white"
           },
           "zaxis": {
            "backgroundcolor": "#E5ECF6",
            "gridcolor": "white",
            "gridwidth": 2,
            "linecolor": "white",
            "showbackground": true,
            "ticks": "",
            "zerolinecolor": "white"
           }
          },
          "shapedefaults": {
           "line": {
            "color": "#2a3f5f"
           }
          },
          "ternary": {
           "aaxis": {
            "gridcolor": "white",
            "linecolor": "white",
            "ticks": ""
           },
           "baxis": {
            "gridcolor": "white",
            "linecolor": "white",
            "ticks": ""
           },
           "bgcolor": "#E5ECF6",
           "caxis": {
            "gridcolor": "white",
            "linecolor": "white",
            "ticks": ""
           }
          },
          "title": {
           "x": 0.05
          },
          "xaxis": {
           "automargin": true,
           "gridcolor": "white",
           "linecolor": "white",
           "ticks": "",
           "title": {
            "standoff": 15
           },
           "zerolinecolor": "white",
           "zerolinewidth": 2
          },
          "yaxis": {
           "automargin": true,
           "gridcolor": "white",
           "linecolor": "white",
           "ticks": "",
           "title": {
            "standoff": 15
           },
           "zerolinecolor": "white",
           "zerolinewidth": 2
          }
         }
        },
        "xaxis": {
         "anchor": "y",
         "domain": [
          0,
          1
         ],
         "title": {
          "text": "전국관객수"
         }
        },
        "yaxis": {
         "anchor": "x",
         "domain": [
          0,
          1
         ],
         "title": {
          "text": "count"
         }
        }
       }
      }
     },
     "metadata": {},
     "output_type": "display_data"
    }
   ],
   "source": [
    "fig = px.histogram(movie_predict, x='전국관객수')\n",
    "fig.show()"
   ]
  },
  {
   "cell_type": "code",
   "execution_count": null,
   "metadata": {},
   "outputs": [
    {
     "data": {
      "application/vnd.plotly.v1+json": {
       "config": {
        "plotlyServerURL": "https://plot.ly"
       },
       "data": [
        {
         "alignmentgroup": "True",
         "bingroup": "x",
         "hovertemplate": "예측관객수=%{x}<br>count=%{y}<extra></extra>",
         "legendgroup": "",
         "marker": {
          "color": "#636efa",
          "pattern": {
           "shape": ""
          }
         },
         "name": "",
         "offsetgroup": "",
         "orientation": "v",
         "showlegend": false,
         "type": "histogram",
         "x": [
          7378580,
          8753560,
          12464139,
          5111432,
          6112067,
          7498190,
          7904814,
          3964392,
          2276820,
          4283980,
          3110825,
          3553180,
          2817735,
          3142939,
          2915225,
          2675664,
          2465508,
          2608903,
          1627664,
          1760438,
          2142478,
          2550380,
          2074197,
          2448673,
          1605916,
          2492785,
          2441057,
          1849284,
          1275087,
          1231178,
          3142234,
          1249506,
          1950994,
          1847949,
          1519024,
          1383996,
          759243,
          1473304,
          392327,
          641778,
          948000,
          856096,
          693212,
          1010785,
          832278,
          1084726,
          488552,
          522865,
          1444553,
          71413,
          686404,
          982733,
          352989,
          881039,
          739369,
          1353840,
          571873,
          415864,
          536618,
          974217,
          460513,
          967321,
          1200633,
          565131,
          434692,
          -43910,
          738395,
          958350,
          599667,
          300177,
          95057,
          208361,
          1104249,
          368518,
          469710,
          573096,
          201790,
          809795,
          301860,
          -4703,
          -7128,
          555395,
          496015,
          581852,
          74338,
          244452,
          418660,
          -131632,
          585533,
          1103929,
          731620,
          654579,
          278365,
          303139,
          159576,
          214613,
          672376,
          236015,
          511090,
          239876,
          281194,
          -141797,
          238802,
          284989,
          398581,
          38505,
          173604,
          281827,
          161395,
          471164,
          76403,
          4553,
          490650,
          387585,
          48963,
          499267,
          137302,
          55215,
          111720,
          193093,
          250161,
          166439,
          159645,
          130872,
          337274,
          -115013,
          -99326,
          173524,
          38353,
          211303,
          338852,
          185077,
          356665,
          155275,
          189091,
          308719,
          207036,
          314614,
          213279,
          6655,
          338551,
          2397470,
          -21901,
          314578,
          -104178,
          1235979,
          54717,
          -54177,
          97731,
          125582,
          83665,
          -147692,
          136061,
          33640,
          9799,
          187516,
          136808,
          148995,
          435259,
          135815,
          305535,
          144156,
          -121741,
          178220,
          136824,
          -60762,
          108135,
          127784,
          139297,
          67546,
          205745,
          -187014,
          48731,
          114735,
          -88038,
          143293,
          219084,
          13740,
          -150441,
          137852,
          -45068,
          160175,
          -130860,
          -57524,
          135355,
          -25095,
          -39363,
          277131,
          114070,
          380338,
          297629,
          161455,
          54083,
          -121418,
          127417,
          129347,
          378500,
          275328,
          169761,
          85187,
          -112939,
          -43730,
          129868,
          103059,
          33751,
          14292,
          63954,
          199512,
          231334,
          -505320,
          105163,
          -213479,
          -174356,
          -267077,
          275754,
          -55780,
          226523,
          48785,
          -8099,
          42829,
          316514,
          181413,
          -124687,
          -44005,
          23294,
          71543,
          22194,
          51100,
          263744,
          184736,
          323703,
          173677,
          -191881,
          -131243
         ],
         "xaxis": "x",
         "yaxis": "y"
        }
       ],
       "layout": {
        "barmode": "relative",
        "legend": {
         "tracegroupgap": 0
        },
        "margin": {
         "t": 60
        },
        "template": {
         "data": {
          "bar": [
           {
            "error_x": {
             "color": "#2a3f5f"
            },
            "error_y": {
             "color": "#2a3f5f"
            },
            "marker": {
             "line": {
              "color": "#E5ECF6",
              "width": 0.5
             },
             "pattern": {
              "fillmode": "overlay",
              "size": 10,
              "solidity": 0.2
             }
            },
            "type": "bar"
           }
          ],
          "barpolar": [
           {
            "marker": {
             "line": {
              "color": "#E5ECF6",
              "width": 0.5
             },
             "pattern": {
              "fillmode": "overlay",
              "size": 10,
              "solidity": 0.2
             }
            },
            "type": "barpolar"
           }
          ],
          "carpet": [
           {
            "aaxis": {
             "endlinecolor": "#2a3f5f",
             "gridcolor": "white",
             "linecolor": "white",
             "minorgridcolor": "white",
             "startlinecolor": "#2a3f5f"
            },
            "baxis": {
             "endlinecolor": "#2a3f5f",
             "gridcolor": "white",
             "linecolor": "white",
             "minorgridcolor": "white",
             "startlinecolor": "#2a3f5f"
            },
            "type": "carpet"
           }
          ],
          "choropleth": [
           {
            "colorbar": {
             "outlinewidth": 0,
             "ticks": ""
            },
            "type": "choropleth"
           }
          ],
          "contour": [
           {
            "colorbar": {
             "outlinewidth": 0,
             "ticks": ""
            },
            "colorscale": [
             [
              0,
              "#0d0887"
             ],
             [
              0.1111111111111111,
              "#46039f"
             ],
             [
              0.2222222222222222,
              "#7201a8"
             ],
             [
              0.3333333333333333,
              "#9c179e"
             ],
             [
              0.4444444444444444,
              "#bd3786"
             ],
             [
              0.5555555555555556,
              "#d8576b"
             ],
             [
              0.6666666666666666,
              "#ed7953"
             ],
             [
              0.7777777777777778,
              "#fb9f3a"
             ],
             [
              0.8888888888888888,
              "#fdca26"
             ],
             [
              1,
              "#f0f921"
             ]
            ],
            "type": "contour"
           }
          ],
          "contourcarpet": [
           {
            "colorbar": {
             "outlinewidth": 0,
             "ticks": ""
            },
            "type": "contourcarpet"
           }
          ],
          "heatmap": [
           {
            "colorbar": {
             "outlinewidth": 0,
             "ticks": ""
            },
            "colorscale": [
             [
              0,
              "#0d0887"
             ],
             [
              0.1111111111111111,
              "#46039f"
             ],
             [
              0.2222222222222222,
              "#7201a8"
             ],
             [
              0.3333333333333333,
              "#9c179e"
             ],
             [
              0.4444444444444444,
              "#bd3786"
             ],
             [
              0.5555555555555556,
              "#d8576b"
             ],
             [
              0.6666666666666666,
              "#ed7953"
             ],
             [
              0.7777777777777778,
              "#fb9f3a"
             ],
             [
              0.8888888888888888,
              "#fdca26"
             ],
             [
              1,
              "#f0f921"
             ]
            ],
            "type": "heatmap"
           }
          ],
          "heatmapgl": [
           {
            "colorbar": {
             "outlinewidth": 0,
             "ticks": ""
            },
            "colorscale": [
             [
              0,
              "#0d0887"
             ],
             [
              0.1111111111111111,
              "#46039f"
             ],
             [
              0.2222222222222222,
              "#7201a8"
             ],
             [
              0.3333333333333333,
              "#9c179e"
             ],
             [
              0.4444444444444444,
              "#bd3786"
             ],
             [
              0.5555555555555556,
              "#d8576b"
             ],
             [
              0.6666666666666666,
              "#ed7953"
             ],
             [
              0.7777777777777778,
              "#fb9f3a"
             ],
             [
              0.8888888888888888,
              "#fdca26"
             ],
             [
              1,
              "#f0f921"
             ]
            ],
            "type": "heatmapgl"
           }
          ],
          "histogram": [
           {
            "marker": {
             "pattern": {
              "fillmode": "overlay",
              "size": 10,
              "solidity": 0.2
             }
            },
            "type": "histogram"
           }
          ],
          "histogram2d": [
           {
            "colorbar": {
             "outlinewidth": 0,
             "ticks": ""
            },
            "colorscale": [
             [
              0,
              "#0d0887"
             ],
             [
              0.1111111111111111,
              "#46039f"
             ],
             [
              0.2222222222222222,
              "#7201a8"
             ],
             [
              0.3333333333333333,
              "#9c179e"
             ],
             [
              0.4444444444444444,
              "#bd3786"
             ],
             [
              0.5555555555555556,
              "#d8576b"
             ],
             [
              0.6666666666666666,
              "#ed7953"
             ],
             [
              0.7777777777777778,
              "#fb9f3a"
             ],
             [
              0.8888888888888888,
              "#fdca26"
             ],
             [
              1,
              "#f0f921"
             ]
            ],
            "type": "histogram2d"
           }
          ],
          "histogram2dcontour": [
           {
            "colorbar": {
             "outlinewidth": 0,
             "ticks": ""
            },
            "colorscale": [
             [
              0,
              "#0d0887"
             ],
             [
              0.1111111111111111,
              "#46039f"
             ],
             [
              0.2222222222222222,
              "#7201a8"
             ],
             [
              0.3333333333333333,
              "#9c179e"
             ],
             [
              0.4444444444444444,
              "#bd3786"
             ],
             [
              0.5555555555555556,
              "#d8576b"
             ],
             [
              0.6666666666666666,
              "#ed7953"
             ],
             [
              0.7777777777777778,
              "#fb9f3a"
             ],
             [
              0.8888888888888888,
              "#fdca26"
             ],
             [
              1,
              "#f0f921"
             ]
            ],
            "type": "histogram2dcontour"
           }
          ],
          "mesh3d": [
           {
            "colorbar": {
             "outlinewidth": 0,
             "ticks": ""
            },
            "type": "mesh3d"
           }
          ],
          "parcoords": [
           {
            "line": {
             "colorbar": {
              "outlinewidth": 0,
              "ticks": ""
             }
            },
            "type": "parcoords"
           }
          ],
          "pie": [
           {
            "automargin": true,
            "type": "pie"
           }
          ],
          "scatter": [
           {
            "marker": {
             "colorbar": {
              "outlinewidth": 0,
              "ticks": ""
             }
            },
            "type": "scatter"
           }
          ],
          "scatter3d": [
           {
            "line": {
             "colorbar": {
              "outlinewidth": 0,
              "ticks": ""
             }
            },
            "marker": {
             "colorbar": {
              "outlinewidth": 0,
              "ticks": ""
             }
            },
            "type": "scatter3d"
           }
          ],
          "scattercarpet": [
           {
            "marker": {
             "colorbar": {
              "outlinewidth": 0,
              "ticks": ""
             }
            },
            "type": "scattercarpet"
           }
          ],
          "scattergeo": [
           {
            "marker": {
             "colorbar": {
              "outlinewidth": 0,
              "ticks": ""
             }
            },
            "type": "scattergeo"
           }
          ],
          "scattergl": [
           {
            "marker": {
             "colorbar": {
              "outlinewidth": 0,
              "ticks": ""
             }
            },
            "type": "scattergl"
           }
          ],
          "scattermapbox": [
           {
            "marker": {
             "colorbar": {
              "outlinewidth": 0,
              "ticks": ""
             }
            },
            "type": "scattermapbox"
           }
          ],
          "scatterpolar": [
           {
            "marker": {
             "colorbar": {
              "outlinewidth": 0,
              "ticks": ""
             }
            },
            "type": "scatterpolar"
           }
          ],
          "scatterpolargl": [
           {
            "marker": {
             "colorbar": {
              "outlinewidth": 0,
              "ticks": ""
             }
            },
            "type": "scatterpolargl"
           }
          ],
          "scatterternary": [
           {
            "marker": {
             "colorbar": {
              "outlinewidth": 0,
              "ticks": ""
             }
            },
            "type": "scatterternary"
           }
          ],
          "surface": [
           {
            "colorbar": {
             "outlinewidth": 0,
             "ticks": ""
            },
            "colorscale": [
             [
              0,
              "#0d0887"
             ],
             [
              0.1111111111111111,
              "#46039f"
             ],
             [
              0.2222222222222222,
              "#7201a8"
             ],
             [
              0.3333333333333333,
              "#9c179e"
             ],
             [
              0.4444444444444444,
              "#bd3786"
             ],
             [
              0.5555555555555556,
              "#d8576b"
             ],
             [
              0.6666666666666666,
              "#ed7953"
             ],
             [
              0.7777777777777778,
              "#fb9f3a"
             ],
             [
              0.8888888888888888,
              "#fdca26"
             ],
             [
              1,
              "#f0f921"
             ]
            ],
            "type": "surface"
           }
          ],
          "table": [
           {
            "cells": {
             "fill": {
              "color": "#EBF0F8"
             },
             "line": {
              "color": "white"
             }
            },
            "header": {
             "fill": {
              "color": "#C8D4E3"
             },
             "line": {
              "color": "white"
             }
            },
            "type": "table"
           }
          ]
         },
         "layout": {
          "annotationdefaults": {
           "arrowcolor": "#2a3f5f",
           "arrowhead": 0,
           "arrowwidth": 1
          },
          "autotypenumbers": "strict",
          "coloraxis": {
           "colorbar": {
            "outlinewidth": 0,
            "ticks": ""
           }
          },
          "colorscale": {
           "diverging": [
            [
             0,
             "#8e0152"
            ],
            [
             0.1,
             "#c51b7d"
            ],
            [
             0.2,
             "#de77ae"
            ],
            [
             0.3,
             "#f1b6da"
            ],
            [
             0.4,
             "#fde0ef"
            ],
            [
             0.5,
             "#f7f7f7"
            ],
            [
             0.6,
             "#e6f5d0"
            ],
            [
             0.7,
             "#b8e186"
            ],
            [
             0.8,
             "#7fbc41"
            ],
            [
             0.9,
             "#4d9221"
            ],
            [
             1,
             "#276419"
            ]
           ],
           "sequential": [
            [
             0,
             "#0d0887"
            ],
            [
             0.1111111111111111,
             "#46039f"
            ],
            [
             0.2222222222222222,
             "#7201a8"
            ],
            [
             0.3333333333333333,
             "#9c179e"
            ],
            [
             0.4444444444444444,
             "#bd3786"
            ],
            [
             0.5555555555555556,
             "#d8576b"
            ],
            [
             0.6666666666666666,
             "#ed7953"
            ],
            [
             0.7777777777777778,
             "#fb9f3a"
            ],
            [
             0.8888888888888888,
             "#fdca26"
            ],
            [
             1,
             "#f0f921"
            ]
           ],
           "sequentialminus": [
            [
             0,
             "#0d0887"
            ],
            [
             0.1111111111111111,
             "#46039f"
            ],
            [
             0.2222222222222222,
             "#7201a8"
            ],
            [
             0.3333333333333333,
             "#9c179e"
            ],
            [
             0.4444444444444444,
             "#bd3786"
            ],
            [
             0.5555555555555556,
             "#d8576b"
            ],
            [
             0.6666666666666666,
             "#ed7953"
            ],
            [
             0.7777777777777778,
             "#fb9f3a"
            ],
            [
             0.8888888888888888,
             "#fdca26"
            ],
            [
             1,
             "#f0f921"
            ]
           ]
          },
          "colorway": [
           "#636efa",
           "#EF553B",
           "#00cc96",
           "#ab63fa",
           "#FFA15A",
           "#19d3f3",
           "#FF6692",
           "#B6E880",
           "#FF97FF",
           "#FECB52"
          ],
          "font": {
           "color": "#2a3f5f"
          },
          "geo": {
           "bgcolor": "white",
           "lakecolor": "white",
           "landcolor": "#E5ECF6",
           "showlakes": true,
           "showland": true,
           "subunitcolor": "white"
          },
          "hoverlabel": {
           "align": "left"
          },
          "hovermode": "closest",
          "mapbox": {
           "style": "light"
          },
          "paper_bgcolor": "white",
          "plot_bgcolor": "#E5ECF6",
          "polar": {
           "angularaxis": {
            "gridcolor": "white",
            "linecolor": "white",
            "ticks": ""
           },
           "bgcolor": "#E5ECF6",
           "radialaxis": {
            "gridcolor": "white",
            "linecolor": "white",
            "ticks": ""
           }
          },
          "scene": {
           "xaxis": {
            "backgroundcolor": "#E5ECF6",
            "gridcolor": "white",
            "gridwidth": 2,
            "linecolor": "white",
            "showbackground": true,
            "ticks": "",
            "zerolinecolor": "white"
           },
           "yaxis": {
            "backgroundcolor": "#E5ECF6",
            "gridcolor": "white",
            "gridwidth": 2,
            "linecolor": "white",
            "showbackground": true,
            "ticks": "",
            "zerolinecolor": "white"
           },
           "zaxis": {
            "backgroundcolor": "#E5ECF6",
            "gridcolor": "white",
            "gridwidth": 2,
            "linecolor": "white",
            "showbackground": true,
            "ticks": "",
            "zerolinecolor": "white"
           }
          },
          "shapedefaults": {
           "line": {
            "color": "#2a3f5f"
           }
          },
          "ternary": {
           "aaxis": {
            "gridcolor": "white",
            "linecolor": "white",
            "ticks": ""
           },
           "baxis": {
            "gridcolor": "white",
            "linecolor": "white",
            "ticks": ""
           },
           "bgcolor": "#E5ECF6",
           "caxis": {
            "gridcolor": "white",
            "linecolor": "white",
            "ticks": ""
           }
          },
          "title": {
           "x": 0.05
          },
          "xaxis": {
           "automargin": true,
           "gridcolor": "white",
           "linecolor": "white",
           "ticks": "",
           "title": {
            "standoff": 15
           },
           "zerolinecolor": "white",
           "zerolinewidth": 2
          },
          "yaxis": {
           "automargin": true,
           "gridcolor": "white",
           "linecolor": "white",
           "ticks": "",
           "title": {
            "standoff": 15
           },
           "zerolinecolor": "white",
           "zerolinewidth": 2
          }
         }
        },
        "xaxis": {
         "anchor": "y",
         "domain": [
          0,
          1
         ],
         "title": {
          "text": "예측관객수"
         }
        },
        "yaxis": {
         "anchor": "x",
         "domain": [
          0,
          1
         ],
         "title": {
          "text": "count"
         }
        }
       }
      }
     },
     "metadata": {},
     "output_type": "display_data"
    }
   ],
   "source": [
    "fig = px.histogram(movie_predict, x='예측관객수')\n",
    "fig.show()"
   ]
  },
  {
   "cell_type": "markdown",
   "metadata": {},
   "source": [
    "#### 결과"
   ]
  },
  {
   "cell_type": "markdown",
   "metadata": {},
   "source": [
    "- 2011년 ~ 2019년 데이터로 예측한 결과는 실제 관객수가 커질수록 예측 관객수가 적은 경우가 대부분이였다.\n",
    "- 2020년 데이터로 예측한 결과는 관객수가 적었던 영화를 제외하고는 실제 관객수가 커질수록 예측 관객수가 높은 값을 기록하였다.\n",
    "- 이러한 차이가 코로나19의 영향이라고 판단하였다."
   ]
  },
  {
   "cell_type": "markdown",
   "metadata": {},
   "source": [
    "## ◾모델 구현3\n",
    "- log scale 적용"
   ]
  },
  {
   "cell_type": "code",
   "execution_count": 208,
   "metadata": {},
   "outputs": [
    {
     "data": {
      "text/plain": [
       "Index(['전국스크린수', '영화형태_단편', '영화형태_옴니버스', '영화형태_장편', '국적_기타', '국적_미국', '국적_일본',\n",
       "       '국적_한국', '장르_SF', '장르_가족', '장르_공연', '장르_공포(호러)', '장르_기타', '장르_다큐멘터리',\n",
       "       '장르_드라마', '장르_멜로/로맨스', '장르_뮤지컬', '장르_미스터리', '장르_범죄', '장르_사극',\n",
       "       '장르_서부극(웨스턴)', '장르_스릴러', '장르_애니메이션', '장르_액션', '장르_어드벤처', '장르_전쟁',\n",
       "       '장르_코미디', '장르_판타지', '등급_12세관람가', '등급_15세관람가', '등급_전체관람가', '등급_청소년관람불가',\n",
       "       '영화구분_독립/예술영화', '영화구분_일반영화', '평점', '상영시간', '감독_흥행', '주연배우_흥행'],\n",
       "      dtype='object')"
      ]
     },
     "execution_count": 208,
     "metadata": {},
     "output_type": "execute_result"
    }
   ],
   "source": [
    "X.columns"
   ]
  },
  {
   "cell_type": "markdown",
   "metadata": {},
   "source": [
    "#### 각 수치형의 분포 확인"
   ]
  },
  {
   "cell_type": "markdown",
   "metadata": {},
   "source": [
    "- 전체적으로 편향된 데이터이므로 `상영시간`을 제외한 컬럼들에 log scale을 적용시킨다."
   ]
  },
  {
   "cell_type": "markdown",
   "metadata": {},
   "source": [
    "- 전국 스크린수"
   ]
  },
  {
   "cell_type": "code",
   "execution_count": null,
   "metadata": {},
   "outputs": [
    {
     "data": {
      "image/png": "[encoded data removed]",
      "text/plain": [
       "<Figure size 504x360 with 1 Axes>"
      ]
     },
     "metadata": {
      "needs_background": "light"
     },
     "output_type": "display_data"
    }
   ],
   "source": [
    "plt.figure(figsize=(7, 5))\n",
    "sns.distplot(X['전국스크린수'])\n",
    "plt.show()"
   ]
  },
  {
   "cell_type": "markdown",
   "metadata": {},
   "source": [
    "- 평점"
   ]
  },
  {
   "cell_type": "code",
   "execution_count": null,
   "metadata": {},
   "outputs": [
    {
     "data": {
      "image/png": "[encoded data removed]",
      "text/plain": [
       "<Figure size 504x360 with 1 Axes>"
      ]
     },
     "metadata": {
      "needs_background": "light"
     },
     "output_type": "display_data"
    }
   ],
   "source": [
    "plt.figure(figsize=(7, 5))\n",
    "sns.distplot(X['평점'])\n",
    "plt.show()"
   ]
  },
  {
   "cell_type": "markdown",
   "metadata": {},
   "source": [
    "- 평가자수"
   ]
  },
  {
   "cell_type": "code",
   "execution_count": null,
   "metadata": {},
   "outputs": [
    {
     "data": {
      "image/png": "[encoded data removed]",
      "text/plain": [
       "<Figure size 504x360 with 1 Axes>"
      ]
     },
     "metadata": {
      "needs_background": "light"
     },
     "output_type": "display_data"
    }
   ],
   "source": [
    "plt.figure(figsize=(7, 5))\n",
    "sns.distplot(X['평가자수'])\n",
    "plt.show()"
   ]
  },
  {
   "cell_type": "markdown",
   "metadata": {},
   "source": [
    "- 상영시간"
   ]
  },
  {
   "cell_type": "code",
   "execution_count": null,
   "metadata": {},
   "outputs": [
    {
     "data": {
      "image/png": "[encoded data removed]",
      "text/plain": [
       "<Figure size 504x360 with 1 Axes>"
      ]
     },
     "metadata": {
      "needs_background": "light"
     },
     "output_type": "display_data"
    }
   ],
   "source": [
    "plt.figure(figsize=(7, 5))\n",
    "sns.distplot(X['상영시간'])\n",
    "plt.show()"
   ]
  },
  {
   "cell_type": "markdown",
   "metadata": {},
   "source": [
    "- 감독_흥행"
   ]
  },
  {
   "cell_type": "code",
   "execution_count": null,
   "metadata": {},
   "outputs": [
    {
     "data": {
      "image/png": "[encoded data removed]",
      "text/plain": [
       "<Figure size 504x360 with 1 Axes>"
      ]
     },
     "metadata": {
      "needs_background": "light"
     },
     "output_type": "display_data"
    }
   ],
   "source": [
    "plt.figure(figsize=(7, 5))\n",
    "sns.distplot(X['감독_흥행'])\n",
    "plt.show()"
   ]
  },
  {
   "cell_type": "markdown",
   "metadata": {},
   "source": [
    "- 주연배우_흥행"
   ]
  },
  {
   "cell_type": "code",
   "execution_count": null,
   "metadata": {},
   "outputs": [
    {
     "data": {
      "image/png": "[encoded data removed]",
      "text/plain": [
       "<Figure size 504x360 with 1 Axes>"
      ]
     },
     "metadata": {
      "needs_background": "light"
     },
     "output_type": "display_data"
    }
   ],
   "source": [
    "plt.figure(figsize=(7, 5))\n",
    "sns.distplot(X['주연배우_흥행'])\n",
    "plt.show()"
   ]
  },
  {
   "cell_type": "markdown",
   "metadata": {},
   "source": [
    "#### log scale 적용"
   ]
  },
  {
   "cell_type": "code",
   "execution_count": 209,
   "metadata": {},
   "outputs": [],
   "source": [
    "screen_log = np.log1p(X['전국스크린수'])\n",
    "score_log = np.log1p(X['평점'])\n",
    "director_log = np.log1p(X['감독_흥행'])\n",
    "actor_log = np.log1p(X['주연배우_흥행'])\n",
    "\n",
    "X_log = X.copy()\n",
    "X_log['전국스크린수'] = screen_log\n",
    "X_log['평점'] = score_log\n",
    "X_log['감독_흥행'] = director_log\n",
    "X_log['주연배우_흥행'] = actor_log\n",
    "\n",
    "X_train_log, X_test_log, y_train, y_test = train_test_split(X_log, y, test_size=0.2, random_state=13)"
   ]
  },
  {
   "cell_type": "markdown",
   "metadata": {},
   "source": [
    "### 1. 모델 수립 및 예측"
   ]
  },
  {
   "cell_type": "markdown",
   "metadata": {},
   "source": [
    "#### 선형 회귀 모델"
   ]
  },
  {
   "cell_type": "markdown",
   "metadata": {},
   "source": [
    "- 선형 회귀 모델 학습"
   ]
  },
  {
   "cell_type": "code",
   "execution_count": 210,
   "metadata": {},
   "outputs": [
    {
     "data": {
      "text/plain": [
       "LinearRegression()"
      ]
     },
     "execution_count": 210,
     "metadata": {},
     "output_type": "execute_result"
    }
   ],
   "source": [
    "lr_clf = LinearRegression()\n",
    "lr_clf.fit(X_train_log, y_train)"
   ]
  },
  {
   "cell_type": "markdown",
   "metadata": {},
   "source": [
    "- 예측 및 모델 평가\n",
    "  - 모델 평가는 RMSE(Root Mean Square Error)을 사용한다."
   ]
  },
  {
   "cell_type": "code",
   "execution_count": 211,
   "metadata": {},
   "outputs": [
    {
     "name": "stdout",
     "output_type": "stream",
     "text": [
      "RMSE of Train Data : 1331.5598788876862\n",
      "RMSE of Train Data : 1313.6438387681226\n"
     ]
    }
   ],
   "source": [
    "pred_tr = lr_clf.predict(X_train_log)\n",
    "pred_test = lr_clf.predict(X_test_log)\n",
    "rmse_tr = (np.sqrt(mean_squared_error(y_train, pred_tr)))\n",
    "rmse_test = (np.sqrt(mean_squared_error(y_test, pred_test)))\n",
    "\n",
    "print('RMSE of Train Data : {}'.format(rmse_tr))\n",
    "print('RMSE of Train Data : {}'.format(rmse_test))"
   ]
  },
  {
   "cell_type": "markdown",
   "metadata": {},
   "source": [
    "- 성능 평가(참값, 예측값 비교)"
   ]
  },
  {
   "cell_type": "code",
   "execution_count": 212,
   "metadata": {},
   "outputs": [
    {
     "data": {
      "image/png": "[encoded data removed]",
      "text/plain": [
       "<Figure size 576x576 with 1 Axes>"
      ]
     },
     "metadata": {
      "needs_background": "light"
     },
     "output_type": "display_data"
    }
   ],
   "source": [
    "plt.figure(figsize=(8, 8))\n",
    "plt.scatter(y_test, pred_test)\n",
    "plt.xlabel('Real Count(1000명)')\n",
    "plt.ylabel('Predicted Count(1000명)')\n",
    "plt.grid(True)\n",
    "plt.title('Real vs Predicted')\n",
    "plt.plot([0, 17500], [0, 17500], 'r')\n",
    "plt.show()"
   ]
  },
  {
   "cell_type": "markdown",
   "metadata": {},
   "source": [
    "#### 랜덤포레스트 회귀 모델"
   ]
  },
  {
   "cell_type": "markdown",
   "metadata": {},
   "source": [
    "- GridSearch를 이용해 최고의 모델을 뽑아 비교한다."
   ]
  },
  {
   "cell_type": "code",
   "execution_count": 214,
   "metadata": {},
   "outputs": [
    {
     "data": {
      "text/plain": [
       "GridSearchCV(cv=5, estimator=RandomForestRegressor(n_jobs=-1, random_state=13),\n",
       "             n_jobs=-1,\n",
       "             param_grid={'max_depth': [2, 4, 6, 8], 'min_samples_leaf': [8, 12],\n",
       "                         'min_samples_split': [8, 12],\n",
       "                         'n_estimators': [50, 100, 200]})"
      ]
     },
     "execution_count": 214,
     "metadata": {},
     "output_type": "execute_result"
    }
   ],
   "source": [
    "params = {\n",
    "    'max_depth' : [2, 4, 6, 8],           # depth 설정\n",
    "    'n_estimators' : [50, 100, 200],    # tree의 개수\n",
    "    'min_samples_leaf' : [8, 12],       # 각 결과 데이터의 최소 개수\n",
    "    'min_samples_split' : [8, 12]       # 분할의 최소 개수\n",
    "}\n",
    "rf_clf = RandomForestRegressor(random_state=13, n_jobs=-1)\n",
    "grid_cv = GridSearchCV(rf_clf, param_grid=params, cv=5, n_jobs=-1)\n",
    "grid_cv.fit(X_train_log, y_train)"
   ]
  },
  {
   "cell_type": "code",
   "execution_count": 215,
   "metadata": {},
   "outputs": [
    {
     "data": {
      "text/plain": [
       "{'max_depth': 8,\n",
       " 'min_samples_leaf': 8,\n",
       " 'min_samples_split': 8,\n",
       " 'n_estimators': 50}"
      ]
     },
     "execution_count": 215,
     "metadata": {},
     "output_type": "execute_result"
    }
   ],
   "source": [
    "grid_cv.best_params_"
   ]
  },
  {
   "cell_type": "code",
   "execution_count": 216,
   "metadata": {},
   "outputs": [
    {
     "name": "stdout",
     "output_type": "stream",
     "text": [
      "RMSE of Train Data : 821.9580646040138\n",
      "RMSE of Train Data : 1147.4308444426395\n"
     ]
    }
   ],
   "source": [
    "best_rf_clf = grid_cv.best_estimator_\n",
    "\n",
    "pred_tr = best_rf_clf.predict(X_train_log)\n",
    "pred_test = best_rf_clf.predict(X_test_log)\n",
    "rmse_tr = (np.sqrt(mean_squared_error(y_train, pred_tr)))\n",
    "rmse_test = (np.sqrt(mean_squared_error(y_test, pred_test)))\n",
    "\n",
    "print('RMSE of Train Data : {}'.format(rmse_tr))\n",
    "print('RMSE of Train Data : {}'.format(rmse_test))"
   ]
  },
  {
   "cell_type": "code",
   "execution_count": 217,
   "metadata": {},
   "outputs": [
    {
     "data": {
      "image/png": "[encoded data removed]",
      "text/plain": [
       "<Figure size 576x576 with 1 Axes>"
      ]
     },
     "metadata": {
      "needs_background": "light"
     },
     "output_type": "display_data"
    }
   ],
   "source": [
    "plt.figure(figsize=(8, 8))\n",
    "plt.scatter(y_test, pred_test)\n",
    "plt.xlabel('Real Count(1000명)')\n",
    "plt.ylabel('Predicted Count(1000명)')\n",
    "plt.grid(True)\n",
    "plt.title('Real vs Predicted')\n",
    "plt.plot([0, 17500], [0, 17500], 'r')\n",
    "plt.show()"
   ]
  },
  {
   "cell_type": "markdown",
   "metadata": {},
   "source": [
    "#### GBM 회귀"
   ]
  },
  {
   "cell_type": "code",
   "execution_count": 218,
   "metadata": {},
   "outputs": [
    {
     "data": {
      "text/plain": [
       "GridSearchCV(cv=5, estimator=GradientBoostingRegressor(random_state=13),\n",
       "             n_jobs=-1,\n",
       "             param_grid={'learning_rate': [0.08, 0.1, 0.12],\n",
       "                         'n_estimators': [50, 100, 200, 300]})"
      ]
     },
     "execution_count": 218,
     "metadata": {},
     "output_type": "execute_result"
    }
   ],
   "source": [
    "params = {\n",
    "    'n_estimators' : [50, 100, 200, 300], \n",
    "    'learning_rate' : [0.08, 0.1, 0.12],\n",
    "}\n",
    "\n",
    "gb_clf = GradientBoostingRegressor(random_state=13)\n",
    "grid_cv = GridSearchCV(gb_clf, param_grid=params, cv=5, n_jobs=-1)\n",
    "grid_cv.fit(X_train_log, y_train)"
   ]
  },
  {
   "cell_type": "code",
   "execution_count": 219,
   "metadata": {},
   "outputs": [
    {
     "data": {
      "text/plain": [
       "{'learning_rate': 0.08, 'n_estimators': 50}"
      ]
     },
     "execution_count": 219,
     "metadata": {},
     "output_type": "execute_result"
    }
   ],
   "source": [
    "grid_cv.best_params_"
   ]
  },
  {
   "cell_type": "code",
   "execution_count": 220,
   "metadata": {},
   "outputs": [
    {
     "name": "stdout",
     "output_type": "stream",
     "text": [
      "RMSE of Train Data : 762.9167928628029\n",
      "RMSE of Train Data : 1194.925837956348\n"
     ]
    }
   ],
   "source": [
    "best_gb_clf = grid_cv.best_estimator_\n",
    "\n",
    "pred_tr = best_gb_clf.predict(X_train_log)\n",
    "pred_test = best_gb_clf.predict(X_test_log)\n",
    "rmse_tr = (np.sqrt(mean_squared_error(y_train, pred_tr)))\n",
    "rmse_test = (np.sqrt(mean_squared_error(y_test, pred_test)))\n",
    "\n",
    "print('RMSE of Train Data : {}'.format(rmse_tr))\n",
    "print('RMSE of Train Data : {}'.format(rmse_test))"
   ]
  },
  {
   "cell_type": "code",
   "execution_count": 222,
   "metadata": {},
   "outputs": [
    {
     "data": {
      "image/png": "[encoded data removed]",
      "text/plain": [
       "<Figure size 576x576 with 1 Axes>"
      ]
     },
     "metadata": {
      "needs_background": "light"
     },
     "output_type": "display_data"
    }
   ],
   "source": [
    "plt.figure(figsize=(8, 8))\n",
    "plt.scatter(y_test, pred_test)\n",
    "plt.xlabel('Real Count(1000명)')\n",
    "plt.ylabel('Predicted Count(1000명)')\n",
    "plt.grid(True)\n",
    "plt.title('Real vs Predicted')\n",
    "plt.plot([0, 17500], [0, 17500], 'r')\n",
    "plt.show()"
   ]
  },
  {
   "cell_type": "markdown",
   "metadata": {},
   "source": [
    "### 2. 2020년 데이터 적용"
   ]
  },
  {
   "cell_type": "markdown",
   "metadata": {},
   "source": [
    "#### 2020년 데이터 예측"
   ]
  },
  {
   "cell_type": "markdown",
   "metadata": {},
   "source": [
    "- 2개의 모델을 비교했을 때 랜덤 포레스트 회귀 모델이 높은 성능을 냈다.\n",
    "- 높은 성능을 낸 `best_rfr_clf`를 이용해 2020년 데이터를 예측한다."
   ]
  },
  {
   "cell_type": "code",
   "execution_count": 223,
   "metadata": {},
   "outputs": [
    {
     "data": {
      "text/plain": [
       "((234, 38), (234,))"
      ]
     },
     "execution_count": 223,
     "metadata": {},
     "output_type": "execute_result"
    }
   ],
   "source": [
    "# 변수, 라벨 분리\n",
    "X_2020 = movie_2020.drop(not_used, axis=1)\n",
    "y_2020 = movie_2020['전국관객수'] / 1000\n",
    "\n",
    "X_2020.shape, y_2020.shape"
   ]
  },
  {
   "cell_type": "code",
   "execution_count": 225,
   "metadata": {},
   "outputs": [],
   "source": [
    "screen_log = np.log1p(X_2020['전국스크린수'])\n",
    "score_log = np.log1p(X_2020['평점'])\n",
    "director_log = np.log1p(X_2020['감독_흥행'])\n",
    "actor_log = np.log1p(X_2020['주연배우_흥행'])\n",
    "\n",
    "X_2020_log = X_2020.copy()\n",
    "X_2020_log['전국스크린수'] = screen_log\n",
    "X_2020_log['평점'] = score_log\n",
    "X_2020_log['감독_흥행'] = director_log\n",
    "X_2020_log['주연배우_흥행'] = actor_log"
   ]
  },
  {
   "cell_type": "markdown",
   "metadata": {},
   "source": [
    "- 모델 예측 및 평가\n",
    "  - 가장 잘 예측한 GBM 회귀 모델을 사용해서 예측한다."
   ]
  },
  {
   "cell_type": "code",
   "execution_count": 230,
   "metadata": {},
   "outputs": [
    {
     "name": "stdout",
     "output_type": "stream",
     "text": [
      "RMSE of 2020 Data : 1326.9215577528614\n"
     ]
    }
   ],
   "source": [
    "pred_2020 = best_gb_clf.predict(X_2020_log)\n",
    "rmse_2020 = (np.sqrt(mean_squared_error(y_2020, pred_2020)))\n",
    "\n",
    "print('RMSE of 2020 Data : {}'.format(rmse_2020))"
   ]
  },
  {
   "cell_type": "code",
   "execution_count": 229,
   "metadata": {},
   "outputs": [
    {
     "data": {
      "image/png": "[encoded data removed]",
      "text/plain": [
       "<Figure size 576x576 with 1 Axes>"
      ]
     },
     "metadata": {
      "needs_background": "light"
     },
     "output_type": "display_data"
    }
   ],
   "source": [
    "plt.figure(figsize=(8, 8))\n",
    "plt.scatter(y_2020, pred_2020)\n",
    "plt.xlabel('Real Count(1000명)')\n",
    "plt.ylabel('Predicted Count(1000명)')\n",
    "plt.title('Real vs Predicted')\n",
    "plt.grid(True)\n",
    "plt.plot([0, 5000], [0, 5000], 'r')\n",
    "plt.show()"
   ]
  },
  {
   "cell_type": "markdown",
   "metadata": {},
   "source": [
    "#### 실제값과 예측값 비교"
   ]
  },
  {
   "cell_type": "markdown",
   "metadata": {},
   "source": [
    "- 예측 결과를 `movie_2020`에 추가하여 비교해본다."
   ]
  },
  {
   "cell_type": "code",
   "execution_count": null,
   "metadata": {},
   "outputs": [],
   "source": [
    "movie_predict = movie_2020[['영화명','감독','개봉일','전국관객수']]\n",
    "# 1000으로 나눈 예측값이므로 다시 곱해준다.\n",
    "movie_predict['예측관객수'] = (pred_2020 * 1000).astype('int')\n",
    "movie_predict['diff'] = movie_predict['예측관객수']-movie_predict['전국관객수']"
   ]
  },
  {
   "cell_type": "code",
   "execution_count": null,
   "metadata": {},
   "outputs": [
    {
     "data": {
      "text/html": [
       "<div>\n",
       "<style scoped>\n",
       "    .dataframe tbody tr th:only-of-type {\n",
       "        vertical-align: middle;\n",
       "    }\n",
       "\n",
       "    .dataframe tbody tr th {\n",
       "        vertical-align: top;\n",
       "    }\n",
       "\n",
       "    .dataframe thead th {\n",
       "        text-align: right;\n",
       "    }\n",
       "</style>\n",
       "<table border=\"1\" class=\"dataframe\">\n",
       "  <thead>\n",
       "    <tr style=\"text-align: right;\">\n",
       "      <th></th>\n",
       "      <th>영화명</th>\n",
       "      <th>감독</th>\n",
       "      <th>개봉일</th>\n",
       "      <th>전국관객수</th>\n",
       "      <th>예측관객수</th>\n",
       "      <th>diff</th>\n",
       "    </tr>\n",
       "  </thead>\n",
       "  <tbody>\n",
       "    <tr>\n",
       "      <th>97</th>\n",
       "      <td>다만 악에서 구하소서</td>\n",
       "      <td>홍원찬</td>\n",
       "      <td>2020-08-05</td>\n",
       "      <td>4352669</td>\n",
       "      <td>8129325</td>\n",
       "      <td>3776656</td>\n",
       "    </tr>\n",
       "    <tr>\n",
       "      <th>251</th>\n",
       "      <td>#살아있다</td>\n",
       "      <td>조일형</td>\n",
       "      <td>2020-06-24</td>\n",
       "      <td>1903703</td>\n",
       "      <td>5541443</td>\n",
       "      <td>3637740</td>\n",
       "    </tr>\n",
       "    <tr>\n",
       "      <th>648</th>\n",
       "      <td>이웃사촌</td>\n",
       "      <td>이환경</td>\n",
       "      <td>2020-11-25</td>\n",
       "      <td>431559</td>\n",
       "      <td>3453312</td>\n",
       "      <td>3021753</td>\n",
       "    </tr>\n",
       "    <tr>\n",
       "      <th>585</th>\n",
       "      <td>침입자</td>\n",
       "      <td>손원평</td>\n",
       "      <td>2020-06-04</td>\n",
       "      <td>531212</td>\n",
       "      <td>3412304</td>\n",
       "      <td>2881092</td>\n",
       "    </tr>\n",
       "    <tr>\n",
       "      <th>823</th>\n",
       "      <td>뮬란</td>\n",
       "      <td>니키 카로</td>\n",
       "      <td>2020-09-17</td>\n",
       "      <td>236247</td>\n",
       "      <td>3033072</td>\n",
       "      <td>2796825</td>\n",
       "    </tr>\n",
       "  </tbody>\n",
       "</table>\n",
       "</div>"
      ],
      "text/plain": [
       "             영화명     감독        개봉일    전국관객수    예측관객수     diff\n",
       "97   다만 악에서 구하소서    홍원찬 2020-08-05  4352669  8129325  3776656\n",
       "251        #살아있다    조일형 2020-06-24  1903703  5541443  3637740\n",
       "648         이웃사촌    이환경 2020-11-25   431559  3453312  3021753\n",
       "585          침입자    손원평 2020-06-04   531212  3412304  2881092\n",
       "823           뮬란  니키 카로 2020-09-17   236247  3033072  2796825"
      ]
     },
     "execution_count": 667,
     "metadata": {},
     "output_type": "execute_result"
    }
   ],
   "source": [
    "movie_predict.sort_values('diff', ascending=False).head()"
   ]
  },
  {
   "cell_type": "code",
   "execution_count": null,
   "metadata": {},
   "outputs": [
    {
     "data": {
      "text/plain": [
       "199249.60256410256"
      ]
     },
     "execution_count": 668,
     "metadata": {},
     "output_type": "execute_result"
    }
   ],
   "source": [
    "movie_predict['전국관객수'].mean()"
   ]
  },
  {
   "cell_type": "code",
   "execution_count": null,
   "metadata": {},
   "outputs": [
    {
     "data": {
      "text/plain": [
       "524125.8418803419"
      ]
     },
     "execution_count": 669,
     "metadata": {},
     "output_type": "execute_result"
    }
   ],
   "source": [
    "movie_predict['예측관객수'].mean()"
   ]
  },
  {
   "cell_type": "code",
   "execution_count": null,
   "metadata": {},
   "outputs": [
    {
     "data": {
      "text/plain": [
       "324876.2393162393"
      ]
     },
     "execution_count": 670,
     "metadata": {},
     "output_type": "execute_result"
    }
   ],
   "source": [
    "movie_predict['diff'].mean()"
   ]
  },
  {
   "cell_type": "markdown",
   "metadata": {},
   "source": [
    "- 전국 관객수와 예측 관객수 히스토그램"
   ]
  },
  {
   "cell_type": "code",
   "execution_count": null,
   "metadata": {},
   "outputs": [
    {
     "data": {
      "application/vnd.plotly.v1+json": {
       "config": {
        "plotlyServerURL": "https://plot.ly"
       },
       "data": [
        {
         "alignmentgroup": "True",
         "bingroup": "x",
         "hovertemplate": "전국관객수=%{x}<br>count=%{y}<extra></extra>",
         "legendgroup": "",
         "marker": {
          "color": "#636efa",
          "pattern": {
           "shape": ""
          }
         },
         "name": "",
         "offsetgroup": "",
         "orientation": "v",
         "showlegend": false,
         "type": "histogram",
         "x": [
          4750104,
          4352669,
          3812080,
          2406232,
          1998987,
          1903703,
          1790797,
          1719592,
          1607082,
          1571774,
          1543813,
          1525718,
          1264970,
          1228685,
          1209689,
          893855,
          859072,
          626815,
          601675,
          575043,
          537470,
          531212,
          507265,
          431559,
          416739,
          403326,
          401411,
          351162,
          325869,
          284141,
          236247,
          233112,
          212439,
          190237,
          185653,
          179393,
          153178,
          150119,
          131693,
          127251,
          123329,
          118725,
          118112,
          109913,
          109207,
          108122,
          103534,
          103251,
          101616,
          100092,
          89719,
          88440,
          87996,
          81482,
          79877,
          79215,
          78929,
          72912,
          72886,
          72419,
          70019,
          65975,
          61897,
          60762,
          57883,
          56282,
          53684,
          51816,
          51381,
          50692,
          44989,
          43486,
          41680,
          37961,
          36986,
          36962,
          36405,
          36245,
          34115,
          31760,
          31548,
          29879,
          28884,
          27974,
          27928,
          27569,
          27330,
          26531,
          25383,
          25153,
          24635,
          24573,
          24000,
          23810,
          23613,
          23441,
          23247,
          22832,
          22729,
          22330,
          21692,
          21609,
          20784,
          20317,
          19632,
          19241,
          18197,
          18106,
          17663,
          17632,
          17607,
          17532,
          16137,
          15650,
          15593,
          15386,
          15229,
          15211,
          14799,
          14437,
          13702,
          13401,
          13003,
          12878,
          12785,
          12737,
          12692,
          12450,
          12403,
          12382,
          12137,
          11896,
          11579,
          11564,
          11409,
          11223,
          11000,
          10809,
          10472,
          10284,
          10210,
          9511,
          9463,
          9459,
          8915,
          8679,
          8639,
          8464,
          8454,
          8139,
          7531,
          7509,
          7324,
          7324,
          7221,
          7101,
          6896,
          6526,
          6378,
          6069,
          5960,
          5761,
          5744,
          5523,
          5456,
          5267,
          5218,
          5199,
          5120,
          5064,
          5045,
          4960,
          4878,
          4872,
          4828,
          4814,
          4777,
          4645,
          4587,
          4585,
          4478,
          4412,
          4380,
          4356,
          4267,
          4258,
          4185,
          4176,
          4168,
          4160,
          4109,
          4077,
          4072,
          4036,
          3883,
          3753,
          3694,
          3663,
          3646,
          3573,
          3467,
          3351,
          3330,
          3326,
          3274,
          3245,
          3214,
          2971,
          2950,
          2744,
          2730,
          2695,
          2623,
          2553,
          2541,
          2492,
          2411,
          2334,
          2319,
          2281,
          2235,
          2212,
          2052,
          2046,
          2042,
          2018,
          1955,
          1871,
          1690,
          1524,
          1459,
          1361,
          1254,
          1140
         ],
         "xaxis": "x",
         "yaxis": "y"
        }
       ],
       "layout": {
        "barmode": "relative",
        "legend": {
         "tracegroupgap": 0
        },
        "margin": {
         "t": 60
        },
        "template": {
         "data": {
          "bar": [
           {
            "error_x": {
             "color": "#2a3f5f"
            },
            "error_y": {
             "color": "#2a3f5f"
            },
            "marker": {
             "line": {
              "color": "#E5ECF6",
              "width": 0.5
             },
             "pattern": {
              "fillmode": "overlay",
              "size": 10,
              "solidity": 0.2
             }
            },
            "type": "bar"
           }
          ],
          "barpolar": [
           {
            "marker": {
             "line": {
              "color": "#E5ECF6",
              "width": 0.5
             },
             "pattern": {
              "fillmode": "overlay",
              "size": 10,
              "solidity": 0.2
             }
            },
            "type": "barpolar"
           }
          ],
          "carpet": [
           {
            "aaxis": {
             "endlinecolor": "#2a3f5f",
             "gridcolor": "white",
             "linecolor": "white",
             "minorgridcolor": "white",
             "startlinecolor": "#2a3f5f"
            },
            "baxis": {
             "endlinecolor": "#2a3f5f",
             "gridcolor": "white",
             "linecolor": "white",
             "minorgridcolor": "white",
             "startlinecolor": "#2a3f5f"
            },
            "type": "carpet"
           }
          ],
          "choropleth": [
           {
            "colorbar": {
             "outlinewidth": 0,
             "ticks": ""
            },
            "type": "choropleth"
           }
          ],
          "contour": [
           {
            "colorbar": {
             "outlinewidth": 0,
             "ticks": ""
            },
            "colorscale": [
             [
              0,
              "#0d0887"
             ],
             [
              0.1111111111111111,
              "#46039f"
             ],
             [
              0.2222222222222222,
              "#7201a8"
             ],
             [
              0.3333333333333333,
              "#9c179e"
             ],
             [
              0.4444444444444444,
              "#bd3786"
             ],
             [
              0.5555555555555556,
              "#d8576b"
             ],
             [
              0.6666666666666666,
              "#ed7953"
             ],
             [
              0.7777777777777778,
              "#fb9f3a"
             ],
             [
              0.8888888888888888,
              "#fdca26"
             ],
             [
              1,
              "#f0f921"
             ]
            ],
            "type": "contour"
           }
          ],
          "contourcarpet": [
           {
            "colorbar": {
             "outlinewidth": 0,
             "ticks": ""
            },
            "type": "contourcarpet"
           }
          ],
          "heatmap": [
           {
            "colorbar": {
             "outlinewidth": 0,
             "ticks": ""
            },
            "colorscale": [
             [
              0,
              "#0d0887"
             ],
             [
              0.1111111111111111,
              "#46039f"
             ],
             [
              0.2222222222222222,
              "#7201a8"
             ],
             [
              0.3333333333333333,
              "#9c179e"
             ],
             [
              0.4444444444444444,
              "#bd3786"
             ],
             [
              0.5555555555555556,
              "#d8576b"
             ],
             [
              0.6666666666666666,
              "#ed7953"
             ],
             [
              0.7777777777777778,
              "#fb9f3a"
             ],
             [
              0.8888888888888888,
              "#fdca26"
             ],
             [
              1,
              "#f0f921"
             ]
            ],
            "type": "heatmap"
           }
          ],
          "heatmapgl": [
           {
            "colorbar": {
             "outlinewidth": 0,
             "ticks": ""
            },
            "colorscale": [
             [
              0,
              "#0d0887"
             ],
             [
              0.1111111111111111,
              "#46039f"
             ],
             [
              0.2222222222222222,
              "#7201a8"
             ],
             [
              0.3333333333333333,
              "#9c179e"
             ],
             [
              0.4444444444444444,
              "#bd3786"
             ],
             [
              0.5555555555555556,
              "#d8576b"
             ],
             [
              0.6666666666666666,
              "#ed7953"
             ],
             [
              0.7777777777777778,
              "#fb9f3a"
             ],
             [
              0.8888888888888888,
              "#fdca26"
             ],
             [
              1,
              "#f0f921"
             ]
            ],
            "type": "heatmapgl"
           }
          ],
          "histogram": [
           {
            "marker": {
             "pattern": {
              "fillmode": "overlay",
              "size": 10,
              "solidity": 0.2
             }
            },
            "type": "histogram"
           }
          ],
          "histogram2d": [
           {
            "colorbar": {
             "outlinewidth": 0,
             "ticks": ""
            },
            "colorscale": [
             [
              0,
              "#0d0887"
             ],
             [
              0.1111111111111111,
              "#46039f"
             ],
             [
              0.2222222222222222,
              "#7201a8"
             ],
             [
              0.3333333333333333,
              "#9c179e"
             ],
             [
              0.4444444444444444,
              "#bd3786"
             ],
             [
              0.5555555555555556,
              "#d8576b"
             ],
             [
              0.6666666666666666,
              "#ed7953"
             ],
             [
              0.7777777777777778,
              "#fb9f3a"
             ],
             [
              0.8888888888888888,
              "#fdca26"
             ],
             [
              1,
              "#f0f921"
             ]
            ],
            "type": "histogram2d"
           }
          ],
          "histogram2dcontour": [
           {
            "colorbar": {
             "outlinewidth": 0,
             "ticks": ""
            },
            "colorscale": [
             [
              0,
              "#0d0887"
             ],
             [
              0.1111111111111111,
              "#46039f"
             ],
             [
              0.2222222222222222,
              "#7201a8"
             ],
             [
              0.3333333333333333,
              "#9c179e"
             ],
             [
              0.4444444444444444,
              "#bd3786"
             ],
             [
              0.5555555555555556,
              "#d8576b"
             ],
             [
              0.6666666666666666,
              "#ed7953"
             ],
             [
              0.7777777777777778,
              "#fb9f3a"
             ],
             [
              0.8888888888888888,
              "#fdca26"
             ],
             [
              1,
              "#f0f921"
             ]
            ],
            "type": "histogram2dcontour"
           }
          ],
          "mesh3d": [
           {
            "colorbar": {
             "outlinewidth": 0,
             "ticks": ""
            },
            "type": "mesh3d"
           }
          ],
          "parcoords": [
           {
            "line": {
             "colorbar": {
              "outlinewidth": 0,
              "ticks": ""
             }
            },
            "type": "parcoords"
           }
          ],
          "pie": [
           {
            "automargin": true,
            "type": "pie"
           }
          ],
          "scatter": [
           {
            "marker": {
             "colorbar": {
              "outlinewidth": 0,
              "ticks": ""
             }
            },
            "type": "scatter"
           }
          ],
          "scatter3d": [
           {
            "line": {
             "colorbar": {
              "outlinewidth": 0,
              "ticks": ""
             }
            },
            "marker": {
             "colorbar": {
              "outlinewidth": 0,
              "ticks": ""
             }
            },
            "type": "scatter3d"
           }
          ],
          "scattercarpet": [
           {
            "marker": {
             "colorbar": {
              "outlinewidth": 0,
              "ticks": ""
             }
            },
            "type": "scattercarpet"
           }
          ],
          "scattergeo": [
           {
            "marker": {
             "colorbar": {
              "outlinewidth": 0,
              "ticks": ""
             }
            },
            "type": "scattergeo"
           }
          ],
          "scattergl": [
           {
            "marker": {
             "colorbar": {
              "outlinewidth": 0,
              "ticks": ""
             }
            },
            "type": "scattergl"
           }
          ],
          "scattermapbox": [
           {
            "marker": {
             "colorbar": {
              "outlinewidth": 0,
              "ticks": ""
             }
            },
            "type": "scattermapbox"
           }
          ],
          "scatterpolar": [
           {
            "marker": {
             "colorbar": {
              "outlinewidth": 0,
              "ticks": ""
             }
            },
            "type": "scatterpolar"
           }
          ],
          "scatterpolargl": [
           {
            "marker": {
             "colorbar": {
              "outlinewidth": 0,
              "ticks": ""
             }
            },
            "type": "scatterpolargl"
           }
          ],
          "scatterternary": [
           {
            "marker": {
             "colorbar": {
              "outlinewidth": 0,
              "ticks": ""
             }
            },
            "type": "scatterternary"
           }
          ],
          "surface": [
           {
            "colorbar": {
             "outlinewidth": 0,
             "ticks": ""
            },
            "colorscale": [
             [
              0,
              "#0d0887"
             ],
             [
              0.1111111111111111,
              "#46039f"
             ],
             [
              0.2222222222222222,
              "#7201a8"
             ],
             [
              0.3333333333333333,
              "#9c179e"
             ],
             [
              0.4444444444444444,
              "#bd3786"
             ],
             [
              0.5555555555555556,
              "#d8576b"
             ],
             [
              0.6666666666666666,
              "#ed7953"
             ],
             [
              0.7777777777777778,
              "#fb9f3a"
             ],
             [
              0.8888888888888888,
              "#fdca26"
             ],
             [
              1,
              "#f0f921"
             ]
            ],
            "type": "surface"
           }
          ],
          "table": [
           {
            "cells": {
             "fill": {
              "color": "#EBF0F8"
             },
             "line": {
              "color": "white"
             }
            },
            "header": {
             "fill": {
              "color": "#C8D4E3"
             },
             "line": {
              "color": "white"
             }
            },
            "type": "table"
           }
          ]
         },
         "layout": {
          "annotationdefaults": {
           "arrowcolor": "#2a3f5f",
           "arrowhead": 0,
           "arrowwidth": 1
          },
          "autotypenumbers": "strict",
          "coloraxis": {
           "colorbar": {
            "outlinewidth": 0,
            "ticks": ""
           }
          },
          "colorscale": {
           "diverging": [
            [
             0,
             "#8e0152"
            ],
            [
             0.1,
             "#c51b7d"
            ],
            [
             0.2,
             "#de77ae"
            ],
            [
             0.3,
             "#f1b6da"
            ],
            [
             0.4,
             "#fde0ef"
            ],
            [
             0.5,
             "#f7f7f7"
            ],
            [
             0.6,
             "#e6f5d0"
            ],
            [
             0.7,
             "#b8e186"
            ],
            [
             0.8,
             "#7fbc41"
            ],
            [
             0.9,
             "#4d9221"
            ],
            [
             1,
             "#276419"
            ]
           ],
           "sequential": [
            [
             0,
             "#0d0887"
            ],
            [
             0.1111111111111111,
             "#46039f"
            ],
            [
             0.2222222222222222,
             "#7201a8"
            ],
            [
             0.3333333333333333,
             "#9c179e"
            ],
            [
             0.4444444444444444,
             "#bd3786"
            ],
            [
             0.5555555555555556,
             "#d8576b"
            ],
            [
             0.6666666666666666,
             "#ed7953"
            ],
            [
             0.7777777777777778,
             "#fb9f3a"
            ],
            [
             0.8888888888888888,
             "#fdca26"
            ],
            [
             1,
             "#f0f921"
            ]
           ],
           "sequentialminus": [
            [
             0,
             "#0d0887"
            ],
            [
             0.1111111111111111,
             "#46039f"
            ],
            [
             0.2222222222222222,
             "#7201a8"
            ],
            [
             0.3333333333333333,
             "#9c179e"
            ],
            [
             0.4444444444444444,
             "#bd3786"
            ],
            [
             0.5555555555555556,
             "#d8576b"
            ],
            [
             0.6666666666666666,
             "#ed7953"
            ],
            [
             0.7777777777777778,
             "#fb9f3a"
            ],
            [
             0.8888888888888888,
             "#fdca26"
            ],
            [
             1,
             "#f0f921"
            ]
           ]
          },
          "colorway": [
           "#636efa",
           "#EF553B",
           "#00cc96",
           "#ab63fa",
           "#FFA15A",
           "#19d3f3",
           "#FF6692",
           "#B6E880",
           "#FF97FF",
           "#FECB52"
          ],
          "font": {
           "color": "#2a3f5f"
          },
          "geo": {
           "bgcolor": "white",
           "lakecolor": "white",
           "landcolor": "#E5ECF6",
           "showlakes": true,
           "showland": true,
           "subunitcolor": "white"
          },
          "hoverlabel": {
           "align": "left"
          },
          "hovermode": "closest",
          "mapbox": {
           "style": "light"
          },
          "paper_bgcolor": "white",
          "plot_bgcolor": "#E5ECF6",
          "polar": {
           "angularaxis": {
            "gridcolor": "white",
            "linecolor": "white",
            "ticks": ""
           },
           "bgcolor": "#E5ECF6",
           "radialaxis": {
            "gridcolor": "white",
            "linecolor": "white",
            "ticks": ""
           }
          },
          "scene": {
           "xaxis": {
            "backgroundcolor": "#E5ECF6",
            "gridcolor": "white",
            "gridwidth": 2,
            "linecolor": "white",
            "showbackground": true,
            "ticks": "",
            "zerolinecolor": "white"
           },
           "yaxis": {
            "backgroundcolor": "#E5ECF6",
            "gridcolor": "white",
            "gridwidth": 2,
            "linecolor": "white",
            "showbackground": true,
            "ticks": "",
            "zerolinecolor": "white"
           },
           "zaxis": {
            "backgroundcolor": "#E5ECF6",
            "gridcolor": "white",
            "gridwidth": 2,
            "linecolor": "white",
            "showbackground": true,
            "ticks": "",
            "zerolinecolor": "white"
           }
          },
          "shapedefaults": {
           "line": {
            "color": "#2a3f5f"
           }
          },
          "ternary": {
           "aaxis": {
            "gridcolor": "white",
            "linecolor": "white",
            "ticks": ""
           },
           "baxis": {
            "gridcolor": "white",
            "linecolor": "white",
            "ticks": ""
           },
           "bgcolor": "#E5ECF6",
           "caxis": {
            "gridcolor": "white",
            "linecolor": "white",
            "ticks": ""
           }
          },
          "title": {
           "x": 0.05
          },
          "xaxis": {
           "automargin": true,
           "gridcolor": "white",
           "linecolor": "white",
           "ticks": "",
           "title": {
            "standoff": 15
           },
           "zerolinecolor": "white",
           "zerolinewidth": 2
          },
          "yaxis": {
           "automargin": true,
           "gridcolor": "white",
           "linecolor": "white",
           "ticks": "",
           "title": {
            "standoff": 15
           },
           "zerolinecolor": "white",
           "zerolinewidth": 2
          }
         }
        },
        "xaxis": {
         "anchor": "y",
         "domain": [
          0,
          1
         ],
         "title": {
          "text": "전국관객수"
         }
        },
        "yaxis": {
         "anchor": "x",
         "domain": [
          0,
          1
         ],
         "title": {
          "text": "count"
         }
        }
       }
      }
     },
     "metadata": {},
     "output_type": "display_data"
    }
   ],
   "source": [
    "fig = px.histogram(movie_predict, x='전국관객수')\n",
    "fig.show()"
   ]
  },
  {
   "cell_type": "code",
   "execution_count": null,
   "metadata": {},
   "outputs": [
    {
     "data": {
      "application/vnd.plotly.v1+json": {
       "config": {
        "plotlyServerURL": "https://plot.ly"
       },
       "data": [
        {
         "alignmentgroup": "True",
         "bingroup": "x",
         "hovertemplate": "예측관객수=%{x}<br>count=%{y}<extra></extra>",
         "legendgroup": "",
         "marker": {
          "color": "#636efa",
          "pattern": {
           "shape": ""
          }
         },
         "name": "",
         "offsetgroup": "",
         "orientation": "v",
         "showlegend": false,
         "type": "histogram",
         "x": [
          8159288,
          12279774,
          8327078,
          3757883,
          7515925,
          4387096,
          5615219,
          4015800,
          1900476,
          5113005,
          3486544,
          2454439,
          1372272,
          1701510,
          1862180,
          2374765,
          2130681,
          1540602,
          1426833,
          1770835,
          1397179,
          1585808,
          1664005,
          1748360,
          1289724,
          1454192,
          1500318,
          1457573,
          1156563,
          1043196,
          1583040,
          1202857,
          1161311,
          1770835,
          1395903,
          963389,
          421713,
          1430480,
          112096,
          589232,
          691084,
          651079,
          752747,
          356181,
          672773,
          885807,
          274356,
          276374,
          1356622,
          112096,
          361181,
          563954,
          75523,
          1225364,
          493900,
          674262,
          361181,
          211411,
          218819,
          480314,
          286721,
          290306,
          885807,
          182245,
          257368,
          112096,
          290306,
          651079,
          290306,
          75523,
          92561,
          59572,
          1110239,
          343230,
          191345,
          290306,
          75523,
          493900,
          205888,
          92561,
          166066,
          209473,
          193523,
          133790,
          92561,
          96146,
          153701,
          92561,
          563954,
          1206241,
          691084,
          361181,
          189938,
          150116,
          59572,
          270771,
          169652,
          490315,
          290306,
          59572,
          75523,
          205888,
          100444,
          96146,
          96146,
          88079,
          189938,
          96146,
          92561,
          308414,
          59572,
          150116,
          209473,
          96146,
          59572,
          274356,
          96146,
          55987,
          59572,
          75523,
          150116,
          114589,
          59572,
          166066,
          96146,
          59572,
          92561,
          207826,
          59572,
          96146,
          153701,
          59572,
          59572,
          150116,
          96146,
          153701,
          96146,
          96146,
          59572,
          59572,
          118174,
          2659332,
          55987,
          96146,
          150116,
          1562847,
          59572,
          59572,
          59572,
          150116,
          96146,
          96146,
          59572,
          118174,
          92561,
          134124,
          59572,
          59572,
          96146,
          59572,
          88079,
          150116,
          59572,
          59572,
          80640,
          59572,
          59572,
          59572,
          96146,
          55987,
          59572,
          55987,
          59572,
          64631,
          59572,
          59572,
          59572,
          59572,
          92561,
          59572,
          55987,
          59572,
          59572,
          55987,
          92561,
          59572,
          59572,
          59572,
          59572,
          88079,
          59572,
          92561,
          59572,
          59572,
          59572,
          59572,
          59572,
          75523,
          59572,
          59572,
          55987,
          55987,
          88079,
          59572,
          55987,
          59572,
          59572,
          59572,
          75523,
          55987,
          55987,
          59572,
          55987,
          84494,
          59572,
          55987,
          55987,
          59572,
          55987,
          59572,
          59572,
          59572,
          55987,
          55987,
          59572,
          71938,
          59572,
          59572,
          55987,
          59572,
          59572,
          55987,
          55987,
          59572
         ],
         "xaxis": "x",
         "yaxis": "y"
        }
       ],
       "layout": {
        "barmode": "relative",
        "legend": {
         "tracegroupgap": 0
        },
        "margin": {
         "t": 60
        },
        "template": {
         "data": {
          "bar": [
           {
            "error_x": {
             "color": "#2a3f5f"
            },
            "error_y": {
             "color": "#2a3f5f"
            },
            "marker": {
             "line": {
              "color": "#E5ECF6",
              "width": 0.5
             },
             "pattern": {
              "fillmode": "overlay",
              "size": 10,
              "solidity": 0.2
             }
            },
            "type": "bar"
           }
          ],
          "barpolar": [
           {
            "marker": {
             "line": {
              "color": "#E5ECF6",
              "width": 0.5
             },
             "pattern": {
              "fillmode": "overlay",
              "size": 10,
              "solidity": 0.2
             }
            },
            "type": "barpolar"
           }
          ],
          "carpet": [
           {
            "aaxis": {
             "endlinecolor": "#2a3f5f",
             "gridcolor": "white",
             "linecolor": "white",
             "minorgridcolor": "white",
             "startlinecolor": "#2a3f5f"
            },
            "baxis": {
             "endlinecolor": "#2a3f5f",
             "gridcolor": "white",
             "linecolor": "white",
             "minorgridcolor": "white",
             "startlinecolor": "#2a3f5f"
            },
            "type": "carpet"
           }
          ],
          "choropleth": [
           {
            "colorbar": {
             "outlinewidth": 0,
             "ticks": ""
            },
            "type": "choropleth"
           }
          ],
          "contour": [
           {
            "colorbar": {
             "outlinewidth": 0,
             "ticks": ""
            },
            "colorscale": [
             [
              0,
              "#0d0887"
             ],
             [
              0.1111111111111111,
              "#46039f"
             ],
             [
              0.2222222222222222,
              "#7201a8"
             ],
             [
              0.3333333333333333,
              "#9c179e"
             ],
             [
              0.4444444444444444,
              "#bd3786"
             ],
             [
              0.5555555555555556,
              "#d8576b"
             ],
             [
              0.6666666666666666,
              "#ed7953"
             ],
             [
              0.7777777777777778,
              "#fb9f3a"
             ],
             [
              0.8888888888888888,
              "#fdca26"
             ],
             [
              1,
              "#f0f921"
             ]
            ],
            "type": "contour"
           }
          ],
          "contourcarpet": [
           {
            "colorbar": {
             "outlinewidth": 0,
             "ticks": ""
            },
            "type": "contourcarpet"
           }
          ],
          "heatmap": [
           {
            "colorbar": {
             "outlinewidth": 0,
             "ticks": ""
            },
            "colorscale": [
             [
              0,
              "#0d0887"
             ],
             [
              0.1111111111111111,
              "#46039f"
             ],
             [
              0.2222222222222222,
              "#7201a8"
             ],
             [
              0.3333333333333333,
              "#9c179e"
             ],
             [
              0.4444444444444444,
              "#bd3786"
             ],
             [
              0.5555555555555556,
              "#d8576b"
             ],
             [
              0.6666666666666666,
              "#ed7953"
             ],
             [
              0.7777777777777778,
              "#fb9f3a"
             ],
             [
              0.8888888888888888,
              "#fdca26"
             ],
             [
              1,
              "#f0f921"
             ]
            ],
            "type": "heatmap"
           }
          ],
          "heatmapgl": [
           {
            "colorbar": {
             "outlinewidth": 0,
             "ticks": ""
            },
            "colorscale": [
             [
              0,
              "#0d0887"
             ],
             [
              0.1111111111111111,
              "#46039f"
             ],
             [
              0.2222222222222222,
              "#7201a8"
             ],
             [
              0.3333333333333333,
              "#9c179e"
             ],
             [
              0.4444444444444444,
              "#bd3786"
             ],
             [
              0.5555555555555556,
              "#d8576b"
             ],
             [
              0.6666666666666666,
              "#ed7953"
             ],
             [
              0.7777777777777778,
              "#fb9f3a"
             ],
             [
              0.8888888888888888,
              "#fdca26"
             ],
             [
              1,
              "#f0f921"
             ]
            ],
            "type": "heatmapgl"
           }
          ],
          "histogram": [
           {
            "marker": {
             "pattern": {
              "fillmode": "overlay",
              "size": 10,
              "solidity": 0.2
             }
            },
            "type": "histogram"
           }
          ],
          "histogram2d": [
           {
            "colorbar": {
             "outlinewidth": 0,
             "ticks": ""
            },
            "colorscale": [
             [
              0,
              "#0d0887"
             ],
             [
              0.1111111111111111,
              "#46039f"
             ],
             [
              0.2222222222222222,
              "#7201a8"
             ],
             [
              0.3333333333333333,
              "#9c179e"
             ],
             [
              0.4444444444444444,
              "#bd3786"
             ],
             [
              0.5555555555555556,
              "#d8576b"
             ],
             [
              0.6666666666666666,
              "#ed7953"
             ],
             [
              0.7777777777777778,
              "#fb9f3a"
             ],
             [
              0.8888888888888888,
              "#fdca26"
             ],
             [
              1,
              "#f0f921"
             ]
            ],
            "type": "histogram2d"
           }
          ],
          "histogram2dcontour": [
           {
            "colorbar": {
             "outlinewidth": 0,
             "ticks": ""
            },
            "colorscale": [
             [
              0,
              "#0d0887"
             ],
             [
              0.1111111111111111,
              "#46039f"
             ],
             [
              0.2222222222222222,
              "#7201a8"
             ],
             [
              0.3333333333333333,
              "#9c179e"
             ],
             [
              0.4444444444444444,
              "#bd3786"
             ],
             [
              0.5555555555555556,
              "#d8576b"
             ],
             [
              0.6666666666666666,
              "#ed7953"
             ],
             [
              0.7777777777777778,
              "#fb9f3a"
             ],
             [
              0.8888888888888888,
              "#fdca26"
             ],
             [
              1,
              "#f0f921"
             ]
            ],
            "type": "histogram2dcontour"
           }
          ],
          "mesh3d": [
           {
            "colorbar": {
             "outlinewidth": 0,
             "ticks": ""
            },
            "type": "mesh3d"
           }
          ],
          "parcoords": [
           {
            "line": {
             "colorbar": {
              "outlinewidth": 0,
              "ticks": ""
             }
            },
            "type": "parcoords"
           }
          ],
          "pie": [
           {
            "automargin": true,
            "type": "pie"
           }
          ],
          "scatter": [
           {
            "marker": {
             "colorbar": {
              "outlinewidth": 0,
              "ticks": ""
             }
            },
            "type": "scatter"
           }
          ],
          "scatter3d": [
           {
            "line": {
             "colorbar": {
              "outlinewidth": 0,
              "ticks": ""
             }
            },
            "marker": {
             "colorbar": {
              "outlinewidth": 0,
              "ticks": ""
             }
            },
            "type": "scatter3d"
           }
          ],
          "scattercarpet": [
           {
            "marker": {
             "colorbar": {
              "outlinewidth": 0,
              "ticks": ""
             }
            },
            "type": "scattercarpet"
           }
          ],
          "scattergeo": [
           {
            "marker": {
             "colorbar": {
              "outlinewidth": 0,
              "ticks": ""
             }
            },
            "type": "scattergeo"
           }
          ],
          "scattergl": [
           {
            "marker": {
             "colorbar": {
              "outlinewidth": 0,
              "ticks": ""
             }
            },
            "type": "scattergl"
           }
          ],
          "scattermapbox": [
           {
            "marker": {
             "colorbar": {
              "outlinewidth": 0,
              "ticks": ""
             }
            },
            "type": "scattermapbox"
           }
          ],
          "scatterpolar": [
           {
            "marker": {
             "colorbar": {
              "outlinewidth": 0,
              "ticks": ""
             }
            },
            "type": "scatterpolar"
           }
          ],
          "scatterpolargl": [
           {
            "marker": {
             "colorbar": {
              "outlinewidth": 0,
              "ticks": ""
             }
            },
            "type": "scatterpolargl"
           }
          ],
          "scatterternary": [
           {
            "marker": {
             "colorbar": {
              "outlinewidth": 0,
              "ticks": ""
             }
            },
            "type": "scatterternary"
           }
          ],
          "surface": [
           {
            "colorbar": {
             "outlinewidth": 0,
             "ticks": ""
            },
            "colorscale": [
             [
              0,
              "#0d0887"
             ],
             [
              0.1111111111111111,
              "#46039f"
             ],
             [
              0.2222222222222222,
              "#7201a8"
             ],
             [
              0.3333333333333333,
              "#9c179e"
             ],
             [
              0.4444444444444444,
              "#bd3786"
             ],
             [
              0.5555555555555556,
              "#d8576b"
             ],
             [
              0.6666666666666666,
              "#ed7953"
             ],
             [
              0.7777777777777778,
              "#fb9f3a"
             ],
             [
              0.8888888888888888,
              "#fdca26"
             ],
             [
              1,
              "#f0f921"
             ]
            ],
            "type": "surface"
           }
          ],
          "table": [
           {
            "cells": {
             "fill": {
              "color": "#EBF0F8"
             },
             "line": {
              "color": "white"
             }
            },
            "header": {
             "fill": {
              "color": "#C8D4E3"
             },
             "line": {
              "color": "white"
             }
            },
            "type": "table"
           }
          ]
         },
         "layout": {
          "annotationdefaults": {
           "arrowcolor": "#2a3f5f",
           "arrowhead": 0,
           "arrowwidth": 1
          },
          "autotypenumbers": "strict",
          "coloraxis": {
           "colorbar": {
            "outlinewidth": 0,
            "ticks": ""
           }
          },
          "colorscale": {
           "diverging": [
            [
             0,
             "#8e0152"
            ],
            [
             0.1,
             "#c51b7d"
            ],
            [
             0.2,
             "#de77ae"
            ],
            [
             0.3,
             "#f1b6da"
            ],
            [
             0.4,
             "#fde0ef"
            ],
            [
             0.5,
             "#f7f7f7"
            ],
            [
             0.6,
             "#e6f5d0"
            ],
            [
             0.7,
             "#b8e186"
            ],
            [
             0.8,
             "#7fbc41"
            ],
            [
             0.9,
             "#4d9221"
            ],
            [
             1,
             "#276419"
            ]
           ],
           "sequential": [
            [
             0,
             "#0d0887"
            ],
            [
             0.1111111111111111,
             "#46039f"
            ],
            [
             0.2222222222222222,
             "#7201a8"
            ],
            [
             0.3333333333333333,
             "#9c179e"
            ],
            [
             0.4444444444444444,
             "#bd3786"
            ],
            [
             0.5555555555555556,
             "#d8576b"
            ],
            [
             0.6666666666666666,
             "#ed7953"
            ],
            [
             0.7777777777777778,
             "#fb9f3a"
            ],
            [
             0.8888888888888888,
             "#fdca26"
            ],
            [
             1,
             "#f0f921"
            ]
           ],
           "sequentialminus": [
            [
             0,
             "#0d0887"
            ],
            [
             0.1111111111111111,
             "#46039f"
            ],
            [
             0.2222222222222222,
             "#7201a8"
            ],
            [
             0.3333333333333333,
             "#9c179e"
            ],
            [
             0.4444444444444444,
             "#bd3786"
            ],
            [
             0.5555555555555556,
             "#d8576b"
            ],
            [
             0.6666666666666666,
             "#ed7953"
            ],
            [
             0.7777777777777778,
             "#fb9f3a"
            ],
            [
             0.8888888888888888,
             "#fdca26"
            ],
            [
             1,
             "#f0f921"
            ]
           ]
          },
          "colorway": [
           "#636efa",
           "#EF553B",
           "#00cc96",
           "#ab63fa",
           "#FFA15A",
           "#19d3f3",
           "#FF6692",
           "#B6E880",
           "#FF97FF",
           "#FECB52"
          ],
          "font": {
           "color": "#2a3f5f"
          },
          "geo": {
           "bgcolor": "white",
           "lakecolor": "white",
           "landcolor": "#E5ECF6",
           "showlakes": true,
           "showland": true,
           "subunitcolor": "white"
          },
          "hoverlabel": {
           "align": "left"
          },
          "hovermode": "closest",
          "mapbox": {
           "style": "light"
          },
          "paper_bgcolor": "white",
          "plot_bgcolor": "#E5ECF6",
          "polar": {
           "angularaxis": {
            "gridcolor": "white",
            "linecolor": "white",
            "ticks": ""
           },
           "bgcolor": "#E5ECF6",
           "radialaxis": {
            "gridcolor": "white",
            "linecolor": "white",
            "ticks": ""
           }
          },
          "scene": {
           "xaxis": {
            "backgroundcolor": "#E5ECF6",
            "gridcolor": "white",
            "gridwidth": 2,
            "linecolor": "white",
            "showbackground": true,
            "ticks": "",
            "zerolinecolor": "white"
           },
           "yaxis": {
            "backgroundcolor": "#E5ECF6",
            "gridcolor": "white",
            "gridwidth": 2,
            "linecolor": "white",
            "showbackground": true,
            "ticks": "",
            "zerolinecolor": "white"
           },
           "zaxis": {
            "backgroundcolor": "#E5ECF6",
            "gridcolor": "white",
            "gridwidth": 2,
            "linecolor": "white",
            "showbackground": true,
            "ticks": "",
            "zerolinecolor": "white"
           }
          },
          "shapedefaults": {
           "line": {
            "color": "#2a3f5f"
           }
          },
          "ternary": {
           "aaxis": {
            "gridcolor": "white",
            "linecolor": "white",
            "ticks": ""
           },
           "baxis": {
            "gridcolor": "white",
            "linecolor": "white",
            "ticks": ""
           },
           "bgcolor": "#E5ECF6",
           "caxis": {
            "gridcolor": "white",
            "linecolor": "white",
            "ticks": ""
           }
          },
          "title": {
           "x": 0.05
          },
          "xaxis": {
           "automargin": true,
           "gridcolor": "white",
           "linecolor": "white",
           "ticks": "",
           "title": {
            "standoff": 15
           },
           "zerolinecolor": "white",
           "zerolinewidth": 2
          },
          "yaxis": {
           "automargin": true,
           "gridcolor": "white",
           "linecolor": "white",
           "ticks": "",
           "title": {
            "standoff": 15
           },
           "zerolinecolor": "white",
           "zerolinewidth": 2
          }
         }
        },
        "xaxis": {
         "anchor": "y",
         "domain": [
          0,
          1
         ],
         "title": {
          "text": "예측관객수"
         }
        },
        "yaxis": {
         "anchor": "x",
         "domain": [
          0,
          1
         ],
         "title": {
          "text": "count"
         }
        }
       }
      }
     },
     "metadata": {},
     "output_type": "display_data"
    }
   ],
   "source": [
    "fig = px.histogram(movie_predict, x='예측관객수')\n",
    "fig.show()"
   ]
  },
  {
   "cell_type": "markdown",
   "metadata": {},
   "source": [
    "#### 결과"
   ]
  },
  {
   "cell_type": "markdown",
   "metadata": {},
   "source": [
    "- 2011년 ~ 2019년 데이터로 예측한 결과는 실제 관객수가 커질수록 예측 관객수가 적은 경우가 대부분이였다.\n",
    "- 2020년 데이터로 예측한 결과는 관객수가 적었던 영화를 제외하고는 실제 관객수가 커질수록 예측 관객수가 높은 값을 기록하였다.\n",
    "- 이러한 차이가 코로나19의 영향이라고 판단하였다."
   ]
  }
 ],
 "metadata": {
  "interpreter": {
   "hash": "51b46dc78c05e2d39b28ced298f5e3e2fec06f080b2991ae6dc0981efed4b363"
  },
  "kernelspec": {
   "display_name": "Python 3.8.11 64-bit ('ds_study(38)': conda)",
   "language": "python",
   "name": "python3"
  },
  "language_info": {
   "codemirror_mode": {
    "name": "ipython",
    "version": 3
   },
   "file_extension": ".py",
   "mimetype": "text/x-python",
   "name": "python",
   "nbconvert_exporter": "python",
   "pygments_lexer": "ipython3",
   "version": "3.8.11"
  },
  "orig_nbformat": 4
 },
 "nbformat": 4,
 "nbformat_minor": 2
}
